{
 "cells": [
  {
   "cell_type": "markdown",
   "metadata": {},
   "source": [
    "# Page rank"
   ]
  },
  {
   "cell_type": "markdown",
   "metadata": {},
   "source": [
    "## Network classes"
   ]
  },
  {
   "cell_type": "code",
   "execution_count": 11,
   "metadata": {},
   "outputs": [],
   "source": [
    "class Network:   \n",
    "    def __init__(self):\n",
    "        self.pages = []\n",
    "        self.counter = 0\n",
    "    \n",
    "    def __iter__(self):\n",
    "        return iter(self.pages)\n",
    "    \n",
    "    def addPage(self, page):\n",
    "        page.id = self.counter\n",
    "        self.counter += 1\n",
    "        self.pages.append(page)\n",
    "        \n",
    "    def addPages(self, *args):\n",
    "        for page in args:\n",
    "            self.addPage(page)\n",
    "        \n",
    "    def getPages(self):\n",
    "        return self.pages\n",
    "    \n",
    "    def size(self):\n",
    "        return len(self.pages)\n",
    "    \n",
    "    def showRanking(self):\n",
    "        for page in self:\n",
    "            print(f'{page.name}: {page.rank}')"
   ]
  },
  {
   "cell_type": "code",
   "execution_count": 12,
   "metadata": {
    "collapsed": true
   },
   "outputs": [],
   "source": [
    "class Page:\n",
    "    def __init__(self, name):\n",
    "        self.name = name\n",
    "        self.links = []\n",
    "        \n",
    "    def __repr__(self):\n",
    "        return f'{self.id}: {self.name}'\n",
    "    \n",
    "    def addLinkTo(self, other):\n",
    "        self.links.append(other)\n",
    "        \n",
    "    def outDegree(self):\n",
    "        return len(self.links)"
   ]
  },
  {
   "cell_type": "markdown",
   "metadata": {},
   "source": [
    "### Example"
   ]
  },
  {
   "cell_type": "code",
   "execution_count": 13,
   "metadata": {},
   "outputs": [],
   "source": [
    "wiki = Page(\"Wikipedia\")\n",
    "yt = Page(\"YouTube\")\n",
    "wiki.addLinkTo(yt)"
   ]
  },
  {
   "cell_type": "code",
   "execution_count": 14,
   "metadata": {},
   "outputs": [],
   "source": [
    "internet = Network()\n",
    "internet.addPages(yt, wiki)"
   ]
  },
  {
   "cell_type": "code",
   "execution_count": 15,
   "metadata": {},
   "outputs": [
    {
     "data": {
      "text/plain": [
       "[0: YouTube, 1: Wikipedia]"
      ]
     },
     "execution_count": 15,
     "metadata": {},
     "output_type": "execute_result"
    }
   ],
   "source": [
    "pages = internet.getPages()\n",
    "pages"
   ]
  },
  {
   "cell_type": "code",
   "execution_count": 16,
   "metadata": {},
   "outputs": [
    {
     "data": {
      "text/plain": [
       "[0: YouTube]"
      ]
     },
     "execution_count": 16,
     "metadata": {},
     "output_type": "execute_result"
    }
   ],
   "source": [
    "pages[1].links"
   ]
  },
  {
   "cell_type": "markdown",
   "metadata": {},
   "source": [
    "## Ranking the pages"
   ]
  },
  {
   "cell_type": "code",
   "execution_count": 17,
   "metadata": {},
   "outputs": [],
   "source": [
    "class PageRanker:\n",
    "    @staticmethod\n",
    "    def rank(network, steps, alpha):\n",
    "        PageRanker.calculateInitialRanking(network)\n",
    "        PageRanker.calculateJumpingProbabilities(network)\n",
    "        \n",
    "        newRanks = {}\n",
    "        for _ in range(0, steps):\n",
    "            for page in network:\n",
    "                newRanks[page] = 0\n",
    "                for other in page.links:\n",
    "                    newRanks[page] += other.rank / page.outDegree()\n",
    "                newRanks[page] *= alpha\n",
    "                newRanks[page] += (1-alpha) * page.q\n",
    "                \n",
    "        for page in network:\n",
    "            page.rank = newRanks[page]\n",
    "    \n",
    "    @staticmethod\n",
    "    def calculateInitialRanking(network):\n",
    "        for page in network:\n",
    "            page.rank = 1 / network.size()\n",
    "            \n",
    "    @staticmethod\n",
    "    def calculateJumpingProbabilities(network):\n",
    "        for page in network:\n",
    "            page.q = 1 / network.size()"
   ]
  },
  {
   "cell_type": "markdown",
   "metadata": {},
   "source": [
    "### Example"
   ]
  },
  {
   "cell_type": "code",
   "execution_count": 20,
   "metadata": {},
   "outputs": [],
   "source": [
    "PageRanker.rank(internet, 1000, 0.5)"
   ]
  },
  {
   "cell_type": "code",
   "execution_count": 21,
   "metadata": {},
   "outputs": [
    {
     "name": "stdout",
     "output_type": "stream",
     "text": [
      "YouTube: 0.25\n",
      "Wikipedia: 0.5\n"
     ]
    }
   ],
   "source": [
    "internet.showRanking()"
   ]
  },
  {
   "cell_type": "code",
   "execution_count": null,
   "metadata": {
    "collapsed": true
   },
   "outputs": [],
   "source": []
  }
 ],
 "metadata": {
  "kernelspec": {
   "display_name": "Python 3",
   "language": "python",
   "name": "python3"
  },
  "language_info": {
   "codemirror_mode": {
    "name": "ipython",
    "version": 3
   },
   "file_extension": ".py",
   "mimetype": "text/x-python",
   "name": "python",
   "nbconvert_exporter": "python",
   "pygments_lexer": "ipython3",
   "version": "3.6.7"
  }
 },
 "nbformat": 4,
 "nbformat_minor": 2
}
