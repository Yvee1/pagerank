{
 "cells": [
  {
   "cell_type": "markdown",
   "metadata": {},
   "source": [
    "# Page rank"
   ]
  },
  {
   "cell_type": "markdown",
   "metadata": {},
   "source": [
    "## Imports"
   ]
  },
  {
   "cell_type": "code",
   "execution_count": null,
   "metadata": {},
   "outputs": [],
   "source": [
    "import matplotlib as mpl\n",
    "import matplotlib.pyplot as plt\n",
    "\n",
    "import seaborn as sns\n",
    "import pandas as pd\n",
    "\n",
    "import networkx as nx\n",
    "import graphviz as gv\n",
    "import random\n",
    "\n",
    "from typing import List"
   ]
  },
  {
   "cell_type": "markdown",
   "metadata": {},
   "source": [
    "## Network classes"
   ]
  },
  {
   "cell_type": "code",
   "execution_count": null,
   "metadata": {},
   "outputs": [],
   "source": [
    "class Page:\n",
    "    \"\"\"A class representing a webpage.\"\"\"\n",
    "    def __init__(self, name):\n",
    "        \"\"\"Constructor method, takes the name of the webpage as an argument.\"\"\"\n",
    "        self.name = name\n",
    "        self.outgoingLinks = []\n",
    "        self.incomingLinks = []\n",
    "        \n",
    "    def __repr__(self):\n",
    "        \"\"\"A page is represented by its name.\"\"\"\n",
    "        return self.name\n",
    "    \n",
    "    def addLinkFrom(self, other):\n",
    "        \"\"\"Adds a link from another page, ending at this page\"\"\"\n",
    "        self.incomingLinks.append(other)\n",
    "    \n",
    "    def addLinkTo(self, other):\n",
    "        \"\"\"Adds a link to another page, starting from this page\"\"\"\n",
    "        self.outgoingLinks.append(other)\n",
    "        other.addLinkFrom(self)\n",
    "        \n",
    "    def addLinksTo(self, *args):\n",
    "        \"\"\"Adds a link to another page, starting from this page\"\"\"\n",
    "        for page in args:\n",
    "            self.addLinkTo(page)\n",
    "        \n",
    "    def outDegree(self):\n",
    "        \"\"\"Returns the amount of links this page has to other pages, i.e. its out-degree\"\"\"\n",
    "        return len(self.outgoingLinks)\n",
    "    \n",
    "    def getName(self):\n",
    "        return self.name\n",
    "    \n",
    "    def linksTo(self, other) -> bool:\n",
    "        return other in self.outgoingLinks"
   ]
  },
  {
   "cell_type": "code",
   "execution_count": null,
   "metadata": {},
   "outputs": [],
   "source": [
    "class Network:\n",
    "    \"\"\"A class representing a network of webpages\"\"\"\n",
    "    def __init__(self):\n",
    "        \"\"\"A network starts without any pages.\"\"\"\n",
    "        self.pages = []\n",
    "        self.counter = 0\n",
    "        \n",
    "        # Whether the dataframe is out of date\n",
    "        self.old_df = True\n",
    "    \n",
    "    def __iter__(self):\n",
    "        \"\"\"Iterating over a network is the same as iterating over its pages.\"\"\"\n",
    "        return iter(self.pages)\n",
    "        \n",
    "    def addPage(self, page: Page):\n",
    "        \"\"\"Adds a page to the network\"\"\"\n",
    "        # give the page an id (since the name of the webpage doesn't have to be unique)\n",
    "        page.id = self.counter\n",
    "        self.counter += 1\n",
    "        self.pages.append(page)\n",
    "        \n",
    "        # Dataframe is out of date now\n",
    "        self.old_df = True\n",
    "        \n",
    "    def addPages(self, *args):\n",
    "        \"\"\"Adds multiple pages to the network\"\"\"\n",
    "        for page in args:\n",
    "            self.addPage(page)\n",
    "        \n",
    "    def getPages(self):\n",
    "        \"\"\"Returns the pages in the network.\"\"\"\n",
    "        return self.pages\n",
    "    \n",
    "    def size(self):\n",
    "        \"\"\"Returns the size of the network.\"\"\"\n",
    "        return len(self.pages)\n",
    "    \n",
    "    def showRanking(self):\n",
    "        \"\"\"\n",
    "        Prints the pages with their corresponding rank. \n",
    "        Not sorted on anything in particular, prints in increasing id.\n",
    "        \"\"\"\n",
    "        for page in self:\n",
    "            print(f'{page.name}: {page.rank}')\n",
    "            \n",
    "    def debugRanking(self):\n",
    "        \"\"\"\n",
    "        Computes the sum of the rank of all pages in the network, which *should* return 1.\n",
    "        \"\"\"\n",
    "        rankSum = 0\n",
    "        for page in self:\n",
    "            rankSum += page.rank\n",
    "        print(rankSum)\n",
    "\n",
    "    def getRankingOrder(self):\n",
    "        \"\"\"\n",
    "        Returns a dictionary of pages with their corresponding order statistic (e.g. 1st, 2nd etc), sorted in increasing order.\n",
    "        Note two pages may have the same order statistic\n",
    "        \"\"\"\n",
    "        ranks = {page: page.rank for page in self}\n",
    "        sorted_ranks = {k: v for k, v in sorted(ranks.items(), key=lambda item: item[1], reverse=True)}\n",
    "\n",
    "        sorted_orders = {}\n",
    "        \n",
    "        i = 0\n",
    "        previous_rank = 1\n",
    "        for page in sorted_ranks:\n",
    "            if sorted_ranks[page] < previous_rank:\n",
    "                i += 1\n",
    "            sorted_orders[page] = i\n",
    "            previous_rank = sorted_ranks[page]\n",
    "\n",
    "        return sorted_orders\n",
    "\n",
    "    def pageInTopN(self, page: Page, n: int) -> bool:\n",
    "        \"\"\"\n",
    "        Returns True if given page is in the top n of the network in terms of rank\n",
    "        \"\"\"\n",
    "        sorted_orders = self.getRankingOrder()\n",
    "        return sorted_orders[page] <= n\n",
    "        \n",
    "    def testUnconnected(self):\n",
    "        \"\"\"\n",
    "        Prints if there are unconnected pages (pages with no link to or from them) in the network.\n",
    "        \"\"\"\n",
    "        for page in self:\n",
    "            if (len(page.incomingLinks)==0) & (len(page.outgoingLinks)==0):\n",
    "                print(\"Page {} is unconnected\".format(page.getName()))\n",
    "        print(\"All unreported pages are connected to at least one other node via an incoming/outgoing link.\")\n",
    "        \n",
    "    def getPage(self, name: str):\n",
    "        \"\"\"\n",
    "        Returns page in this network with this name. \n",
    "        \"\"\"\n",
    "        for page in self:\n",
    "            if (page.getName() == name):\n",
    "                return page\n",
    "        print(\"Error, no page with name \" + name + \" found!\")\n",
    "    \n",
    "    # ----------------------------------------------------------\n",
    "    # --------------------- VISUALIZATION ----------------------\n",
    "    # ----------------------------------------------------------\n",
    "    \n",
    "    # ------------------- NODE-LINK DIAGRAMS ------------------- \n",
    "    def nxDiGraph(self):\n",
    "        \"\"\"Calculates networkx DiGraph\"\"\"\n",
    "        # make a directed graph\n",
    "        G = nx.DiGraph()\n",
    "        \n",
    "        # add all the edges and nodes to it\n",
    "        for page in self:\n",
    "            G.add_node(page)\n",
    "            for other in page.outgoingLinks:\n",
    "                G.add_edge(page, other)\n",
    "        \n",
    "        return G\n",
    "    \n",
    "    def plot1(self, names=False):\n",
    "        \"\"\"\n",
    "        Plot using networkx.\n",
    "        Node size based on *number of links*\n",
    "        \"\"\"\n",
    "        G = self.nxDiGraph()\n",
    "        \n",
    "        # calculate a layout (force-directed)\n",
    "        pos = nx.layout.spring_layout(G)\n",
    "\n",
    "        # scale nodes by amount of links\n",
    "        node_sizes = [1000 + 3000*len(page.outgoingLinks) for page in G.nodes()]\n",
    "        \n",
    "        if not names:\n",
    "            # labels\n",
    "            labels = {page:page.id for page in G.nodes()}\n",
    "            \n",
    "            nx.draw(G, pos, with_labels=True, labels=labels, node_size=node_sizes, arrowsize=40, font_color=\"white\")\n",
    "        else:\n",
    "            nx.draw(G, pos, with_labels=True, node_size=node_sizes, arrowsize=40, font_color=\"white\")\n",
    "        plt.show()\n",
    "    \n",
    "    def plot2(self, names=False):\n",
    "        \"\"\"Plot using networkx. Node size based on *rank*\"\"\"\n",
    "        G = self.nxDiGraph()\n",
    "        \n",
    "        # calculate a layout (force-directed)\n",
    "        pos = nx.layout.spring_layout(G)\n",
    "\n",
    "        # scale nodes by rank\n",
    "        node_sizes = [1000 + 3000*page.rank for page in G.nodes()]\n",
    "        \n",
    "        if not names:\n",
    "            # labels\n",
    "            labels = {page:page.id for page in G.nodes()}\n",
    "            \n",
    "            nx.draw(G, pos, with_labels=True, labels=labels, node_size=node_sizes, arrowsize=40, font_color=\"white\")\n",
    "        else:\n",
    "            nx.draw(G, pos, with_labels=True, node_size=node_sizes, arrowsize=40, font_color=\"white\")\n",
    "        plt.show()\n",
    "        \n",
    "    def plot0(self):\n",
    "        \"\"\"Plot using graphviz\"\"\"\n",
    "        f = gv.Digraph()\n",
    "        for page in self:\n",
    "            f.node(str(page))\n",
    "            for other in page.outgoingLinks:\n",
    "                f.edge(str(page), str(other))\n",
    "\n",
    "        return f\n",
    "    \n",
    "    # ----------------------- STATISTICS -----------------------\n",
    "    def updateDf(self):\n",
    "        \"\"\"Update pandas DataFrame of this network.\"\"\"\n",
    "        \n",
    "        # Prepare a dataframe\n",
    "        df = pd.DataFrame(columns=['Name', 'Outdegree', 'Indegree'])\n",
    "        \n",
    "        df['Name'] = list(map(Page.getName, self.pages))\n",
    "        df['Outdegree'] = list(map(Page.outDegree, self.pages))\n",
    "        df.fillna(0, inplace=True)\n",
    "        \n",
    "        # Count indegree of every page\n",
    "        for page in self:\n",
    "            for link in page.outgoingLinks:\n",
    "                df.at[link.id, 'Indegree'] += 1\n",
    "        \n",
    "        # Update dataframe\n",
    "        self.df = df\n",
    "        self.old_df = False\n",
    "        \n",
    "    def plot_outdegrees(self):\n",
    "        \"\"\"Plots a histogram of the outdegree of the pages in the network.\"\"\"\n",
    "        if self.old_df:\n",
    "            self.updateDf()\n",
    "        \n",
    "        ax = sns.distplot(self.df['Outdegree'], kde=False, rug=True)\n",
    "        ax.set_xlabel(\"Outdegree (number of links to other pages)\")\n",
    "        ax.set_ylabel(\"Frequency\")\n",
    "        \n",
    "    def plot_indegrees(self):\n",
    "        \"\"\"Plots a histogram of the indegree of the pages in the network.\"\"\"\n",
    "        if self.old_df:\n",
    "            self.updateDf()\n",
    "        \n",
    "        ax = sns.distplot(self.df['Indegree'], kde=False, rug=True)\n",
    "        ax.set_xlabel(\"Indegree (number of links to this page from other pages)\")\n",
    "        ax.set_ylabel(\"Frequency\")\n",
    "        \n",
    "    def describe(self):\n",
    "        \"\"\"Prints a table of summary statistics of this network.\"\"\"\n",
    "        if self.old_df:\n",
    "            self.updateDf()\n",
    "            \n",
    "        return self.df.describe()\n",
    "    \n",
    "    def getDf(self):\n",
    "        \"\"\"Returns the dataframe of this network, updates it when needed.\"\"\"\n",
    "        if self.old_df:\n",
    "            self.updateDf()\n",
    "            \n",
    "        return self.df\n",
    "    \n",
    "    def sinks(self):\n",
    "        \"\"\"Returns the sinks of the network.\"\"\"\n",
    "        if self.old_df:\n",
    "            self.updateDf()\n",
    "            \n",
    "        return self.df[self.df['Outdegree'] == 0]\n",
    "        \n",
    "    def sources(self):\n",
    "        \"\"\"Returns the sources of the network.\"\"\"\n",
    "        if self.old_df:\n",
    "            self.updateDf()\n",
    "            \n",
    "        return self.df[self.df['Indegree'] == 0]"
   ]
  },
  {
   "cell_type": "markdown",
   "metadata": {},
   "source": [
    "### Example Wikipedia-YouTube-Twitter"
   ]
  },
  {
   "cell_type": "code",
   "execution_count": null,
   "metadata": {},
   "outputs": [],
   "source": [
    "wiki = Page(\"Wikipedia\")\n",
    "yt = Page(\"YouTube\")\n",
    "twitter = Page(\"Twitter\")\n",
    "\n",
    "wiki.addLinkTo(yt)\n",
    "wiki.addLinkTo(twitter)\n",
    "yt.addLinkTo(twitter)\n",
    "twitter.addLinkTo(yt)"
   ]
  },
  {
   "cell_type": "code",
   "execution_count": null,
   "metadata": {},
   "outputs": [],
   "source": [
    "internet = Network()\n",
    "internet.addPages(yt, wiki, twitter)"
   ]
  },
  {
   "cell_type": "code",
   "execution_count": null,
   "metadata": {
    "scrolled": true
   },
   "outputs": [],
   "source": [
    "pages = internet.getPages()\n",
    "pages"
   ]
  },
  {
   "cell_type": "code",
   "execution_count": null,
   "metadata": {},
   "outputs": [],
   "source": [
    "yt.incomingLinks"
   ]
  },
  {
   "cell_type": "code",
   "execution_count": null,
   "metadata": {
    "scrolled": true
   },
   "outputs": [],
   "source": [
    "yt.outgoingLinks"
   ]
  },
  {
   "cell_type": "markdown",
   "metadata": {},
   "source": [
    "### Example California Network"
   ]
  },
  {
   "cell_type": "code",
   "execution_count": null,
   "metadata": {},
   "outputs": [],
   "source": [
    "with open(\"california.txt\") as f:\n",
    "    content = f.read().splitlines()"
   ]
  },
  {
   "cell_type": "code",
   "execution_count": null,
   "metadata": {},
   "outputs": [],
   "source": [
    "california = Network()\n",
    "for line in content:\n",
    "    if line[0] == 'n':\n",
    "        california.addPage(Page(line.split()[2]))\n",
    "    elif line[0] == 'e':\n",
    "        n1 = california.pages[int(line.split()[1])]\n",
    "        n2 = california.pages[int(line.split()[2])]\n",
    "        \n",
    "        n1.addLinkTo(n2)"
   ]
  },
  {
   "cell_type": "markdown",
   "metadata": {},
   "source": [
    "## Ranking the pages"
   ]
  },
  {
   "cell_type": "code",
   "execution_count": null,
   "metadata": {},
   "outputs": [],
   "source": [
    "class PageRanker:\n",
    "    \"\"\"A static class for ranking a network.\"\"\"\n",
    "    \n",
    "    @staticmethod\n",
    "    def rankCR(network: Network, steps: int = None, alpha: float = 0.85, epsilon: float = 1e-9, qis: List[float] = None): # rankCR = rankCertainRestart\n",
    "        \"\"\"\n",
    "        Ranks a network via the PageRank algorithm.\n",
    "        \n",
    "        --- Parameters ---\n",
    "        network: The Network to rank.\n",
    "        steps: The number of iterations to do.\n",
    "        alpha: The probability of going to another page via clicking a link.\n",
    "        \"\"\"\n",
    "        initRanks = PageRanker.calculateInitialRanking(network)\n",
    "        \n",
    "        if qis == None:\n",
    "            PageRanker.calculateJumpingProbabilities(network)\n",
    "        else:\n",
    "            for i, page in enumerate(network):\n",
    "                page.q = qis[i]\n",
    "        \n",
    "        if steps != None:\n",
    "            for _ in range(0, steps):\n",
    "                PageRanker.stepRankCR(network, alpha)\n",
    "        \n",
    "        else:\n",
    "            n = 0\n",
    "            oldRanks = initRanks\n",
    "            while True:\n",
    "                n += 1\n",
    "                newRanks = PageRanker.stepRankCR(network, alpha)\n",
    "#                 print(newRanks)\n",
    "                d = max([abs(newRanks[page] - oldRanks[page]) for page in network])\n",
    "\n",
    "                if d < epsilon:\n",
    "                    break\n",
    "                \n",
    "                oldRanks = newRanks\n",
    "                    \n",
    "#             print(f'Iterations: {n}')\n",
    "            return n\n",
    "    \n",
    "    @staticmethod\n",
    "    def stepRankCR(network: Network, alpha: float):\n",
    "        \"\"\"\n",
    "        Does one step of the random-restart ranking\n",
    "        \"\"\"\n",
    "        newRanks = {}\n",
    "        for page in network:\n",
    "            newRanks[page] = 0\n",
    "            # Sum dot product of column and stationary distribution\n",
    "            for other in network:\n",
    "                if other.outDegree() > 0:\n",
    "                    newRanks[page] += other.rank * page.q * (1 - alpha)\n",
    "                else:\n",
    "                    newRanks[page] += other.rank * page.q\n",
    "                if other.linksTo(page):\n",
    "                    newRanks[page] += other.rank * alpha / other.outDegree()\n",
    "\n",
    "        for page in network:\n",
    "            page.rank = newRanks[page]\n",
    "            \n",
    "        return newRanks\n",
    "    \n",
    "    @staticmethod\n",
    "    def rank(network: Network, steps: int = None, alpha: float = 0.85, epsilon: float = 1e-9, qis: List[float] = None, ris: List[float] = None, debug=False):\n",
    "        \"\"\"\n",
    "        Ranks a network via the PageRank algorithm.\n",
    "        Runtime O(steps * #pages * max. incoming links for a page)\n",
    "        \n",
    "        --- Parameters ---\n",
    "        network: The Network to rank.\n",
    "        steps: The number of iterations to do.\n",
    "        alpha: The probability of going to another page via clicking a link.\n",
    "        \"\"\"\n",
    "        \n",
    "        if qis == None:\n",
    "            PageRanker.calculateJumpingProbabilities(network)\n",
    "        else:\n",
    "            for i, page in enumerate(network):\n",
    "                page.q = qis[i]\n",
    "        \n",
    "        initRanks = {}\n",
    "        if ris == None:\n",
    "            initRanks = PageRanker.calculateInitialRanking(network)\n",
    "        else:\n",
    "            for i, page in enumerate(network):\n",
    "                page.rank = ris[i]\n",
    "                initRanks[page] = ris[i]\n",
    "        \n",
    "        if steps != None:\n",
    "            for _ in range(0, steps):\n",
    "                PageRanker.stepRank(network, alpha)\n",
    "                rankSum = sum([page.rank for page in network])\n",
    "                for page in network:\n",
    "                    page.rank = page.rank/rankSum\n",
    "                    \n",
    "                return\n",
    "            \n",
    "        else:\n",
    "            n = 0\n",
    "            oldRanks = initRanks\n",
    "            if debug:\n",
    "                print(initRanks)\n",
    "            \n",
    "            while True:\n",
    "                n += 1\n",
    "                newRanks = PageRanker.stepRank(network, alpha)\n",
    "                if debug:\n",
    "                    print(newRanks)\n",
    "                d = max([abs(newRanks[page] - oldRanks[page]) for page in network])\n",
    "\n",
    "                if d < epsilon:\n",
    "                    break\n",
    "                \n",
    "                oldRanks = newRanks\n",
    "                    \n",
    "            rankSum = sum([page.rank for page in network])\n",
    "            for page in network:\n",
    "                page.rank = page.rank/rankSum\n",
    "\n",
    "#             print(f'Iterations: {n}')\n",
    "            return n\n",
    "\n",
    "        \n",
    "    @staticmethod\n",
    "    def stepRank(network: Network, alpha: float):\n",
    "        \"\"\"\n",
    "        Does one step of the normalized ranking\n",
    "        \"\"\"\n",
    "        newRanks = {}\n",
    "        for page in network:\n",
    "            newRanks[page] = 0\n",
    "            for other in page.incomingLinks:\n",
    "                newRanks[page] += other.rank / other.outDegree()\n",
    "            newRanks[page] *= alpha\n",
    "            newRanks[page] += (1-alpha) * page.q\n",
    "\n",
    "        for page in network:\n",
    "            page.rank = newRanks[page]\n",
    "            \n",
    "        return newRanks\n",
    "    \n",
    "    @staticmethod\n",
    "    def calculateInitialRanking(network: Network):\n",
    "        \"\"\"\n",
    "        Calculates an initial ranking for the given network.\n",
    "        Currently just gives each page a ranking of 1 / size of the network.\n",
    "        \"\"\"\n",
    "        for page in network:\n",
    "            page.rank = 1.0 / network.size()\n",
    "#             print(\"initial rank for \" + str(network.size()) + \" pages is \" + str((1.0 / network.size())) )\n",
    "            # When looking at the above print command for large networks, the sum doesn't necessarily add to 1 perfectly\n",
    "            # anymore due to rounding errors\n",
    "        \n",
    "        return {page:1.0/network.size() for page in network}\n",
    "            \n",
    "    @staticmethod\n",
    "    def calculateJumpingProbabilities(network: Network):\n",
    "        \"\"\"Calculates the probabilities of jumping to each page.\"\"\"\n",
    "        for page in network:\n",
    "            page.q = 1.0 / network.size()\n"
   ]
  },
  {
   "cell_type": "markdown",
   "metadata": {},
   "source": [
    "### Example Wikipedia-YouTube-Twitter Calculation"
   ]
  },
  {
   "cell_type": "code",
   "execution_count": null,
   "metadata": {},
   "outputs": [],
   "source": [
    "PageRanker.calculateInitialRanking(internet)"
   ]
  },
  {
   "cell_type": "markdown",
   "metadata": {},
   "source": [
    "#### Wikipedia-YouTube-Twitter with the Certain Restart Version"
   ]
  },
  {
   "cell_type": "code",
   "execution_count": null,
   "metadata": {
    "scrolled": true
   },
   "outputs": [],
   "source": [
    "PageRanker.rankCR(internet)\n",
    "internet.showRanking()\n",
    "internet.debugRanking()"
   ]
  },
  {
   "cell_type": "markdown",
   "metadata": {},
   "source": [
    "As long as the network does not have a sink, the ranks seem to be calculated correctly and still sum to 1. "
   ]
  },
  {
   "cell_type": "markdown",
   "metadata": {},
   "source": [
    "#### Wikipedia-YouTube-Twitter with Normalizer Version"
   ]
  },
  {
   "cell_type": "code",
   "execution_count": null,
   "metadata": {},
   "outputs": [],
   "source": [
    "PageRanker.rank(internet) "
   ]
  },
  {
   "cell_type": "code",
   "execution_count": null,
   "metadata": {},
   "outputs": [],
   "source": [
    "internet.showRanking()"
   ]
  },
  {
   "cell_type": "code",
   "execution_count": null,
   "metadata": {},
   "outputs": [],
   "source": [
    "internet.debugRanking() # This one is the one with the normalizer feature, naturally it sums perfectly to 1 for this simple network"
   ]
  },
  {
   "cell_type": "markdown",
   "metadata": {},
   "source": [
    "### Example California Network Calculation"
   ]
  },
  {
   "cell_type": "markdown",
   "metadata": {},
   "source": [
    "#### Certain Restart Version"
   ]
  },
  {
   "cell_type": "code",
   "execution_count": null,
   "metadata": {
    "scrolled": true
   },
   "outputs": [],
   "source": [
    "# slow (this is only 1 iteration!)\n",
    "# PageRanker.rankCR(california, 1, 0.5)\n",
    "# california.showRanking()\n",
    "# california.debugRanking()"
   ]
  },
  {
   "cell_type": "markdown",
   "metadata": {},
   "source": [
    "#### Normalizer Version"
   ]
  },
  {
   "cell_type": "code",
   "execution_count": null,
   "metadata": {
    "tags": [
     "outputPrepend"
    ]
   },
   "outputs": [],
   "source": [
    "PageRanker.rank(california)\n",
    "california.showRanking()\n",
    "california.debugRanking()"
   ]
  },
  {
   "cell_type": "markdown",
   "metadata": {},
   "source": [
    "### Edge Case: Source -> Sink"
   ]
  },
  {
   "cell_type": "markdown",
   "metadata": {},
   "source": [
    "#### Normalizer Version"
   ]
  },
  {
   "cell_type": "code",
   "execution_count": null,
   "metadata": {},
   "outputs": [],
   "source": [
    "criminal = Network()\n",
    "page1 = Page(\"Source\")\n",
    "page2 = Page(\"Sink\")\n",
    "page1.addLinkTo(page2)\n",
    "criminal.addPages(page1, page2)"
   ]
  },
  {
   "cell_type": "code",
   "execution_count": null,
   "metadata": {},
   "outputs": [],
   "source": [
    "#criminal.plot0()"
   ]
  },
  {
   "cell_type": "code",
   "execution_count": null,
   "metadata": {},
   "outputs": [],
   "source": [
    "PageRanker.rank(criminal, 10, 0.5)\n",
    "criminal.showRanking()\n",
    "criminal.debugRanking()"
   ]
  },
  {
   "cell_type": "code",
   "execution_count": null,
   "metadata": {},
   "outputs": [],
   "source": [
    "nx.pagerank(criminal.nxDiGraph(), alpha=0.5, max_iter=10)"
   ]
  },
  {
   "cell_type": "markdown",
   "metadata": {},
   "source": [
    "#### Certain Restart Version"
   ]
  },
  {
   "cell_type": "code",
   "execution_count": null,
   "metadata": {},
   "outputs": [],
   "source": [
    "PageRanker.rankCR(criminal, 10, 0.5)\n",
    "criminal.showRanking()\n",
    "criminal.debugRanking()"
   ]
  },
  {
   "cell_type": "markdown",
   "metadata": {},
   "source": [
    "### Timo's handsolved network"
   ]
  },
  {
   "cell_type": "code",
   "execution_count": null,
   "metadata": {},
   "outputs": [],
   "source": [
    "handsolved = Network()\n",
    "w1 = Page(\"Website 1\")\n",
    "w2 = Page(\"Website 2\")\n",
    "w3 = Page(\"Website 3\")\n",
    "w4 = Page(\"Website 4\")\n",
    "w5 = Page(\"Website 5\")\n",
    "\n",
    "w1.addLinksTo(w2, w3, w4, w5)\n",
    "w2.addLinksTo(w3, w4, w5)\n",
    "w3.addLinksTo(w1, w2, w4, w5)\n",
    "w4.addLinksTo(w2, w3)\n",
    "w5.addLinkTo(w4)\n",
    "\n",
    "handsolved.addPages(w1, w2, w3, w4, w5)\n",
    "#handsolved.plot0()"
   ]
  },
  {
   "cell_type": "code",
   "execution_count": null,
   "metadata": {},
   "outputs": [],
   "source": [
    "PageRanker.rankCR(handsolved, 100, 0.5)\n",
    "handsolved.showRanking()"
   ]
  },
  {
   "cell_type": "code",
   "execution_count": null,
   "metadata": {},
   "outputs": [],
   "source": [
    "print(f'Website 1: {36/283}')\n",
    "print(f'Website 2: {297/1415}')\n",
    "print(f'Website 3: {308/1415}')\n",
    "print(f'Website 4: {378/1415}')\n",
    "print(f'Website 5: {252/1415}')"
   ]
  },
  {
   "cell_type": "markdown",
   "metadata": {
    "collapsed": true
   },
   "source": [
    "## Visualization of (small) networks"
   ]
  },
  {
   "cell_type": "markdown",
   "metadata": {},
   "source": [
    "### With networkx"
   ]
  },
  {
   "cell_type": "code",
   "execution_count": null,
   "metadata": {
    "scrolled": false
   },
   "outputs": [],
   "source": [
    "# size based on links\n",
    "internet.plot1()"
   ]
  },
  {
   "cell_type": "code",
   "execution_count": null,
   "metadata": {},
   "outputs": [],
   "source": [
    "# plot with names (works in this case, but often labels are too large for the nodes)\n",
    "internet.plot1(names=True)"
   ]
  },
  {
   "cell_type": "code",
   "execution_count": null,
   "metadata": {},
   "outputs": [],
   "source": [
    "#size based on rank\n",
    "internet.plot2()"
   ]
  },
  {
   "cell_type": "markdown",
   "metadata": {},
   "source": [
    "### With graphviz"
   ]
  },
  {
   "cell_type": "code",
   "execution_count": null,
   "metadata": {},
   "outputs": [],
   "source": [
    "internet.plot0()"
   ]
  },
  {
   "cell_type": "markdown",
   "metadata": {},
   "source": [
    "### Homepage Network"
   ]
  },
  {
   "cell_type": "code",
   "execution_count": null,
   "metadata": {
    "scrolled": true
   },
   "outputs": [],
   "source": [
    "def makeHomepageNetwork(sinkSiteAmount: int = 100):\n",
    "    homepageNetwork= Network()\n",
    "    homepage = Page(\"Homepage\")\n",
    "    for i in range(0,sinkSiteAmount):\n",
    "        p = Page(\"test\" + str(i))\n",
    "        homepage.addLinkTo(p)\n",
    "        homepageNetwork.addPage(p)\n",
    "    homepageNetwork.addPage(homepage)\n",
    "    return homepageNetwork"
   ]
  },
  {
   "cell_type": "markdown",
   "metadata": {},
   "source": [
    "### Endpage Network"
   ]
  },
  {
   "cell_type": "code",
   "execution_count": null,
   "metadata": {
    "scrolled": true
   },
   "outputs": [],
   "source": [
    "# Configurable parameter\n",
    "def makeEndpageNetwork(sourceSiteAmount: int = 100):\n",
    "    endpageNetwork = Network()\n",
    "    endpage = Page(\"Endpage\")\n",
    "    for i in range(0,sourceSiteAmount):\n",
    "        p = Page(\"test\" + str(i))\n",
    "        p.addLinkTo(endpage)\n",
    "        endpageNetwork.addPage(p)\n",
    "    endpageNetwork.addPage(endpage)\n",
    "    return endpageNetwork"
   ]
  },
  {
   "cell_type": "markdown",
   "metadata": {},
   "source": [
    "## Statistics"
   ]
  },
  {
   "cell_type": "code",
   "execution_count": null,
   "metadata": {},
   "outputs": [],
   "source": [
    "internet.sources()"
   ]
  },
  {
   "cell_type": "code",
   "execution_count": null,
   "metadata": {},
   "outputs": [],
   "source": [
    "internet.sinks()"
   ]
  },
  {
   "cell_type": "code",
   "execution_count": null,
   "metadata": {},
   "outputs": [],
   "source": [
    "california.sinks()"
   ]
  },
  {
   "cell_type": "code",
   "execution_count": null,
   "metadata": {
    "scrolled": true
   },
   "outputs": [],
   "source": [
    "california.sources()"
   ]
  },
  {
   "cell_type": "code",
   "execution_count": null,
   "metadata": {
    "scrolled": false
   },
   "outputs": [],
   "source": [
    "internet.plot_outdegrees()"
   ]
  },
  {
   "cell_type": "code",
   "execution_count": null,
   "metadata": {},
   "outputs": [],
   "source": [
    "internet.plot_indegrees()"
   ]
  },
  {
   "cell_type": "code",
   "execution_count": null,
   "metadata": {},
   "outputs": [],
   "source": [
    "internet.describe()"
   ]
  },
  {
   "cell_type": "code",
   "execution_count": null,
   "metadata": {},
   "outputs": [],
   "source": [
    "california.plot_outdegrees()"
   ]
  },
  {
   "cell_type": "code",
   "execution_count": null,
   "metadata": {},
   "outputs": [],
   "source": [
    "california.plot_indegrees()"
   ]
  },
  {
   "cell_type": "code",
   "execution_count": null,
   "metadata": {},
   "outputs": [],
   "source": [
    "california.describe()"
   ]
  },
  {
   "cell_type": "code",
   "execution_count": null,
   "metadata": {},
   "outputs": [],
   "source": []
  },
  {
   "cell_type": "markdown",
   "metadata": {},
   "source": [
    "# More Network Generators"
   ]
  },
  {
   "cell_type": "code",
   "execution_count": null,
   "metadata": {},
   "outputs": [],
   "source": [
    "def makeClusterNetwork(clusterAmount: int=3, clusterSize: int=10, forwardLinkClusters: bool=True, backwardLinkClusters: bool=True):\n",
    "    \"\"\"\n",
    "    --- Parameters ---\n",
    "    clusterAmount: Amount of clusters in the network.\n",
    "    clusterSize: Amount of pages per cluster.\n",
    "    forwardLinkClusters: Should there exist a link from cluster i to i+1 for all i?\n",
    "    backwardLinkClusters: Should there exist a link from cluster i to i-1 for all i?\n",
    "    \"\"\"\n",
    "    currentCluster = []\n",
    "    clusterNetwork = Network()\n",
    "    for i in range(0, clusterAmount):\n",
    "        for j in range(0, clusterSize):\n",
    "            p = Page(\"cluster_\" + str(i) + \"_site_\" + str(j))\n",
    "            clusterNetwork.addPage(p)\n",
    "            for otherPage in currentCluster:\n",
    "                p.addLinkTo(otherPage)\n",
    "                otherPage.addLinkTo(p)\n",
    "            currentCluster.append(p)    \n",
    "        currentCluster = []\n",
    "    \n",
    "    if forwardLinkClusters:\n",
    "        for i in range(0, clusterAmount):\n",
    "            if (i==clusterAmount - 1):\n",
    "                nextClusterID = 0\n",
    "            else:\n",
    "                nextClusterID = i + 1\n",
    "            clusterNetwork.getPage(\"cluster_\" + str(i) + \"_site_0\").addLinkTo(clusterNetwork.getPage(\"cluster_\" + str(nextClusterID) + \"_site_0\"))\n",
    "\n",
    "    if backwardLinkClusters:\n",
    "        for i in range(0, clusterAmount):\n",
    "            if (i==0):\n",
    "                previousClusterID = clusterAmount - 1\n",
    "            else:\n",
    "                previousClusterID = i - 1\n",
    "            clusterNetwork.getPage(\"cluster_\" + str(i) + \"_site_0\").addLinkTo(clusterNetwork.getPage(\"cluster_\" + str(previousClusterID) + \"_site_0\"))\n",
    "\n",
    "    return clusterNetwork"
   ]
  },
  {
   "cell_type": "code",
   "execution_count": null,
   "metadata": {},
   "outputs": [],
   "source": [
    "# Fully linked network where every site has a link to every other site except for the last sinkAmount (parameter) sites.\n",
    "# The last site is a sink and only has incoming links.\n",
    "def makeNetworkSinks(sinkAmount: int = 3, networkSize: int = 10):\n",
    "    \"\"\"\n",
    "    --- Parameters ---\n",
    "    sinkAmount: Amount of pages in the network without outgoing links.\n",
    "    networkSize: Amount of pages in the network\n",
    "    Beware, the function requires sinkAmount <= networkSize!\n",
    "    \"\"\"\n",
    "    networkSinks = Network()\n",
    "    for i in range(0, networkSize):\n",
    "        p = Page(\"site_\" + str(i))\n",
    "        networkSinks.addPage(p)\n",
    "    for page in networkSinks:\n",
    "        pageID = int(page.getName()[5:])\n",
    "        # if not one of the sinks\n",
    "        if pageID >= sinkAmount:\n",
    "            # then create links to all other pages which are not itself\n",
    "            for otherPage in networkSinks:\n",
    "                otherPageID = int(otherPage.getName()[5:])\n",
    "                if not(otherPageID == pageID):\n",
    "                    page.addLinkTo(otherPage)\n",
    "    return networkSinks"
   ]
  },
  {
   "cell_type": "code",
   "execution_count": null,
   "metadata": {},
   "outputs": [],
   "source": [
    "# Every site points to the next in a big \"circle\"\n",
    "\n",
    "# Configurable Parameter\n",
    "circleSize = 50\n",
    "# Only forward-pointing links or also backward-pointing links?\n",
    "twoWay = True\n",
    "def makeNetworkCircle(circleSize: int = 50, twoWay: bool = True):\n",
    "    \"\"\"\n",
    "    --- Parameters ---\n",
    "    circleSize: Amount of pages in the circular network.\n",
    "    twoWay: Boolean representing if there are only forward-pointing links or also backward-pointing links,\n",
    "    so if the \"circle\" is traversable in two directions or in 1 direction.\n",
    "    \"\"\"\n",
    "    networkCircle = Network()\n",
    "    for i in range(0, circleSize):\n",
    "        p = Page(\"site_\" + str(i))\n",
    "        networkCircle.addPage(p)\n",
    "    for page in networkCircle:\n",
    "        pageID = int(page.getName()[5:])\n",
    "        if not(pageID == circleSize - 1):\n",
    "            nextPageID = pageID + 1\n",
    "        else:\n",
    "            nextPageID = 0\n",
    "        page.addLinkTo(networkCircle.getPage(\"site_\" + str(nextPageID)))\n",
    "        if twoWay:\n",
    "            if not(pageID == 0):\n",
    "                previousPageID = pageID - 1\n",
    "            else:\n",
    "                previousPageID = circleSize - 1\n",
    "            page.addLinkTo(networkCircle.getPage(\"site_\" + str(previousPageID)))\n",
    "    return networkCircle\n"
   ]
  },
  {
   "cell_type": "markdown",
   "metadata": {
    "collapsed": true
   },
   "source": [
    "# The Random \"Spatial\" Network"
   ]
  },
  {
   "cell_type": "markdown",
   "metadata": {},
   "source": [
    "This random network of websites is supposed to reflect the spatial nature of the internet. For example, Chinese websites will probably have a lot of links to other Chinese websites and similarly for for example Spanish websites. However, between the two subnetworks (or clusters), there will probably be a lot fewer links. This example network is supposed to reflect that."
   ]
  },
  {
   "cell_type": "code",
   "execution_count": null,
   "metadata": {},
   "outputs": [],
   "source": [
    "class SpatialPage(Page):\n",
    "    def __init__(self, name, x, y):\n",
    "        super().__init__(name)\n",
    "        self.x = x\n",
    "        self.y = y\n",
    "        \n",
    "    def squaredDistanceTo(self, other):\n",
    "        return (self.x-other.x)^2 + (self.y-other.y)^2"
   ]
  },
  {
   "cell_type": "code",
   "execution_count": null,
   "metadata": {},
   "outputs": [],
   "source": [
    "def makeSpatialNetwork(n, xmax, ymax, r):\n",
    "    \"\"\"\n",
    "    Returns a spatial network\n",
    "    === Parameters ===\n",
    "    n: amount of pages\n",
    "    xmax: largest x coordinate\n",
    "    ymax: largest y coordinate\n",
    "    r: range which determines whether cells are neighbours\n",
    "    \"\"\"\n",
    "    spatialNetwork = Network()\n",
    "    \n",
    "    for i in range(n):\n",
    "        x = round(xmax * random.random())\n",
    "        y = round(ymax * random.random())\n",
    "        \n",
    "        p = SpatialPage(f'Page {i}', x, y)\n",
    "        spatialNetwork.addPage(p)\n",
    "    \n",
    "    for page in spatialNetwork:\n",
    "        for other in spatialNetwork:\n",
    "            if page == other:\n",
    "                continue\n",
    "            \n",
    "            d = page.squaredDistanceTo(other)\n",
    "            if d <= r^2:\n",
    "                # maybe do this with a link probability?\n",
    "                page.addLinkTo(other)\n",
    "    \n",
    "    return spatialNetwork"
   ]
  },
  {
   "cell_type": "code",
   "execution_count": null,
   "metadata": {},
   "outputs": [],
   "source": [
    "test = makeSpatialNetwork(5, 10, 10, 2)\n",
    "test.plot0()"
   ]
  },
  {
   "cell_type": "code",
   "execution_count": null,
   "metadata": {
    "scrolled": true
   },
   "outputs": [],
   "source": [
    "# Configurable parameters\n",
    "siteAmount = 100\n",
    "# Coordinate range\n",
    "xmax = 10\n",
    "ymax = 10\n",
    "# \"Closeness\" bound. If sites are within this range of each other, they will link to each other.\n",
    "closeRange = 5\n",
    "\n",
    "# Constants\n",
    "spatialNetwork= Network()\n",
    "df_coords = pd.DataFrame(columns = [\"x\", \"y\"])\n",
    "adjust = max(xmax,ymax) // 10 + 1\n",
    "closeRangeSqr = closeRange*closeRange\n",
    "\n",
    "for i in range(0,siteAmount):\n",
    "    # Determine random integer coordinates between 0 and 100 for all sites\n",
    "    x = round(xmax * random.random())\n",
    "    y = round(ymax * random.random())\n",
    "    \n",
    "    \n",
    "    df_coords.loc[i] = [x, y]\n",
    "    # Keep this information in the \"name\" string of the website. \n",
    "    # Add the filler character \"f\" such that the coordinates fill up 3 characters\n",
    "\n",
    "    p = Page(\"{}\".format(x).rjust(adjust, \"f\") + \"_\" + \"{}\".format(y).rjust(adjust, \"f\"))\n",
    "    spatialNetwork.addPage(p)\n",
    "    #print(\"Adding site \" + p.getName())\n",
    "    \n",
    "    for other in spatialNetwork:\n",
    "        # Take slices of the other's name and strip zeros accordingly to het back the coordinates\n",
    "        otherName = other.getName()\n",
    "        otherX = otherName[:adjust].lstrip(\"f\")\n",
    "        otherY = otherName[adjust+1:].lstrip(\"f\")\n",
    "        #print(\"Other site found with X = \" + otherX + \" and Y = \" + otherY)\n",
    "        \n",
    "        # If the other site and site p are close enough (and other =/= p !!)\n",
    "        distance = (int(otherX)-x)*(int(otherX)-x) + (int(otherY)-y)*(int(otherY)-y)\n",
    "        if (distance <= closeRangeSqr)&(0<distance):\n",
    "            other.addLinkTo(p)\n",
    "            p.addLinkTo(other)"
   ]
  },
  {
   "cell_type": "code",
   "execution_count": null,
   "metadata": {
    "scrolled": true
   },
   "outputs": [],
   "source": [
    "PageRanker.rankCR(spatialNetwork, 1000, 0.5)\n",
    "spatialNetwork.showRanking()\n",
    "spatialNetwork.debugRanking()"
   ]
  },
  {
   "cell_type": "code",
   "execution_count": null,
   "metadata": {},
   "outputs": [],
   "source": [
    "df_coords.plot(kind=\"scatter\", x=\"x\", y=\"y\");"
   ]
  },
  {
   "cell_type": "code",
   "execution_count": null,
   "metadata": {},
   "outputs": [],
   "source": [
    "# spatialNetwork.plot2()"
   ]
  },
  {
   "cell_type": "code",
   "execution_count": null,
   "metadata": {},
   "outputs": [],
   "source": [
    "spatialNetwork.testUnconnected()"
   ]
  },
  {
   "cell_type": "code",
   "execution_count": null,
   "metadata": {},
   "outputs": [],
   "source": [
    "PageRanker.rank(spatialNetwork)"
   ]
  },
  {
   "cell_type": "markdown",
   "metadata": {},
   "source": [
    "## Completely Random Network"
   ]
  },
  {
   "cell_type": "code",
   "execution_count": null,
   "metadata": {
    "scrolled": true
   },
   "outputs": [],
   "source": [
    "def makeRandomNetwork(n: int = 100, successProbability: float = 0.1):\n",
    "    randomNetwork= Network()\n",
    "\n",
    "    for i in range(0,n):\n",
    "        p = Page(\"Page {}\".format(i))\n",
    "        randomNetwork.addPage(p)\n",
    "\n",
    "    for p in randomNetwork:\n",
    "        for other in randomNetwork:\n",
    "            # Check if equal\n",
    "            if not(other.getName() == p.getName()):\n",
    "                if (random.random() < successProbability):\n",
    "                    other.addLinkTo(p)\n",
    "                    \n",
    "    return randomNetwork"
   ]
  },
  {
   "cell_type": "markdown",
   "metadata": {},
   "source": [
    "## 2WB20 Canvas Page"
   ]
  },
  {
   "cell_type": "code",
   "execution_count": null,
   "metadata": {},
   "outputs": [],
   "source": [
    "canvas = Network()\n",
    "w1 = Page(\"Canvas Main Page\")\n",
    "w2 = Page(\"Modules\")\n",
    "w3 = Page(\"Schedule\")\n",
    "w4 = Page(\"Syllabus\")\n",
    "w5 = Page(\"Discussions\")\n",
    "w6 = Page(\"Video Lectures\")\n",
    "w7 = Page(\"Lecture Notes\")\n",
    "w8 = Page(\"Instruction Exercises\")\n",
    "w9 = Page(\"Modelling\")\n",
    "w10 = Page(\"Handouts\")\n",
    "\n",
    "w1.addLinksTo(w2, w3, w4, w5, w6)\n",
    "w2.addLinksTo(w1, w6, w7, w8, w9, w10)\n",
    "w3.addLinksTo(w1, w8, w10)\n",
    "w4.addLinksTo(w1, w3)\n",
    "w5.addLinkTo(w1)\n",
    "w6.addLinkTo(w2)\n",
    "w7.addLinkTo(w2)\n",
    "w8.addLinkTo(w2)\n",
    "w9.addLinkTo(w2)\n",
    "w10.addLinkTo(w2)\n",
    "\n",
    "canvas.addPages(w1, w2, w3, w4, w5, w6, w7, w8, w9, w10)\n",
    "canvas.plot0()"
   ]
  },
  {
   "cell_type": "code",
   "execution_count": null,
   "metadata": {},
   "outputs": [],
   "source": [
    "PageRanker.rank(canvas)\n",
    "canvas.showRanking()"
   ]
  },
  {
   "cell_type": "code",
   "execution_count": null,
   "metadata": {},
   "outputs": [],
   "source": [
    "personalization = [0.7, 0.3/9, 0.3/9, 0.3/9, 0.3/9, 0.3/9, 0.3/9, 0.3/9, 0.3/9, 0.3/9]"
   ]
  },
  {
   "cell_type": "code",
   "execution_count": null,
   "metadata": {},
   "outputs": [],
   "source": [
    "PageRanker.rank(canvas, qis=personalization)\n",
    "canvas.showRanking()"
   ]
  },
  {
   "cell_type": "code",
   "execution_count": null,
   "metadata": {},
   "outputs": [],
   "source": [
    "canvas.getRankingOrder()"
   ]
  },
  {
   "cell_type": "code",
   "execution_count": null,
   "metadata": {},
   "outputs": [],
   "source": [
    "# Canvas main page in top 5\n",
    "canvas.pageInTopN(w1, 5)"
   ]
  },
  {
   "cell_type": "code",
   "execution_count": null,
   "metadata": {},
   "outputs": [],
   "source": [
    "# Handouts page not in top 5\n",
    "canvas.pageInTopN(w10, 5)"
   ]
  },
  {
   "cell_type": "markdown",
   "metadata": {},
   "source": [
    "## Testing Area"
   ]
  },
  {
   "cell_type": "code",
   "execution_count": null,
   "metadata": {},
   "outputs": [],
   "source": [
    "list_of_results = []\n",
    "for i in range(0,10):\n",
    "    net = makeEndpageNetwork((i+1) * 1000)\n",
    "    list_of_results.append(PageRanker.rank(net))\n",
    "print(list_of_results)\n"
   ]
  },
  {
   "cell_type": "code",
   "execution_count": null,
   "metadata": {},
   "outputs": [],
   "source": [
    "network = makeHomepageNetwork(1000)\n",
    "PageRanker.rank(network, 1000, 0.5)\n",
    "network.showRanking()"
   ]
  },
  {
   "cell_type": "code",
   "execution_count": null,
   "metadata": {},
   "outputs": [],
   "source": [
    "1/1001"
   ]
  },
  {
   "cell_type": "code",
   "execution_count": null,
   "metadata": {},
   "outputs": [],
   "source": [
    "n = 100\n",
    "rs = [1] + (n-1)*[0]"
   ]
  },
  {
   "cell_type": "code",
   "execution_count": null,
   "metadata": {},
   "outputs": [],
   "source": [
    "circle = makeNetworkCircle(n, True)"
   ]
  },
  {
   "cell_type": "code",
   "execution_count": null,
   "metadata": {},
   "outputs": [],
   "source": [
    "# circle.plot0()"
   ]
  },
  {
   "cell_type": "code",
   "execution_count": null,
   "metadata": {},
   "outputs": [],
   "source": [
    "PageRanker.rank(circle, ris=rs, alpha=0.85)"
   ]
  },
  {
   "cell_type": "code",
   "execution_count": null,
   "metadata": {},
   "outputs": [],
   "source": [
    "PageRanker.rank(makeRandomNetwork(100, 0.015))"
   ]
  },
  {
   "cell_type": "code",
   "execution_count": null,
   "metadata": {},
   "outputs": [],
   "source": [
    "PageRanker.rank(makeRandomNetwork(1000, 0.1))"
   ]
  },
  {
   "cell_type": "code",
   "execution_count": null,
   "metadata": {
    "scrolled": true
   },
   "outputs": [],
   "source": [
    "iterations = {}\n",
    "n = 100\n",
    "# n=1\n",
    "nNodes = 500\n",
    "for i in range(n):\n",
    "    p = i/n\n",
    "    net = makeRandomNetwork(nNodes, p)\n",
    "    iterations[p] = PageRanker.rank(net)"
   ]
  },
  {
   "cell_type": "code",
   "execution_count": null,
   "metadata": {},
   "outputs": [],
   "source": [
    "from scipy.ndimage.filters import gaussian_filter1d\n",
    "x = list(iterations.keys())\n",
    "y = list(iterations.values())\n",
    "\n",
    "fig, ax = plt.subplots(1, 1)\n",
    "# ax.plot(x, y)\n",
    "ax.plot(x, gaussian_filter1d(y, sigma=2))\n",
    "ax.set_xlabel(\"Link probability\")\n",
    "ax.set_ylabel(\"# of iterations\")\n",
    "ax.set_title(f'PR convergence in random graph, {nNodes} nodes');"
   ]
  },
  {
   "cell_type": "code",
   "execution_count": null,
   "metadata": {},
   "outputs": [],
   "source": [
    "PageRanker.rank(makeHomepageNetwork(3), alpha=0.99, debug=True)"
   ]
  },
  {
   "cell_type": "code",
   "execution_count": null,
   "metadata": {},
   "outputs": [],
   "source": [
    "# ax.get_figure().savefig(\"plot.pdf\")"
   ]
  }
 ],
 "metadata": {
  "kernelspec": {
   "display_name": "Python 3",
   "language": "python",
   "name": "python3"
  },
  "language_info": {
   "codemirror_mode": {
    "name": "ipython",
    "version": 3
   },
   "file_extension": ".py",
   "mimetype": "text/x-python",
   "name": "python",
   "nbconvert_exporter": "python",
   "pygments_lexer": "ipython3",
   "version": "3.6.10"
  }
 },
 "nbformat": 4,
 "nbformat_minor": 2
}
