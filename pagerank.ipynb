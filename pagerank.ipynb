{
 "cells": [
  {
   "cell_type": "markdown",
   "metadata": {},
   "source": [
    "# Page rank"
   ]
  },
  {
   "cell_type": "markdown",
   "metadata": {},
   "source": [
    "## Network classes"
   ]
  },
  {
   "cell_type": "code",
   "execution_count": 1,
   "metadata": {},
   "outputs": [],
   "source": [
    "class Network:   \n",
    "    def __init__(self):\n",
    "        self.pages = []\n",
    "        self.counter = 0\n",
    "    \n",
    "    def __iter__(self):\n",
    "        return iter(self.pages)\n",
    "    \n",
    "    def addPage(self, page):\n",
    "        page.id = self.counter\n",
    "        self.counter += 1\n",
    "        self.pages.append(page)\n",
    "        \n",
    "    def addPages(self, *args):\n",
    "        for page in args:\n",
    "            self.addPage(page)\n",
    "        \n",
    "    def getPages(self):\n",
    "        return self.pages\n",
    "    \n",
    "    def size(self):\n",
    "        return len(self.pages)\n",
    "    \n",
    "    def showRanking(self):\n",
    "        for page in self:\n",
    "            print(f'{page.name}: {page.rank}')"
   ]
  },
  {
   "cell_type": "code",
   "execution_count": 2,
   "metadata": {},
   "outputs": [],
   "source": [
    "class Page:\n",
    "    def __init__(self, name):\n",
    "        self.name = name\n",
    "        self.links = []\n",
    "        \n",
    "    def __repr__(self):\n",
    "        return self.name\n",
    "    \n",
    "    def __str__(self):\n",
    "        return self.name\n",
    "    \n",
    "    def addLinkTo(self, other):\n",
    "        self.links.append(other)\n",
    "        \n",
    "    def outDegree(self):\n",
    "        return len(self.links)"
   ]
  },
  {
   "cell_type": "markdown",
   "metadata": {},
   "source": [
    "### Example"
   ]
  },
  {
   "cell_type": "code",
   "execution_count": 3,
   "metadata": {},
   "outputs": [],
   "source": [
    "wiki = Page(\"Wikipedia\")\n",
    "yt = Page(\"YouTube\")\n",
    "twitter = Page(\"Twitter\")\n",
    "wiki.addLinkTo(yt)\n",
    "wiki.addLinkTo(twitter)\n",
    "yt.addLinkTo(twitter)\n",
    "twitter.addLinkTo(yt)"
   ]
  },
  {
   "cell_type": "code",
   "execution_count": 4,
   "metadata": {},
   "outputs": [],
   "source": [
    "internet = Network()\n",
    "internet.addPages(yt, wiki, twitter)"
   ]
  },
  {
   "cell_type": "code",
   "execution_count": 5,
   "metadata": {
    "scrolled": true
   },
   "outputs": [
    {
     "data": {
      "text/plain": [
       "[YouTube, Wikipedia, Twitter]"
      ]
     },
     "execution_count": 5,
     "metadata": {},
     "output_type": "execute_result"
    }
   ],
   "source": [
    "pages = internet.getPages()\n",
    "pages"
   ]
  },
  {
   "cell_type": "code",
   "execution_count": 6,
   "metadata": {
    "scrolled": true
   },
   "outputs": [
    {
     "data": {
      "text/plain": [
       "[YouTube, Twitter]"
      ]
     },
     "execution_count": 6,
     "metadata": {},
     "output_type": "execute_result"
    }
   ],
   "source": [
    "pages[1].links"
   ]
  },
  {
   "cell_type": "code",
   "execution_count": 7,
   "metadata": {},
   "outputs": [],
   "source": [
    "with open(\"california.txt\") as f:\n",
    "    content = f.read().splitlines()"
   ]
  },
  {
   "cell_type": "code",
   "execution_count": 8,
   "metadata": {},
   "outputs": [],
   "source": [
    "california = Network()\n",
    "for line in content:\n",
    "    if line[0] == 'n':\n",
    "        california.addPage(Page(line.split()[2]))\n",
    "    elif line[0] == 'e':\n",
    "        n1 = california.pages[int(line.split()[1])]\n",
    "        n2 = california.pages[int(line.split()[2])]\n",
    "        \n",
    "        n1.addLinkTo(n2)"
   ]
  },
  {
   "cell_type": "markdown",
   "metadata": {},
   "source": [
    "## Ranking the pages"
   ]
  },
  {
   "cell_type": "code",
   "execution_count": 9,
   "metadata": {},
   "outputs": [],
   "source": [
    "class PageRanker:\n",
    "    @staticmethod\n",
    "    def rank(network, steps, alpha):\n",
    "        PageRanker.calculateInitialRanking(network)\n",
    "        PageRanker.calculateJumpingProbabilities(network)\n",
    "        \n",
    "        newRanks = {}\n",
    "        for _ in range(0, steps):\n",
    "            for page in network:\n",
    "                newRanks[page] = 0\n",
    "                for other in page.links:\n",
    "                    newRanks[page] += other.rank / page.outDegree()\n",
    "                newRanks[page] *= alpha\n",
    "                newRanks[page] += (1-alpha) * page.q\n",
    "                \n",
    "        for page in network:\n",
    "            page.rank = newRanks[page]\n",
    "    \n",
    "    @staticmethod\n",
    "    def calculateInitialRanking(network):\n",
    "        for page in network:\n",
    "            page.rank = 1 / network.size()\n",
    "            \n",
    "    @staticmethod\n",
    "    def calculateJumpingProbabilities(network):\n",
    "        for page in network:\n",
    "            page.q = 1 / network.size()"
   ]
  },
  {
   "cell_type": "markdown",
   "metadata": {},
   "source": [
    "### Example"
   ]
  },
  {
   "cell_type": "code",
   "execution_count": 10,
   "metadata": {},
   "outputs": [],
   "source": [
    "PageRanker.rank(internet, 1000, 0.5)"
   ]
  },
  {
   "cell_type": "code",
   "execution_count": 11,
   "metadata": {},
   "outputs": [
    {
     "name": "stdout",
     "output_type": "stream",
     "text": [
      "YouTube: 0.3333333333333333\n",
      "Wikipedia: 0.3333333333333333\n",
      "Twitter: 0.3333333333333333\n"
     ]
    }
   ],
   "source": [
    "internet.showRanking()"
   ]
  },
  {
   "cell_type": "code",
   "execution_count": 12,
   "metadata": {
    "scrolled": true
   },
   "outputs": [],
   "source": [
    "PageRanker.rank(california, 100, 0.5)"
   ]
  },
  {
   "cell_type": "markdown",
   "metadata": {
    "collapsed": true
   },
   "source": [
    "## Visualization of (small) networks"
   ]
  },
  {
   "cell_type": "markdown",
   "metadata": {},
   "source": [
    "### With networkx"
   ]
  },
  {
   "cell_type": "code",
   "execution_count": 13,
   "metadata": {},
   "outputs": [],
   "source": [
    "import matplotlib as mpl\n",
    "import matplotlib.pyplot as plt\n",
    "import networkx as nx"
   ]
  },
  {
   "cell_type": "code",
   "execution_count": 14,
   "metadata": {},
   "outputs": [],
   "source": [
    "G = nx.DiGraph()\n",
    "for page in internet:\n",
    "    G.add_node(page)\n",
    "    for other in page.links:\n",
    "        G.add_edge(page, other)"
   ]
  },
  {
   "cell_type": "code",
   "execution_count": 15,
   "metadata": {},
   "outputs": [],
   "source": [
    "pos = nx.layout.spring_layout(G)"
   ]
  },
  {
   "cell_type": "code",
   "execution_count": 16,
   "metadata": {
    "scrolled": false
   },
   "outputs": [
    {
     "data": {
      "image/png": "[encoded data removed]",
      "text/plain": [
       "<Figure size 432x288 with 1 Axes>"
      ]
     },
     "metadata": {},
     "output_type": "display_data"
    }
   ],
   "source": [
    "node_sizes = [1000 + 3000*len(page.links) for page in G.nodes()]\n",
    "nx.draw(G, pos, with_labels = True, node_size=node_sizes, arrowsize=40, font_color=\"white\")\n",
    "plt.show()"
   ]
  },
  {
   "cell_type": "markdown",
   "metadata": {},
   "source": [
    "### With graphviz"
   ]
  },
  {
   "cell_type": "code",
   "execution_count": 17,
   "metadata": {},
   "outputs": [
    {
     "data": {
      "image/svg+xml": [
       "<?xml version=\"1.0\" encoding=\"UTF-8\" standalone=\"no\"?>\r\n",
       "<!DOCTYPE svg PUBLIC \"-//W3C//DTD SVG 1.1//EN\"\r\n",
       " \"http://www.w3.org/Graphics/SVG/1.1/DTD/svg11.dtd\">\r\n",
       "<!-- Generated by graphviz version 2.38.0 (20140413.2041)\r\n",
       " -->\r\n",
       "<!-- Title: %3 Pages: 1 -->\r\n",
       "<svg width=\"137pt\" height=\"188pt\"\r\n",
       " viewBox=\"0.00 0.00 136.94 188.00\" xmlns=\"http://www.w3.org/2000/svg\" xmlns:xlink=\"http://www.w3.org/1999/xlink\">\r\n",
       "<g id=\"graph0\" class=\"graph\" transform=\"scale(1 1) rotate(0) translate(4 184)\">\r\n",
       "<title>%3</title>\r\n",
       "<polygon fill=\"white\" stroke=\"none\" points=\"-4,4 -4,-184 132.942,-184 132.942,4 -4,4\"/>\r\n",
       "<!-- YouTube -->\r\n",
       "<g id=\"node1\" class=\"node\"><title>YouTube</title>\r\n",
       "<ellipse fill=\"none\" stroke=\"black\" cx=\"45.496\" cy=\"-90\" rx=\"45.4919\" ry=\"18\"/>\r\n",
       "<text text-anchor=\"middle\" x=\"45.496\" y=\"-86.3\" font-family=\"Times New Roman,serif\" font-size=\"14.00\">YouTube</text>\r\n",
       "</g>\r\n",
       "<!-- Twitter -->\r\n",
       "<g id=\"node2\" class=\"node\"><title>Twitter</title>\r\n",
       "<ellipse fill=\"none\" stroke=\"black\" cx=\"45.496\" cy=\"-18\" rx=\"36.2938\" ry=\"18\"/>\r\n",
       "<text text-anchor=\"middle\" x=\"45.496\" y=\"-14.3\" font-family=\"Times New Roman,serif\" font-size=\"14.00\">Twitter</text>\r\n",
       "</g>\r\n",
       "<!-- YouTube&#45;&gt;Twitter -->\r\n",
       "<g id=\"edge1\" class=\"edge\"><title>YouTube&#45;&gt;Twitter</title>\r\n",
       "<path fill=\"none\" stroke=\"black\" d=\"M39.6177,-72.055C38.7874,-64.2306 38.5502,-54.7484 38.9061,-45.9768\"/>\r\n",
       "<polygon fill=\"black\" stroke=\"black\" points=\"42.4124,-46.0131 39.6344,-35.789 35.4302,-45.514 42.4124,-46.0131\"/>\r\n",
       "</g>\r\n",
       "<!-- Twitter&#45;&gt;YouTube -->\r\n",
       "<g id=\"edge4\" class=\"edge\"><title>Twitter&#45;&gt;YouTube</title>\r\n",
       "<path fill=\"none\" stroke=\"black\" d=\"M51.3575,-35.789C52.1957,-43.5912 52.4408,-53.067 52.0928,-61.8479\"/>\r\n",
       "<polygon fill=\"black\" stroke=\"black\" points=\"48.5852,-61.8338 51.3742,-72.055 55.568,-62.3255 48.5852,-61.8338\"/>\r\n",
       "</g>\r\n",
       "<!-- Wikipedia -->\r\n",
       "<g id=\"node3\" class=\"node\"><title>Wikipedia</title>\r\n",
       "<ellipse fill=\"none\" stroke=\"black\" cx=\"81.496\" cy=\"-162\" rx=\"47.3916\" ry=\"18\"/>\r\n",
       "<text text-anchor=\"middle\" x=\"81.496\" y=\"-158.3\" font-family=\"Times New Roman,serif\" font-size=\"14.00\">Wikipedia</text>\r\n",
       "</g>\r\n",
       "<!-- Wikipedia&#45;&gt;YouTube -->\r\n",
       "<g id=\"edge2\" class=\"edge\"><title>Wikipedia&#45;&gt;YouTube</title>\r\n",
       "<path fill=\"none\" stroke=\"black\" d=\"M72.7814,-144.055C68.5805,-135.887 63.4505,-125.912 58.7771,-116.824\"/>\r\n",
       "<polygon fill=\"black\" stroke=\"black\" points=\"61.8164,-115.081 54.1303,-107.789 55.5913,-118.283 61.8164,-115.081\"/>\r\n",
       "</g>\r\n",
       "<!-- Wikipedia&#45;&gt;Twitter -->\r\n",
       "<g id=\"edge3\" class=\"edge\"><title>Wikipedia&#45;&gt;Twitter</title>\r\n",
       "<path fill=\"none\" stroke=\"black\" d=\"M90.6757,-144.015C99.3,-125.66 109.501,-95.8389 99.496,-72 94.2011,-59.3841 84.2758,-48.2606 74.3645,-39.5035\"/>\r\n",
       "<polygon fill=\"black\" stroke=\"black\" points=\"76.444,-36.6814 66.5076,-33.0046 71.9824,-42.0753 76.444,-36.6814\"/>\r\n",
       "</g>\r\n",
       "</g>\r\n",
       "</svg>\r\n"
      ],
      "text/plain": [
       "<graphviz.dot.Digraph at 0x24bb9dc8668>"
      ]
     },
     "execution_count": 17,
     "metadata": {},
     "output_type": "execute_result"
    }
   ],
   "source": [
    "from graphviz import Digraph\n",
    "\n",
    "f = Digraph()\n",
    "for page in internet:\n",
    "    f.node(str(page))\n",
    "    for other in page.links:\n",
    "        f.edge(str(page), str(other))\n",
    "        \n",
    "f"
   ]
  }
 ],
 "metadata": {
  "kernelspec": {
   "display_name": "Python 3",
   "language": "python",
   "name": "python3"
  },
  "language_info": {
   "codemirror_mode": {
    "name": "ipython",
    "version": 3
   },
   "file_extension": ".py",
   "mimetype": "text/x-python",
   "name": "python",
   "nbconvert_exporter": "python",
   "pygments_lexer": "ipython3",
   "version": "3.6.10"
  }
 },
 "nbformat": 4,
 "nbformat_minor": 2
}
