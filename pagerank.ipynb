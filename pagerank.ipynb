{
 "cells": [
  {
   "cell_type": "markdown",
   "metadata": {},
   "source": [
    "# Page rank"
   ]
  },
  {
   "cell_type": "markdown",
   "metadata": {},
   "source": [
    "## Imports"
   ]
  },
  {
   "cell_type": "code",
   "execution_count": 2,
   "metadata": {
    "collapsed": true
   },
   "outputs": [],
   "source": [
    "import matplotlib as mpl\n",
    "import matplotlib.pyplot as plt\n",
    "\n",
    "import seaborn as sns\n",
    "import pandas as pd\n",
    "\n",
    "import networkx as nx\n",
    "import graphviz as gv"
   ]
  },
  {
   "cell_type": "markdown",
   "metadata": {},
   "source": [
    "## Network classes"
   ]
  },
  {
   "cell_type": "code",
   "execution_count": 3,
   "metadata": {
    "collapsed": true
   },
   "outputs": [],
   "source": [
    "class Page:\n",
    "    \"\"\"A class representing a webpage.\"\"\"\n",
    "    def __init__(self, name):\n",
    "        \"\"\"Constructor method, takes the name of the webpage as an argument.\"\"\"\n",
    "        self.name = name\n",
    "        self.outgoingLinks = []\n",
    "        self.incomingLinks = []\n",
    "        \n",
    "    def __repr__(self):\n",
    "        \"\"\"A page is represented by its name.\"\"\"\n",
    "        return self.name\n",
    "    \n",
    "    def addLinkFrom(self, other):\n",
    "        \"\"\"Adds a link from another page, ending at this page\"\"\"\n",
    "        self.incomingLinks.append(other)\n",
    "    \n",
    "    def addLinkTo(self, other):\n",
    "        \"\"\"Adds a link to another page, starting from this page\"\"\"\n",
    "        self.outgoingLinks.append(other)\n",
    "        other.addLinkFrom(self)\n",
    "        \n",
    "    def addLinksTo(self, *args):\n",
    "        \"\"\"Adds a link to another page, starting from this page\"\"\"\n",
    "        for page in args:\n",
    "            self.addLinkTo(page)\n",
    "        \n",
    "    def outDegree(self):\n",
    "        \"\"\"Returns the amount of links this page has to other pages, i.e. its out-degree\"\"\"\n",
    "        return len(self.outgoingLinks)\n",
    "    \n",
    "    def getName(self):\n",
    "        return self.name\n",
    "    \n",
    "    def linksTo(self, other) -> bool:\n",
    "        return other in self.outgoingLinks"
   ]
  },
  {
   "cell_type": "code",
   "execution_count": 4,
   "metadata": {
    "collapsed": true
   },
   "outputs": [],
   "source": [
    "class Network:\n",
    "    \"\"\"A class representing a network of webpages\"\"\"\n",
    "    def __init__(self):\n",
    "        \"\"\"A network starts without any pages.\"\"\"\n",
    "        self.pages = []\n",
    "        self.counter = 0\n",
    "        \n",
    "        # Whether the dataframe is out of date\n",
    "        self.old_df = True\n",
    "    \n",
    "    def __iter__(self):\n",
    "        \"\"\"Iterating over a network is the same as iterating over its pages.\"\"\"\n",
    "        return iter(self.pages)\n",
    "        \n",
    "    def addPage(self, page: Page):\n",
    "        \"\"\"Adds a page to the network\"\"\"\n",
    "        # give the page an id (since the name of the webpage doesn't have to be unique)\n",
    "        page.id = self.counter\n",
    "        self.counter += 1\n",
    "        self.pages.append(page)\n",
    "        \n",
    "        # Dataframe is out of date now\n",
    "        self.old_df = True\n",
    "        \n",
    "    def addPages(self, *args):\n",
    "        \"\"\"Adds multiple pages to the network\"\"\"\n",
    "        for page in args:\n",
    "            self.addPage(page)\n",
    "        \n",
    "    def getPages(self):\n",
    "        \"\"\"Returns the pages in the network.\"\"\"\n",
    "        return self.pages\n",
    "    \n",
    "    def size(self):\n",
    "        \"\"\"Returns the size of the network.\"\"\"\n",
    "        return len(self.pages)\n",
    "    \n",
    "    def showRanking(self):\n",
    "        \"\"\"\n",
    "        Prints the pages with their corresponding rank. \n",
    "        Not sorted on anything in particular, prints in increasing id.\n",
    "        \"\"\"\n",
    "        for page in self:\n",
    "            print(f'{page.name}: {page.rank}')\n",
    "            \n",
    "    def debugRanking(self):\n",
    "        \"\"\"\n",
    "        Computes the sum of the rank of all pages in the network, which *should* return 1.\n",
    "        \"\"\"\n",
    "        rankSum = 0\n",
    "        for page in self:\n",
    "            rankSum += page.rank\n",
    "        print(rankSum)\n",
    "    \n",
    "    # ----------------------------------------------------------\n",
    "    # --------------------- VISUALIZATION ----------------------\n",
    "    # ----------------------------------------------------------\n",
    "    \n",
    "    # ------------------- NODE-LINK DIAGRAMS ------------------- \n",
    "    def nxDiGraph(self):\n",
    "        \"\"\"Calculates networkx DiGraph\"\"\"\n",
    "        # make a directed graph\n",
    "        G = nx.DiGraph()\n",
    "        \n",
    "        # add all the edges and nodes to it\n",
    "        for page in self:\n",
    "            G.add_node(page)\n",
    "            for other in page.outgoingLinks:\n",
    "                G.add_edge(page, other)\n",
    "        \n",
    "        return G\n",
    "    \n",
    "    def plot1(self, names=False):\n",
    "        \"\"\"\n",
    "        Plot using networkx.\n",
    "        Node size based on *number of links*\n",
    "        \"\"\"\n",
    "        G = self.nxDiGraph()\n",
    "        \n",
    "        # calculate a layout (force-directed)\n",
    "        pos = nx.layout.spring_layout(G)\n",
    "\n",
    "        # scale nodes by amount of links\n",
    "        node_sizes = [1000 + 3000*len(page.outgoingLinks) for page in G.nodes()]\n",
    "        \n",
    "        if not names:\n",
    "            # labels\n",
    "            labels = {page:page.id for page in G.nodes()}\n",
    "            \n",
    "            nx.draw(G, pos, with_labels=True, labels=labels, node_size=node_sizes, arrowsize=40, font_color=\"white\")\n",
    "        else:\n",
    "            nx.draw(G, pos, with_labels=True, node_size=node_sizes, arrowsize=40, font_color=\"white\")\n",
    "        plt.show()\n",
    "    \n",
    "    def plot2(self, names=False):\n",
    "        \"\"\"Plot using networkx. Node size based on *rank*\"\"\"\n",
    "        G = self.nxDiGraph()\n",
    "        \n",
    "        # calculate a layout (force-directed)\n",
    "        pos = nx.layout.spring_layout(G)\n",
    "\n",
    "        # scale nodes by rank\n",
    "        node_sizes = [1000 + 3000*page.rank for page in G.nodes()]\n",
    "        \n",
    "        if not names:\n",
    "            # labels\n",
    "            labels = {page:page.id for page in G.nodes()}\n",
    "            \n",
    "            nx.draw(G, pos, with_labels=True, labels=labels, node_size=node_sizes, arrowsize=40, font_color=\"white\")\n",
    "        else:\n",
    "            nx.draw(G, pos, with_labels=True, node_size=node_sizes, arrowsize=40, font_color=\"white\")\n",
    "        plt.show()\n",
    "        \n",
    "    def plot0(self):\n",
    "        \"\"\"Plot using graphviz\"\"\"\n",
    "        f = gv.Digraph()\n",
    "        for page in self:\n",
    "            f.node(str(page))\n",
    "            for other in page.outgoingLinks:\n",
    "                f.edge(str(page), str(other))\n",
    "\n",
    "        return f\n",
    "    \n",
    "    # ----------------------- STATISTICS -----------------------\n",
    "    def updateDf(self):\n",
    "        \"\"\"Update pandas DataFrame of this network.\"\"\"\n",
    "        \n",
    "        # Prepare a dataframe\n",
    "        df = pd.DataFrame(columns=['Name', 'Outdegree', 'Indegree'])\n",
    "        \n",
    "        df['Name'] = list(map(Page.getName, self.pages))\n",
    "        df['Outdegree'] = list(map(Page.outDegree, self.pages))\n",
    "        df.fillna(0, inplace=True)\n",
    "        \n",
    "        # Count indegree of every page\n",
    "        for page in self:\n",
    "            for link in page.outgoingLinks:\n",
    "                df.at[link.id, 'Indegree'] += 1\n",
    "        \n",
    "        # Update dataframe\n",
    "        self.df = df\n",
    "        self.old_df = False\n",
    "        \n",
    "    def plot_outdegrees(self):\n",
    "        \"\"\"Plots a histogram of the outdegree of the pages in the network.\"\"\"\n",
    "        if self.old_df:\n",
    "            self.updateDf()\n",
    "        \n",
    "        ax = sns.distplot(self.df['Outdegree'], kde=False, rug=True)\n",
    "        ax.set_xlabel(\"Outdegree (number of links to other pages)\")\n",
    "        ax.set_ylabel(\"Frequency\")\n",
    "        \n",
    "    def plot_indegrees(self):\n",
    "        \"\"\"Plots a histogram of the indegree of the pages in the network.\"\"\"\n",
    "        if self.old_df:\n",
    "            self.updateDf()\n",
    "        \n",
    "        ax = sns.distplot(self.df['Indegree'], kde=False, rug=True)\n",
    "        ax.set_xlabel(\"Indegree (number of links to this page from other pages)\")\n",
    "        ax.set_ylabel(\"Frequency\")\n",
    "        \n",
    "    def describe(self):\n",
    "        \"\"\"Prints a table of summary statistics of this network.\"\"\"\n",
    "        if self.old_df:\n",
    "            self.updateDf()\n",
    "            \n",
    "        return self.df.describe()\n",
    "    \n",
    "    def getDf(self):\n",
    "        \"\"\"Returns the dataframe of this network, updates it when needed.\"\"\"\n",
    "        if self.old_df:\n",
    "            self.updateDf()\n",
    "            \n",
    "        return self.df\n",
    "    \n",
    "    def sinks(self):\n",
    "        \"\"\"Returns the sinks of the network.\"\"\"\n",
    "        if self.old_df:\n",
    "            self.updateDf()\n",
    "            \n",
    "        return self.df[self.df['Outdegree'] == 0]\n",
    "        \n",
    "    def sources(self):\n",
    "        \"\"\"Returns the sources of the network.\"\"\"\n",
    "        if self.old_df:\n",
    "            self.updateDf()\n",
    "            \n",
    "        return self.df[self.df['Indegree'] == 0]"
   ]
  },
  {
   "cell_type": "markdown",
   "metadata": {},
   "source": [
    "### Example Wikipedia-YouTube-Twitter"
   ]
  },
  {
   "cell_type": "code",
   "execution_count": 23,
   "metadata": {
    "collapsed": true
   },
   "outputs": [],
   "source": [
    "wiki = Page(\"Wikipedia\")\n",
    "yt = Page(\"YouTube\")\n",
    "twitter = Page(\"Twitter\")\n",
    "\n",
    "wiki.addLinkTo(yt)\n",
    "wiki.addLinkTo(twitter)\n",
    "yt.addLinkTo(twitter)\n",
    "twitter.addLinkTo(yt)"
   ]
  },
  {
   "cell_type": "code",
   "execution_count": 24,
   "metadata": {
    "collapsed": true
   },
   "outputs": [],
   "source": [
    "internet = Network()\n",
    "internet.addPages(yt, wiki, twitter)"
   ]
  },
  {
   "cell_type": "code",
   "execution_count": 25,
   "metadata": {
    "scrolled": true
   },
   "outputs": [
    {
     "data": {
      "text/plain": [
       "[YouTube, Wikipedia, Twitter]"
      ]
     },
     "execution_count": 25,
     "metadata": {},
     "output_type": "execute_result"
    }
   ],
   "source": [
    "pages = internet.getPages()\n",
    "pages"
   ]
  },
  {
   "cell_type": "code",
   "execution_count": 26,
   "metadata": {},
   "outputs": [
    {
     "data": {
      "text/plain": [
       "[Wikipedia, Twitter]"
      ]
     },
     "execution_count": 26,
     "metadata": {},
     "output_type": "execute_result"
    }
   ],
   "source": [
    "yt.incomingLinks"
   ]
  },
  {
   "cell_type": "code",
   "execution_count": 27,
   "metadata": {
    "scrolled": true
   },
   "outputs": [
    {
     "data": {
      "text/plain": [
       "[Twitter]"
      ]
     },
     "execution_count": 27,
     "metadata": {},
     "output_type": "execute_result"
    }
   ],
   "source": [
    "yt.outgoingLinks"
   ]
  },
  {
   "cell_type": "markdown",
   "metadata": {},
   "source": [
    "### Example California Network"
   ]
  },
  {
   "cell_type": "code",
   "execution_count": null,
   "metadata": {
    "collapsed": true
   },
   "outputs": [],
   "source": [
    "with open(\"california.txt\") as f:\n",
    "    content = f.read().splitlines()"
   ]
  },
  {
   "cell_type": "code",
   "execution_count": null,
   "metadata": {
    "collapsed": true
   },
   "outputs": [],
   "source": [
    "california = Network()\n",
    "for line in content:\n",
    "    if line[0] == 'n':\n",
    "        california.addPage(Page(line.split()[2]))\n",
    "    elif line[0] == 'e':\n",
    "        n1 = california.pages[int(line.split()[1])]\n",
    "        n2 = california.pages[int(line.split()[2])]\n",
    "        \n",
    "        n1.addLinkTo(n2)"
   ]
  },
  {
   "cell_type": "markdown",
   "metadata": {},
   "source": [
    "## Ranking the pages"
   ]
  },
  {
   "cell_type": "code",
   "execution_count": 5,
   "metadata": {
    "collapsed": true
   },
   "outputs": [],
   "source": [
    "class PageRanker:\n",
    "    \"\"\"A static class for ranking a network.\"\"\"\n",
    "    \n",
    "    @staticmethod\n",
    "    def rankCR(network: Network, steps: int, alpha: float): # rankCR = rankCertainRestart\n",
    "        \"\"\"\n",
    "        Ranks a network via the PageRank algorithm.\n",
    "        \n",
    "        --- Parameters ---\n",
    "        network: The Network to rank.\n",
    "        steps: The number of iterations to do.\n",
    "        alpha: The probability of going to another page via clicking a link.\n",
    "        \"\"\"\n",
    "        PageRanker.calculateInitialRanking(network)\n",
    "        PageRanker.calculateJumpingProbabilities(network)\n",
    "        \n",
    "        newRanks = {}\n",
    "        for _ in range(0, steps):\n",
    "#             text = \"(\"\n",
    "#             for page in network:\n",
    "#                 text += str(page.rank)\n",
    "#                 text += \", \"\n",
    "#             text += \")\"\n",
    "#             print(text)\n",
    "#             network.debugRanking()\n",
    "\n",
    "            for page in network:\n",
    "                newRanks[page] = 0\n",
    "            # Sum dot product of column and stationary distribution\n",
    "                for other in network:\n",
    "                    if other.outDegree() > 0:\n",
    "                        newRanks[page] += other.rank * page.q * (1 - alpha)\n",
    "                    else:\n",
    "                        newRanks[page] += other.rank * page.q\n",
    "                    if other.linksTo(page):\n",
    "                        newRanks[page] += other.rank * alpha / other.outDegree()\n",
    "\n",
    "            for page in network:\n",
    "                page.rank = newRanks[page]\n",
    "    \n",
    "    @staticmethod\n",
    "    def rank(network: Network, steps: int, alpha: float):         # Runtime O(steps * #pages * max. incoming links for a page)\n",
    "        \"\"\"\n",
    "        Ranks a network via the PageRank algorithm.\n",
    "        \n",
    "        --- Parameters ---\n",
    "        network: The Network to rank.\n",
    "        steps: The number of iterations to do.\n",
    "        alpha: The probability of going to another page via clicking a link.\n",
    "        \"\"\"\n",
    "        PageRanker.calculateInitialRanking(network)\n",
    "        PageRanker.calculateJumpingProbabilities(network)\n",
    "        \n",
    "        newRanks = {}\n",
    "        for _ in range(0, steps):\n",
    "#             text = \"(\"\n",
    "#             for page in network:\n",
    "#                 text += str(page.rank)\n",
    "#                 text += \", \"\n",
    "#             text += \")\"\n",
    "#             print(text)\n",
    "#             network.debugRanking()\n",
    "\n",
    "            for page in network:\n",
    "                newRanks[page] = 0\n",
    "                for other in page.incomingLinks:\n",
    "                    newRanks[page] += other.rank / other.outDegree()\n",
    "                newRanks[page] *= alpha\n",
    "                newRanks[page] += (1-alpha) * page.q\n",
    "                \n",
    "            for page in network:\n",
    "                page.rank = newRanks[page]\n",
    "\n",
    "        # Normalize newRanks vector so it sums to 1 & declare new ranks\n",
    "        # normalize at the end, but not every step -- dan geeft het dezelfde resultaten als networkx.\n",
    "        # Weet niet of dat beter is maar lijkt me wel? Anders probeert een rank te convergeren naar een\n",
    "        # waarde en wordt het steeds terug genormalizeerd.\n",
    "        newRanksSum = sum(newRanks.values())\n",
    "        for page in network:\n",
    "            page.rank = newRanks[page]/newRanksSum\n",
    "\n",
    "    \n",
    "    @staticmethod\n",
    "    def calculateInitialRanking(network: Network):\n",
    "        \"\"\"\n",
    "        Calculates an initial ranking for the given network.\n",
    "        Currently just gives each page a ranking of 1 / size of the network.\n",
    "        \"\"\"\n",
    "        for page in network:\n",
    "            page.rank = 1.0 / network.size()\n",
    "#             print(\"initial rank for \" + str(network.size()) + \" pages is \" + str((1.0 / network.size())) )\n",
    "            # When looking at the above print command for large networks, the sum doesn't necessarily add to 1 perfectly\n",
    "            # anymore due to rounding errors\n",
    "            \n",
    "    @staticmethod\n",
    "    def calculateJumpingProbabilities(network: Network):\n",
    "        \"\"\"Calculates the probabilities of jumping to each page.\"\"\"\n",
    "        for page in network:\n",
    "            page.q = 1.0 / network.size()"
   ]
  },
  {
   "cell_type": "markdown",
   "metadata": {},
   "source": [
    "### Example Wikipedia-YouTube-Twitter Calculation"
   ]
  },
  {
   "cell_type": "markdown",
   "metadata": {},
   "source": [
    "#### Wikipedia-YouTube-Twitter with the Certain Restart Version"
   ]
  },
  {
   "cell_type": "code",
   "execution_count": 28,
   "metadata": {
    "scrolled": true
   },
   "outputs": [
    {
     "name": "stdout",
     "output_type": "stream",
     "text": [
      "YouTube: 0.41666666666666663\n",
      "Wikipedia: 0.16666666666666663\n",
      "Twitter: 0.41666666666666663\n",
      "0.9999999999999999\n"
     ]
    }
   ],
   "source": [
    "PageRanker.rankCR(internet, 10, 0.5)\n",
    "internet.showRanking()\n",
    "internet.debugRanking()"
   ]
  },
  {
   "cell_type": "markdown",
   "metadata": {},
   "source": [
    "As long as the network does not have a sink, the ranks seem to be calculated correctly and still sum to 1. "
   ]
  },
  {
   "cell_type": "markdown",
   "metadata": {},
   "source": [
    "#### Wikipedia-YouTube-Twitter with Normalizer Version"
   ]
  },
  {
   "cell_type": "code",
   "execution_count": 29,
   "metadata": {},
   "outputs": [],
   "source": [
    "PageRanker.rank(internet, 10, 0.5) "
   ]
  },
  {
   "cell_type": "code",
   "execution_count": 30,
   "metadata": {},
   "outputs": [
    {
     "name": "stdout",
     "output_type": "stream",
     "text": [
      "YouTube: 0.4166666666666667\n",
      "Wikipedia: 0.16666666666666669\n",
      "Twitter: 0.4166666666666667\n"
     ]
    }
   ],
   "source": [
    "internet.showRanking()"
   ]
  },
  {
   "cell_type": "code",
   "execution_count": 31,
   "metadata": {},
   "outputs": [
    {
     "name": "stdout",
     "output_type": "stream",
     "text": [
      "1.0\n"
     ]
    }
   ],
   "source": [
    "internet.debugRanking() # This one is the one with the normalizer feature, naturally it sums perfectly to 1 for this simple network"
   ]
  },
  {
   "cell_type": "markdown",
   "metadata": {},
   "source": [
    "### Example California Network Calculation"
   ]
  },
  {
   "cell_type": "markdown",
   "metadata": {},
   "source": [
    "#### Certain Restart Version"
   ]
  },
  {
   "cell_type": "code",
   "execution_count": null,
   "metadata": {
    "collapsed": true,
    "scrolled": true
   },
   "outputs": [],
   "source": [
    "# slow (this is only 1 iteration!)\n",
    "# PageRanker.rankCR(california, 1, 0.5)\n",
    "# california.showRanking()\n",
    "# california.debugRanking()"
   ]
  },
  {
   "cell_type": "markdown",
   "metadata": {},
   "source": [
    "#### Normalizer Version"
   ]
  },
  {
   "cell_type": "code",
   "execution_count": null,
   "metadata": {},
   "outputs": [],
   "source": [
    "PageRanker.rank(california, 100, 0.5)\n",
    "california.showRanking()\n",
    "california.debugRanking()"
   ]
  },
  {
   "cell_type": "markdown",
   "metadata": {},
   "source": [
    "### Edge Case: Source -> Sink"
   ]
  },
  {
   "cell_type": "markdown",
   "metadata": {},
   "source": [
    "#### Normalizer Version"
   ]
  },
  {
   "cell_type": "code",
   "execution_count": null,
   "metadata": {
    "collapsed": true
   },
   "outputs": [],
   "source": [
    "criminal = Network()\n",
    "page1 = Page(\"Source\")\n",
    "page2 = Page(\"Sink\")\n",
    "page1.addLinkTo(page2)\n",
    "criminal.addPages(page1, page2)"
   ]
  },
  {
   "cell_type": "code",
   "execution_count": null,
   "metadata": {},
   "outputs": [],
   "source": [
    "criminal.plot0()"
   ]
  },
  {
   "cell_type": "code",
   "execution_count": null,
   "metadata": {},
   "outputs": [],
   "source": [
    "PageRanker.rank(criminal, 10, 0.5)\n",
    "criminal.showRanking()\n",
    "criminal.debugRanking()"
   ]
  },
  {
   "cell_type": "code",
   "execution_count": null,
   "metadata": {},
   "outputs": [],
   "source": [
    "nx.pagerank(criminal.nxDiGraph(), alpha=0.5, max_iter=10)"
   ]
  },
  {
   "cell_type": "markdown",
   "metadata": {},
   "source": [
    "#### Certain Restart Version"
   ]
  },
  {
   "cell_type": "code",
   "execution_count": null,
   "metadata": {},
   "outputs": [],
   "source": [
    "PageRanker.rankCR(criminal, 10, 0.5)\n",
    "criminal.showRanking()\n",
    "criminal.debugRanking()"
   ]
  },
  {
   "cell_type": "markdown",
   "metadata": {},
   "source": [
    "### Timo's handsolved network"
   ]
  },
  {
   "cell_type": "code",
   "execution_count": null,
   "metadata": {},
   "outputs": [],
   "source": [
    "handsolved = Network()\n",
    "w1 = Page(\"Website 1\")\n",
    "w2 = Page(\"Website 2\")\n",
    "w3 = Page(\"Website 3\")\n",
    "w4 = Page(\"Website 4\")\n",
    "w5 = Page(\"Website 5\")\n",
    "\n",
    "w1.addLinksTo(w2, w3, w4, w5)\n",
    "w2.addLinksTo(w3, w4, w5)\n",
    "w3.addLinksTo(w1, w2, w4, w5)\n",
    "w4.addLinksTo(w2, w3)\n",
    "w5.addLinkTo(w4)\n",
    "\n",
    "handsolved.addPages(w1, w2, w3, w4, w5)\n",
    "handsolved.plot0()"
   ]
  },
  {
   "cell_type": "code",
   "execution_count": null,
   "metadata": {},
   "outputs": [],
   "source": [
    "PageRanker.rankCR(handsolved, 100, 0.5)\n",
    "handsolved.showRanking()"
   ]
  },
  {
   "cell_type": "code",
   "execution_count": null,
   "metadata": {},
   "outputs": [],
   "source": [
    "print(f'Website 1: {36/283}')\n",
    "print(f'Website 2: {297/1415}')\n",
    "print(f'Website 3: {308/1415}')\n",
    "print(f'Website 4: {378/1415}')\n",
    "print(f'Website 5: {252/1415}')"
   ]
  },
  {
   "cell_type": "markdown",
   "metadata": {
    "collapsed": true
   },
   "source": [
    "## Visualization of (small) networks"
   ]
  },
  {
   "cell_type": "markdown",
   "metadata": {},
   "source": [
    "### With networkx"
   ]
  },
  {
   "cell_type": "code",
   "execution_count": null,
   "metadata": {
    "scrolled": false
   },
   "outputs": [],
   "source": [
    "# size based on links\n",
    "internet.plot1()"
   ]
  },
  {
   "cell_type": "code",
   "execution_count": null,
   "metadata": {},
   "outputs": [],
   "source": [
    "# plot with names (works in this case, but often labels are too large for the nodes)\n",
    "internet.plot1(names=True)"
   ]
  },
  {
   "cell_type": "code",
   "execution_count": null,
   "metadata": {},
   "outputs": [],
   "source": [
    "#size based on rank\n",
    "internet.plot2()"
   ]
  },
  {
   "cell_type": "markdown",
   "metadata": {},
   "source": [
    "### With graphviz"
   ]
  },
  {
   "cell_type": "code",
   "execution_count": null,
   "metadata": {
    "collapsed": true
   },
   "outputs": [],
   "source": [
    "#internet.plot0()"
   ]
  },
  {
   "cell_type": "markdown",
   "metadata": {},
   "source": [
    "### Example Calculation with Homepage to 99 Sites"
   ]
  },
  {
   "cell_type": "markdown",
   "metadata": {},
   "source": [
    "#### Certain Restart Version"
   ]
  },
  {
   "cell_type": "code",
   "execution_count": null,
   "metadata": {
    "scrolled": true
   },
   "outputs": [],
   "source": [
    "internetV2= Network()\n",
    "homepage = Page(\"Homepage\")\n",
    "for i in range(0,99):\n",
    "    p = Page(\"test\" + str(i))\n",
    "    homepage.addLinkTo(p)\n",
    "    internetV2.addPage(p)\n",
    "internetV2.addPage(homepage)\n",
    "PageRanker.rankCR(internetV2, 100, 0.5)\n",
    "internetV2.showRanking()\n",
    "internetV2.debugRanking()"
   ]
  },
  {
   "cell_type": "markdown",
   "metadata": {},
   "source": [
    "#### Normalizer Version"
   ]
  },
  {
   "cell_type": "code",
   "execution_count": null,
   "metadata": {},
   "outputs": [],
   "source": [
    "PageRanker.rank(internetV2, 100, 0.5)\n",
    "internetV2.showRanking()\n",
    "internetV2.debugRanking()"
   ]
  },
  {
   "cell_type": "code",
   "execution_count": null,
   "metadata": {},
   "outputs": [],
   "source": [
    "internetV2.plot2()"
   ]
  },
  {
   "cell_type": "markdown",
   "metadata": {},
   "source": [
    "### Example Calculation with \"Endpage\" which is linked to from 99 Sites"
   ]
  },
  {
   "cell_type": "markdown",
   "metadata": {},
   "source": [
    "#### Certain Restart Version"
   ]
  },
  {
   "cell_type": "code",
   "execution_count": null,
   "metadata": {
    "scrolled": true
   },
   "outputs": [],
   "source": [
    "internetV3= Network()\n",
    "endpage = Page(\"Endpage\")\n",
    "for i in range(0,99):\n",
    "    p = Page(\"test\" + str(i))\n",
    "    p.addLinkTo(endpage)\n",
    "    internetV3.addPage(p)\n",
    "internetV3.addPage(endpage)\n",
    "PageRanker.rankCR(internetV3, 1000, 0.5)\n",
    "internetV3.showRanking()\n",
    "internetV3.debugRanking()"
   ]
  },
  {
   "cell_type": "markdown",
   "metadata": {},
   "source": [
    "#### Normalizer Version"
   ]
  },
  {
   "cell_type": "code",
   "execution_count": null,
   "metadata": {},
   "outputs": [],
   "source": [
    "PageRanker.rank(internetV3, 1000, 0.5)\n",
    "internetV3.showRanking()\n",
    "internetV3.debugRanking()"
   ]
  },
  {
   "cell_type": "markdown",
   "metadata": {},
   "source": [
    "## Statistics"
   ]
  },
  {
   "cell_type": "code",
   "execution_count": null,
   "metadata": {},
   "outputs": [],
   "source": [
    "internet.sources()"
   ]
  },
  {
   "cell_type": "code",
   "execution_count": null,
   "metadata": {},
   "outputs": [],
   "source": [
    "internet.sinks()"
   ]
  },
  {
   "cell_type": "code",
   "execution_count": null,
   "metadata": {},
   "outputs": [],
   "source": [
    "california.sinks()"
   ]
  },
  {
   "cell_type": "code",
   "execution_count": null,
   "metadata": {
    "scrolled": true
   },
   "outputs": [],
   "source": [
    "california.sources()"
   ]
  },
  {
   "cell_type": "code",
   "execution_count": null,
   "metadata": {
    "scrolled": false
   },
   "outputs": [],
   "source": [
    "internet.plot_outdegrees()"
   ]
  },
  {
   "cell_type": "code",
   "execution_count": null,
   "metadata": {},
   "outputs": [],
   "source": [
    "internet.plot_indegrees()"
   ]
  },
  {
   "cell_type": "code",
   "execution_count": null,
   "metadata": {},
   "outputs": [],
   "source": [
    "internet.describe()"
   ]
  },
  {
   "cell_type": "code",
   "execution_count": null,
   "metadata": {},
   "outputs": [],
   "source": [
    "california.plot_outdegrees()"
   ]
  },
  {
   "cell_type": "code",
   "execution_count": null,
   "metadata": {},
   "outputs": [],
   "source": [
    "california.plot_indegrees()"
   ]
  },
  {
   "cell_type": "code",
   "execution_count": null,
   "metadata": {},
   "outputs": [],
   "source": [
    "california.describe()"
   ]
  },
  {
   "cell_type": "code",
   "execution_count": null,
   "metadata": {
    "collapsed": true
   },
   "outputs": [],
   "source": []
  },
  {
   "cell_type": "code",
   "execution_count": null,
   "metadata": {
    "collapsed": true
   },
   "outputs": [],
   "source": []
  },
  {
   "cell_type": "code",
   "execution_count": null,
   "metadata": {
    "collapsed": true
   },
   "outputs": [],
   "source": []
  },
  {
   "cell_type": "markdown",
   "metadata": {},
   "source": [
    "# Example networks"
   ]
  },
  {
   "cell_type": "markdown",
   "metadata": {},
   "source": [
    "## 10 websites"
   ]
  },
  {
   "cell_type": "markdown",
   "metadata": {},
   "source": [
    "### Twee of drie verschillende stelsels, Custimization: Add third little network of 2 websites and/or add a link from website 8 to these two websites"
   ]
  },
  {
   "cell_type": "code",
   "execution_count": 59,
   "metadata": {},
   "outputs": [],
   "source": [
    "#hier kunnen zo'n hashtags voor worden gezet voor verschillende stelsels/links\n",
    "\n",
    "Website1 = Page(\"Website1\")\n",
    "Website2 = Page(\"Website2\")\n",
    "Website3 = Page(\"Website3\")\n",
    "Website4 = Page(\"Website4\")\n",
    "Website5 = Page(\"Website5\")\n",
    "Website6 = Page(\"Website6\")\n",
    "Website7 = Page(\"Website7\")\n",
    "Website8 = Page(\"Website8\")\n",
    "Website9 = Page(\"Website9\")\n",
    "Website10 = Page(\"Website10\")\n",
    "\n",
    "Website1.addLinkTo(Website2)\n",
    "Website1.addLinkTo(Website3)\n",
    "Website1.addLinkTo(Website4)\n",
    "\n",
    "Website2.addLinkTo(Website1)\n",
    "Website2.addLinkTo(Website3)\n",
    "Website2.addLinkTo(Website4)\n",
    "\n",
    "Website3.addLinkTo(Website1)\n",
    "Website3.addLinkTo(Website2)\n",
    "Website3.addLinkTo(Website4)\n",
    "\n",
    "Website4.addLinkTo(Website1)\n",
    "Website4.addLinkTo(Website2)\n",
    "Website4.addLinkTo(Website3)\n",
    "\n",
    "Website5.addLinkTo(Website6)\n",
    "Website5.addLinkTo(Website7)\n",
    "Website5.addLinkTo(Website8)\n",
    "\n",
    "Website6.addLinkTo(Website5)\n",
    "Website6.addLinkTo(Website7)\n",
    "Website6.addLinkTo(Website8)\n",
    "\n",
    "Website7.addLinkTo(Website5)\n",
    "Website7.addLinkTo(Website6)\n",
    "Website7.addLinkTo(Website8)\n",
    "\n",
    "Website8.addLinkTo(Website5)\n",
    "Website8.addLinkTo(Website6)\n",
    "Website8.addLinkTo(Website7)\n",
    "\n",
    "#Website8.addLinkTo(Website9)\n",
    "#Website8.addLinkTo(Website10)\n",
    "\n",
    "#Website9.addLinkTo(Website10)\n",
    "#Website10.addLinkTo(Website9)\n",
    "\n",
    "\n",
    "network2Different = Network()\n",
    "network2Different.addPages(Website1,Website2,Website3,Website4,Website5,Website6,Website7,Website8)\n",
    "#network2Different.addPages(Website1,Website2,Website3,Website4,Website5,Website6,Website7,Website8,Website9,Website10)"
   ]
  },
  {
   "cell_type": "code",
   "execution_count": 60,
   "metadata": {},
   "outputs": [
    {
     "name": "stdout",
     "output_type": "stream",
     "text": [
      "Website1: 0.12499999999999999\n",
      "Website2: 0.12499999999999999\n",
      "Website3: 0.12499999999999999\n",
      "Website4: 0.12499999999999999\n",
      "Website5: 0.12499999999999999\n",
      "Website6: 0.12499999999999999\n",
      "Website7: 0.12499999999999999\n",
      "Website8: 0.12499999999999999\n",
      "0.9999999999999999\n"
     ]
    }
   ],
   "source": [
    "PageRanker.rankCR(network2Different, 10, 0.5)\n",
    "network2Different.showRanking()\n",
    "network2Different.debugRanking()"
   ]
  },
  {
   "cell_type": "code",
   "execution_count": 61,
   "metadata": {},
   "outputs": [
    {
     "name": "stdout",
     "output_type": "stream",
     "text": [
      "Website1: 0.125\n",
      "Website2: 0.125\n",
      "Website3: 0.125\n",
      "Website4: 0.125\n",
      "Website5: 0.125\n",
      "Website6: 0.125\n",
      "Website7: 0.125\n",
      "Website8: 0.125\n"
     ]
    }
   ],
   "source": [
    "PageRanker.rank(network2Different, 10, 0.5)\n",
    "network2Different.showRanking()"
   ]
  },
  {
   "cell_type": "code",
   "execution_count": 36,
   "metadata": {},
   "outputs": [
    {
     "name": "stdout",
     "output_type": "stream",
     "text": [
      "1.0\n"
     ]
    }
   ],
   "source": [
    "network2Different.debugRanking()"
   ]
  },
  {
   "cell_type": "code",
   "execution_count": null,
   "metadata": {
    "collapsed": true
   },
   "outputs": [],
   "source": []
  },
  {
   "cell_type": "code",
   "execution_count": null,
   "metadata": {
    "collapsed": true
   },
   "outputs": [],
   "source": []
  },
  {
   "cell_type": "markdown",
   "metadata": {},
   "source": []
  },
  {
   "cell_type": "markdown",
   "metadata": {},
   "source": [
    "### Everything to website 1, Custimization: add links from website 1 to all pages"
   ]
  },
  {
   "cell_type": "code",
   "execution_count": 46,
   "metadata": {
    "collapsed": true
   },
   "outputs": [],
   "source": [
    "Website1 = Page(\"Website1\")\n",
    "Website2 = Page(\"Website2\")\n",
    "Website3 = Page(\"Website3\")\n",
    "Website4 = Page(\"Website4\")\n",
    "Website5 = Page(\"Website5\")\n",
    "Website6 = Page(\"Website6\")\n",
    "Website7 = Page(\"Website7\")\n",
    "Website8 = Page(\"Website8\")\n",
    "Website9 = Page(\"Website9\")\n",
    "Website10 = Page(\"Website10\")\n",
    "\n",
    "#Website1.addLinkTo(Website2)\n",
    "#Website1.addLinkTo(Website3)\n",
    "#Website1.addLinkTo(Website4)\n",
    "#Website1.addLinkTo(Website5)\n",
    "#Website1.addLinkTo(Website6)\n",
    "#Website1.addLinkTo(Website7)\n",
    "#Website1.addLinkTo(Website8)\n",
    "#Website1.addLinkTo(Website9)\n",
    "#Website1.addLinkTo(Website10)\n",
    "\n",
    "\n",
    "Website2.addLinkTo(Website1)\n",
    "Website3.addLinkTo(Website1)\n",
    "Website4.addLinkTo(Website1)\n",
    "Website5.addLinkTo(Website1)\n",
    "Website6.addLinkTo(Website1)\n",
    "Website7.addLinkTo(Website1)\n",
    "Website8.addLinkTo(Website1)\n",
    "Website9.addLinkTo(Website1)\n",
    "Website10.addLinkTo(Website1)\n",
    "\n",
    "\n",
    "networkAllToOne = Network()\n",
    "networkAllToOne.addPages(Website1,Website2,Website3,Website4,Website5,Website6,Website7,Website8,Website9,Website10)"
   ]
  },
  {
   "cell_type": "code",
   "execution_count": 47,
   "metadata": {},
   "outputs": [
    {
     "name": "stdout",
     "output_type": "stream",
     "text": [
      "Website1: 0.3792152378985449\n",
      "Website2: 0.06897608467793949\n",
      "Website3: 0.06897608467793949\n",
      "Website4: 0.06897608467793949\n",
      "Website5: 0.06897608467793949\n",
      "Website6: 0.06897608467793949\n",
      "Website7: 0.06897608467793949\n",
      "Website8: 0.06897608467793949\n",
      "Website9: 0.06897608467793949\n",
      "Website10: 0.06897608467793949\n",
      "1.0000000000000002\n"
     ]
    }
   ],
   "source": [
    "PageRanker.rankCR(networkAllToOne, 10, 0.5)\n",
    "networkAllToOne.showRanking()\n",
    "networkAllToOne.debugRanking()"
   ]
  },
  {
   "cell_type": "code",
   "execution_count": 48,
   "metadata": {},
   "outputs": [
    {
     "name": "stdout",
     "output_type": "stream",
     "text": [
      "Website1: 0.37931034482758613\n",
      "Website2: 0.06896551724137931\n",
      "Website3: 0.06896551724137931\n",
      "Website4: 0.06896551724137931\n",
      "Website5: 0.06896551724137931\n",
      "Website6: 0.06896551724137931\n",
      "Website7: 0.06896551724137931\n",
      "Website8: 0.06896551724137931\n",
      "Website9: 0.06896551724137931\n",
      "Website10: 0.06896551724137931\n",
      "1.0\n"
     ]
    }
   ],
   "source": [
    "PageRanker.rank(networkAllToOne, 10, 0.5)\n",
    "networkAllToOne.showRanking()\n",
    "networkAllToOne.debugRanking()"
   ]
  },
  {
   "cell_type": "code",
   "execution_count": null,
   "metadata": {
    "collapsed": true
   },
   "outputs": [],
   "source": []
  },
  {
   "cell_type": "code",
   "execution_count": null,
   "metadata": {
    "collapsed": true
   },
   "outputs": [],
   "source": []
  },
  {
   "cell_type": "code",
   "execution_count": null,
   "metadata": {
    "collapsed": true
   },
   "outputs": [],
   "source": []
  },
  {
   "cell_type": "code",
   "execution_count": null,
   "metadata": {
    "collapsed": true
   },
   "outputs": [],
   "source": []
  },
  {
   "cell_type": "code",
   "execution_count": null,
   "metadata": {
    "collapsed": true
   },
   "outputs": [],
   "source": []
  },
  {
   "cell_type": "code",
   "execution_count": null,
   "metadata": {
    "collapsed": true
   },
   "outputs": [],
   "source": []
  },
  {
   "cell_type": "markdown",
   "metadata": {},
   "source": [
    "### All websites go to eachother except website 10"
   ]
  },
  {
   "cell_type": "code",
   "execution_count": 111,
   "metadata": {
    "collapsed": true
   },
   "outputs": [],
   "source": [
    "Website1 = Page(\"Website1\")\n",
    "Website2 = Page(\"Website2\")\n",
    "Website3 = Page(\"Website3\")\n",
    "Website4 = Page(\"Website4\")\n",
    "Website5 = Page(\"Website5\")\n",
    "Website6 = Page(\"Website6\")\n",
    "Website7 = Page(\"Website7\")\n",
    "Website8 = Page(\"Website8\")\n",
    "Website9 = Page(\"Website9\")\n",
    "Website10 = Page(\"Website10\")\n",
    "\n",
    "Website1.addLinkTo(Website2)\n",
    "Website1.addLinkTo(Website3)\n",
    "Website1.addLinkTo(Website4)\n",
    "Website1.addLinkTo(Website5)\n",
    "Website1.addLinkTo(Website6)\n",
    "Website1.addLinkTo(Website7)\n",
    "Website1.addLinkTo(Website8)\n",
    "Website1.addLinkTo(Website9)\n",
    "Website1.addLinkTo(Website10)\n",
    "\n",
    "Website2.addLinkTo(Website1)\n",
    "Website2.addLinkTo(Website3)\n",
    "Website2.addLinkTo(Website4)\n",
    "Website2.addLinkTo(Website5)\n",
    "Website2.addLinkTo(Website6)\n",
    "Website2.addLinkTo(Website7)\n",
    "Website2.addLinkTo(Website8)\n",
    "Website2.addLinkTo(Website9)\n",
    "Website2.addLinkTo(Website10)\n",
    "\n",
    "Website3.addLinkTo(Website1)\n",
    "Website3.addLinkTo(Website2)\n",
    "Website3.addLinkTo(Website4)\n",
    "Website3.addLinkTo(Website5)\n",
    "Website3.addLinkTo(Website6)\n",
    "Website3.addLinkTo(Website7)\n",
    "Website3.addLinkTo(Website8)\n",
    "Website3.addLinkTo(Website9)\n",
    "Website3.addLinkTo(Website10)\n",
    "\n",
    "Website4.addLinkTo(Website1)\n",
    "Website4.addLinkTo(Website2)\n",
    "Website4.addLinkTo(Website3)\n",
    "Website4.addLinkTo(Website5)\n",
    "Website4.addLinkTo(Website6)\n",
    "Website4.addLinkTo(Website7)\n",
    "Website4.addLinkTo(Website8)\n",
    "Website4.addLinkTo(Website9)\n",
    "Website4.addLinkTo(Website10)\n",
    "\n",
    "Website5.addLinkTo(Website1)\n",
    "Website5.addLinkTo(Website2)\n",
    "Website5.addLinkTo(Website3)\n",
    "Website5.addLinkTo(Website4)\n",
    "Website5.addLinkTo(Website6)\n",
    "Website5.addLinkTo(Website7)\n",
    "Website5.addLinkTo(Website8)\n",
    "Website5.addLinkTo(Website9)\n",
    "Website5.addLinkTo(Website10)\n",
    "\n",
    "Website6.addLinkTo(Website1)\n",
    "Website6.addLinkTo(Website2)\n",
    "Website6.addLinkTo(Website3)\n",
    "Website6.addLinkTo(Website4)\n",
    "Website6.addLinkTo(Website5)\n",
    "Website6.addLinkTo(Website7)\n",
    "Website6.addLinkTo(Website8)\n",
    "Website6.addLinkTo(Website9)\n",
    "Website6.addLinkTo(Website10)\n",
    "\n",
    "Website7.addLinkTo(Website1)\n",
    "Website7.addLinkTo(Website2)\n",
    "Website7.addLinkTo(Website3)\n",
    "Website7.addLinkTo(Website4)\n",
    "Website7.addLinkTo(Website5)\n",
    "Website7.addLinkTo(Website6)\n",
    "Website7.addLinkTo(Website8)\n",
    "Website7.addLinkTo(Website9)\n",
    "Website7.addLinkTo(Website10)\n",
    "\n",
    "Website8.addLinkTo(Website1)\n",
    "Website8.addLinkTo(Website2)\n",
    "Website8.addLinkTo(Website3)\n",
    "Website8.addLinkTo(Website4)\n",
    "Website8.addLinkTo(Website5)\n",
    "Website8.addLinkTo(Website6)\n",
    "Website8.addLinkTo(Website7)\n",
    "Website8.addLinkTo(Website9)\n",
    "Website8.addLinkTo(Website10)\n",
    "\n",
    "Website9.addLinkTo(Website1)\n",
    "Website9.addLinkTo(Website2)\n",
    "Website9.addLinkTo(Website3)\n",
    "Website9.addLinkTo(Website4)\n",
    "Website9.addLinkTo(Website5)\n",
    "Website9.addLinkTo(Website6)\n",
    "Website9.addLinkTo(Website7)\n",
    "Website9.addLinkTo(Website8)\n",
    "Website9.addLinkTo(Website10)\n",
    "\n",
    "networkAllButOneToAll = Network()\n",
    "networkAllButOneToAll.addPages(Website1,Website2,Website3,Website4,Website5,Website6,Website7,Website8,Website9,Website10)"
   ]
  },
  {
   "cell_type": "code",
   "execution_count": 112,
   "metadata": {},
   "outputs": [
    {
     "name": "stdout",
     "output_type": "stream",
     "text": [
      "Website1: 0.09944751381215473\n",
      "Website2: 0.09944751381215473\n",
      "Website3: 0.09944751381215473\n",
      "Website4: 0.09944751381215473\n",
      "Website5: 0.09944751381215473\n",
      "Website6: 0.09944751381215473\n",
      "Website7: 0.09944751381215473\n",
      "Website8: 0.09944751381215473\n",
      "Website9: 0.09944751381215473\n",
      "Website10: 0.10497237569060777\n",
      "1.0000000000000004\n"
     ]
    }
   ],
   "source": [
    "PageRanker.rankCR(networkAllButOneToAll, 10, 0.5)\n",
    "networkAllButOneToAll.showRanking()\n",
    "networkAllButOneToAll.debugRanking()"
   ]
  },
  {
   "cell_type": "code",
   "execution_count": 113,
   "metadata": {},
   "outputs": [
    {
     "name": "stdout",
     "output_type": "stream",
     "text": [
      "Website1: 0.09944749086424848\n",
      "Website2: 0.09944749086424848\n",
      "Website3: 0.09944749086424848\n",
      "Website4: 0.09944749086424848\n",
      "Website5: 0.09944749086424848\n",
      "Website6: 0.09944749086424848\n",
      "Website7: 0.09944749086424848\n",
      "Website8: 0.09944749086424848\n",
      "Website9: 0.09944749086424848\n",
      "Website10: 0.10497258222176362\n",
      "0.9999999999999999\n"
     ]
    }
   ],
   "source": [
    "PageRanker.rank(networkAllButOneToAll, 10, 0.5)\n",
    "networkAllButOneToAll.showRanking()\n",
    "networkAllButOneToAll.debugRanking()"
   ]
  },
  {
   "cell_type": "code",
   "execution_count": null,
   "metadata": {
    "collapsed": true
   },
   "outputs": [],
   "source": []
  },
  {
   "cell_type": "code",
   "execution_count": null,
   "metadata": {
    "collapsed": true
   },
   "outputs": [],
   "source": []
  },
  {
   "cell_type": "code",
   "execution_count": null,
   "metadata": {
    "collapsed": true
   },
   "outputs": [],
   "source": []
  },
  {
   "cell_type": "code",
   "execution_count": null,
   "metadata": {
    "collapsed": true
   },
   "outputs": [],
   "source": []
  },
  {
   "cell_type": "code",
   "execution_count": null,
   "metadata": {
    "collapsed": true
   },
   "outputs": [],
   "source": []
  },
  {
   "cell_type": "code",
   "execution_count": null,
   "metadata": {
    "collapsed": true
   },
   "outputs": [],
   "source": []
  },
  {
   "cell_type": "markdown",
   "metadata": {},
   "source": [
    "### Circle network"
   ]
  },
  {
   "cell_type": "code",
   "execution_count": 62,
   "metadata": {
    "collapsed": true
   },
   "outputs": [],
   "source": [
    "Website1 = Page(\"Website1\")\n",
    "Website2 = Page(\"Website2\")\n",
    "Website3 = Page(\"Website3\")\n",
    "Website4 = Page(\"Website4\")\n",
    "Website5 = Page(\"Website5\")\n",
    "Website6 = Page(\"Website6\")\n",
    "Website7 = Page(\"Website7\")\n",
    "Website8 = Page(\"Website8\")\n",
    "Website9 = Page(\"Website9\")\n",
    "Website10 = Page(\"Website10\")\n",
    "\n",
    "Website1.addLinkTo(Website2)\n",
    "Website2.addLinkTo(Website3)\n",
    "Website3.addLinkTo(Website4)\n",
    "Website4.addLinkTo(Website5)\n",
    "Website5.addLinkTo(Website6)\n",
    "Website6.addLinkTo(Website7)\n",
    "Website7.addLinkTo(Website8)\n",
    "Website8.addLinkTo(Website9)\n",
    "Website9.addLinkTo(Website10)\n",
    "Website10.addLinkTo(Website1)\n",
    "\n",
    "networkCircle = Network()\n",
    "networkCircle.addPages(Website1,Website2,Website3,Website4,Website5,Website6,Website7,Website8,Website9,Website10)"
   ]
  },
  {
   "cell_type": "code",
   "execution_count": 63,
   "metadata": {},
   "outputs": [
    {
     "name": "stdout",
     "output_type": "stream",
     "text": [
      "Website1: 0.10000000000000009\n",
      "Website2: 0.10000000000000009\n",
      "Website3: 0.10000000000000009\n",
      "Website4: 0.10000000000000009\n",
      "Website5: 0.10000000000000009\n",
      "Website6: 0.10000000000000009\n",
      "Website7: 0.10000000000000009\n",
      "Website8: 0.10000000000000009\n",
      "Website9: 0.10000000000000009\n",
      "Website10: 0.10000000000000009\n",
      "1.0000000000000009\n"
     ]
    }
   ],
   "source": [
    "PageRanker.rankCR(networkCircle, 10, 0.5)\n",
    "networkCircle.showRanking()\n",
    "networkCircle.debugRanking()"
   ]
  },
  {
   "cell_type": "code",
   "execution_count": 64,
   "metadata": {},
   "outputs": [
    {
     "name": "stdout",
     "output_type": "stream",
     "text": [
      "Website1: 0.10000000000000002\n",
      "Website2: 0.10000000000000002\n",
      "Website3: 0.10000000000000002\n",
      "Website4: 0.10000000000000002\n",
      "Website5: 0.10000000000000002\n",
      "Website6: 0.10000000000000002\n",
      "Website7: 0.10000000000000002\n",
      "Website8: 0.10000000000000002\n",
      "Website9: 0.10000000000000002\n",
      "Website10: 0.10000000000000002\n",
      "1.0\n"
     ]
    }
   ],
   "source": [
    "PageRanker.rank(networkCircle, 10, 0.5)\n",
    "networkCircle.showRanking()\n",
    "networkCircle.debugRanking()"
   ]
  },
  {
   "cell_type": "code",
   "execution_count": null,
   "metadata": {
    "collapsed": true
   },
   "outputs": [],
   "source": []
  },
  {
   "cell_type": "code",
   "execution_count": null,
   "metadata": {
    "collapsed": true
   },
   "outputs": [],
   "source": []
  },
  {
   "cell_type": "code",
   "execution_count": null,
   "metadata": {
    "collapsed": true
   },
   "outputs": [],
   "source": []
  },
  {
   "cell_type": "code",
   "execution_count": null,
   "metadata": {
    "collapsed": true
   },
   "outputs": [],
   "source": []
  },
  {
   "cell_type": "code",
   "execution_count": null,
   "metadata": {
    "collapsed": true
   },
   "outputs": [],
   "source": []
  },
  {
   "cell_type": "markdown",
   "metadata": {},
   "source": [
    "### Two clusters with one link"
   ]
  },
  {
   "cell_type": "code",
   "execution_count": 65,
   "metadata": {
    "collapsed": true
   },
   "outputs": [],
   "source": [
    "Website1 = Page(\"Website1\")\n",
    "Website2 = Page(\"Website2\")\n",
    "Website3 = Page(\"Website3\")\n",
    "Website4 = Page(\"Website4\")\n",
    "Website5 = Page(\"Website5\")\n",
    "Website6 = Page(\"Website6\")\n",
    "Website7 = Page(\"Website7\")\n",
    "Website8 = Page(\"Website8\")\n",
    "Website9 = Page(\"Website9\")\n",
    "Website10 = Page(\"Website10\")\n",
    "\n",
    "Website1.addLinkTo(Website2)\n",
    "Website1.addLinkTo(Website3)\n",
    "Website1.addLinkTo(Website4)\n",
    "Website1.addLinkTo(Website5)\n",
    "\n",
    "Website2.addLinkTo(Website1)\n",
    "Website2.addLinkTo(Website3)\n",
    "Website2.addLinkTo(Website4)\n",
    "Website2.addLinkTo(Website5)\n",
    "\n",
    "Website3.addLinkTo(Website1)\n",
    "Website3.addLinkTo(Website2)\n",
    "Website3.addLinkTo(Website4)\n",
    "Website3.addLinkTo(Website5)\n",
    "\n",
    "Website4.addLinkTo(Website1)\n",
    "Website4.addLinkTo(Website2)\n",
    "Website4.addLinkTo(Website3)\n",
    "Website4.addLinkTo(Website5)\n",
    "\n",
    "Website5.addLinkTo(Website1)\n",
    "Website5.addLinkTo(Website2)\n",
    "Website5.addLinkTo(Website3)\n",
    "Website5.addLinkTo(Website4)\n",
    "Website5.addLinkTo(Website6)\n",
    "\n",
    "Website6.addLinkTo(Website5)\n",
    "Website6.addLinkTo(Website7)\n",
    "Website6.addLinkTo(Website8)\n",
    "Website6.addLinkTo(Website9)\n",
    "Website6.addLinkTo(Website10)\n",
    "\n",
    "Website7.addLinkTo(Website6)\n",
    "Website7.addLinkTo(Website8)\n",
    "Website7.addLinkTo(Website9)\n",
    "Website7.addLinkTo(Website10)\n",
    "\n",
    "Website8.addLinkTo(Website6)\n",
    "Website8.addLinkTo(Website7)\n",
    "Website8.addLinkTo(Website9)\n",
    "Website8.addLinkTo(Website10)\n",
    "\n",
    "Website9.addLinkTo(Website6)\n",
    "Website9.addLinkTo(Website7)\n",
    "Website9.addLinkTo(Website8)\n",
    "Website9.addLinkTo(Website10)\n",
    "\n",
    "Website10.addLinkTo(Website6)\n",
    "Website10.addLinkTo(Website7)\n",
    "Website10.addLinkTo(Website8)\n",
    "Website10.addLinkTo(Website9)\n",
    "\n",
    "\n",
    "networkCluster = Network()\n",
    "networkCluster.addPages(Website1,Website2,Website3,Website4,Website5,Website6,Website7,Website8,Website9,Website10)"
   ]
  },
  {
   "cell_type": "code",
   "execution_count": 66,
   "metadata": {},
   "outputs": [
    {
     "name": "stdout",
     "output_type": "stream",
     "text": [
      "Website1: 0.09756097560975614\n",
      "Website2: 0.09756097560975614\n",
      "Website3: 0.09756097560975614\n",
      "Website4: 0.09756097560975614\n",
      "Website5: 0.10975609756097565\n",
      "Website6: 0.10975609756097564\n",
      "Website7: 0.09756097560975613\n",
      "Website8: 0.09756097560975613\n",
      "Website9: 0.09756097560975613\n",
      "Website10: 0.09756097560975613\n",
      "1.0000000000000004\n"
     ]
    }
   ],
   "source": [
    "PageRanker.rankCR(networkCluster, 10, 0.5)\n",
    "networkCluster.showRanking()\n",
    "networkCluster.debugRanking()"
   ]
  },
  {
   "cell_type": "code",
   "execution_count": 71,
   "metadata": {},
   "outputs": [
    {
     "name": "stdout",
     "output_type": "stream",
     "text": [
      "Website1: 0.09756097560975611\n",
      "Website2: 0.09756097560975611\n",
      "Website3: 0.09756097560975611\n",
      "Website4: 0.09756097560975611\n",
      "Website5: 0.10975609756097564\n",
      "Website6: 0.10975609756097562\n",
      "Website7: 0.09756097560975611\n",
      "Website8: 0.09756097560975611\n",
      "Website9: 0.09756097560975611\n",
      "Website10: 0.09756097560975611\n",
      "1.0\n"
     ]
    }
   ],
   "source": [
    "PageRanker.rank(networkCluster, 10, 0.5)\n",
    "networkCluster.showRanking()\n",
    "networkCluster.debugRanking()"
   ]
  },
  {
   "cell_type": "code",
   "execution_count": null,
   "metadata": {
    "collapsed": true
   },
   "outputs": [],
   "source": []
  },
  {
   "cell_type": "code",
   "execution_count": null,
   "metadata": {
    "collapsed": true
   },
   "outputs": [],
   "source": []
  },
  {
   "cell_type": "code",
   "execution_count": null,
   "metadata": {
    "collapsed": true
   },
   "outputs": [],
   "source": []
  },
  {
   "cell_type": "code",
   "execution_count": null,
   "metadata": {
    "collapsed": true
   },
   "outputs": [],
   "source": []
  },
  {
   "cell_type": "code",
   "execution_count": null,
   "metadata": {
    "collapsed": true
   },
   "outputs": [],
   "source": []
  },
  {
   "cell_type": "markdown",
   "metadata": {},
   "source": [
    "## Now the same networks but 100 websites"
   ]
  },
  {
   "cell_type": "markdown",
   "metadata": {},
   "source": [
    "### All websites link to one website"
   ]
  },
  {
   "cell_type": "code",
   "execution_count": 82,
   "metadata": {},
   "outputs": [],
   "source": [
    "Website1 = Page(\"Website1\")\n",
    "Website2 = Page(\"Website2\")\n",
    "Website3 = Page(\"Website3\")\n",
    "Website4 = Page(\"Website4\")\n",
    "Website5 = Page(\"Website5\")\n",
    "Website6 = Page(\"Website6\")\n",
    "Website7 = Page(\"Website7\")\n",
    "Website8 = Page(\"Website8\")\n",
    "Website9 = Page(\"Website9\")\n",
    "Website10 = Page(\"Website10\")\n",
    "Website11 = Page(\"Website11\")\n",
    "Website12 = Page(\"Website12\")\n",
    "Website13 = Page(\"Website13\")\n",
    "Website14 = Page(\"Website14\")\n",
    "Website15 = Page(\"Website15\")\n",
    "Website16 = Page(\"Website16\")\n",
    "Website17 = Page(\"Website17\")\n",
    "Website18 = Page(\"Website18\")\n",
    "Website19 = Page(\"Website19\")\n",
    "Website20 = Page(\"Website20\")\n",
    "Website21 = Page(\"Website21\")\n",
    "Website22 = Page(\"Website22\")\n",
    "Website23 = Page(\"Website23\")\n",
    "Website24 = Page(\"Website24\")\n",
    "Website25 = Page(\"Website25\")\n",
    "Website26 = Page(\"Website26\")\n",
    "Website27 = Page(\"Website27\")\n",
    "Website28 = Page(\"Website28\")\n",
    "Website29 = Page(\"Website29\")\n",
    "Website30 = Page(\"Website30\")\n",
    "Website31 = Page(\"Website31\")\n",
    "Website32 = Page(\"Website32\")\n",
    "Website33 = Page(\"Website33\")\n",
    "Website34 = Page(\"Website34\")\n",
    "Website35 = Page(\"Website35\")\n",
    "Website36 = Page(\"Website36\")\n",
    "Website37 = Page(\"Website37\")\n",
    "Website38 = Page(\"Website38\")\n",
    "Website39 = Page(\"Website39\")\n",
    "Website40 = Page(\"Website40\")\n",
    "Website41 = Page(\"Website41\")\n",
    "Website42 = Page(\"Website42\")\n",
    "Website43 = Page(\"Website43\")\n",
    "Website44 = Page(\"Website44\")\n",
    "Website45 = Page(\"Website45\")\n",
    "Website46 = Page(\"Website46\")\n",
    "Website47 = Page(\"Website47\")\n",
    "Website48 = Page(\"Website48\")\n",
    "Website49 = Page(\"Website49\")\n",
    "Website50 = Page(\"Website50\")\n",
    "Website51 = Page(\"Website51\")\n",
    "Website52 = Page(\"Website52\")\n",
    "Website53 = Page(\"Website53\")\n",
    "Website54 = Page(\"Website54\")\n",
    "Website55 = Page(\"Website55\")\n",
    "Website56 = Page(\"Website56\")\n",
    "Website57 = Page(\"Website57\")\n",
    "Website58 = Page(\"Website58\")\n",
    "Website59 = Page(\"Website59\")\n",
    "Website60 = Page(\"Website60\")\n",
    "Website61 = Page(\"Website61\")\n",
    "Website62 = Page(\"Website62\")\n",
    "Website63 = Page(\"Website63\")\n",
    "Website64 = Page(\"Website64\")\n",
    "Website65 = Page(\"Website65\")\n",
    "Website66 = Page(\"Website66\")\n",
    "Website67 = Page(\"Website67\")\n",
    "Website68 = Page(\"Website68\")\n",
    "Website69 = Page(\"Website69\")\n",
    "Website70 = Page(\"Website70\")\n",
    "Website71 = Page(\"Website71\")\n",
    "Website72 = Page(\"Website72\")\n",
    "Website73 = Page(\"Website73\")\n",
    "Website74 = Page(\"Website74\")\n",
    "Website75 = Page(\"Website75\")\n",
    "Website76 = Page(\"Website76\")\n",
    "Website77 = Page(\"Website77\")\n",
    "Website78 = Page(\"Website78\")\n",
    "Website79 = Page(\"Website79\")\n",
    "Website80 = Page(\"Website80\")\n",
    "Website81 = Page(\"Website81\")\n",
    "Website82 = Page(\"Website82\")\n",
    "Website83 = Page(\"Website83\")\n",
    "Website84 = Page(\"Website84\")\n",
    "Website85 = Page(\"Website85\")\n",
    "Website86 = Page(\"Website86\")\n",
    "Website87 = Page(\"Website87\")\n",
    "Website88 = Page(\"Website88\")\n",
    "Website89 = Page(\"Website89\")\n",
    "Website90 = Page(\"Website90\")\n",
    "Website91 = Page(\"Website91\")\n",
    "Website92 = Page(\"Website92\")\n",
    "Website93 = Page(\"Website93\")\n",
    "Website94 = Page(\"Website94\")\n",
    "Website95 = Page(\"Website95\")\n",
    "Website96 = Page(\"Website96\")\n",
    "Website97 = Page(\"Website97\")\n",
    "Website98 = Page(\"Website98\")\n",
    "Website99 = Page(\"Website99\")\n",
    "Website100 = Page(\"Website100\")\n",
    "\n",
    "WebsiteList = [Website1,Website2,Website3,Website4,Website5,Website6,Website7,Website8,Website9,Website10,\n",
    "               Website11,Website12,Website13,Website14,Website15,Website16,Website17,Website18,Website19,Website20,\n",
    "               Website21,Website22,Website23,Website24,Website25,Website26,Website27,Website28,Website29,Website30,\n",
    "               Website31,Website32,Website33,Website34,Website35,Website36,Website37,Website38,Website39,Website40,\n",
    "               Website41,Website42,Website43,Website44,Website45,Website46,Website47,Website48,Website49,Website50,\n",
    "               Website51,Website52,Website53,Website54,Website55,Website56,Website57,Website58,Website59,Website60,\n",
    "               Website61,Website62,Website63,Website64,Website65,Website66,Website67,Website68,Website69,Website70,\n",
    "               Website71,Website72,Website73,Website74,Website75,Website76,Website77,Website78,Website79,Website80,\n",
    "               Website81,Website82,Website83,Website84,Website85,Website86,Website87,Website88,Website89,Website90,\n",
    "               Website91,Website92,Website93,Website94,Website95,Website96,Website97,Website98,Website99,Website100]\n",
    "               \n",
    "i=1\n",
    "while i<100:\n",
    "    Website1.addLinkTo(WebsiteList[i])\n",
    "    WebsiteList[i].addLinkTo(Website1)\n",
    "    i+=1\n",
    "    \n",
    "networkAllToOne100 = Network()\n",
    "networkAllToOne100.addPages(Website1,Website2,Website3,Website4,Website5,Website6,Website7,Website8,Website9,Website10,\n",
    "                           Website11,Website12,Website13,Website14,Website15,Website16,Website17,Website18,Website19,Website20,\n",
    "                           Website21,Website22,Website23,Website24,Website25,Website26,Website27,Website28,Website29,Website30,\n",
    "                           Website31,Website32,Website33,Website34,Website35,Website36,Website37,Website38,Website39,Website40,\n",
    "                           Website41,Website42,Website43,Website44,Website45,Website46,Website47,Website48,Website49,Website50,\n",
    "                           Website51,Website52,Website53,Website54,Website55,Website56,Website57,Website58,Website59,Website60,\n",
    "                           Website61,Website62,Website63,Website64,Website65,Website66,Website67,Website68,Website69,Website70,\n",
    "                           Website71,Website72,Website73,Website74,Website75,Website76,Website77,Website78,Website79,Website80,\n",
    "                           Website81,Website82,Website83,Website84,Website85,Website86,Website87,Website88,Website89,Website90,\n",
    "                           Website91,Website92,Website93,Website94,Website95,Website96,Website97,Website98,Website99,Website100)"
   ]
  },
  {
   "cell_type": "code",
   "execution_count": 87,
   "metadata": {},
   "outputs": [
    {
     "name": "stdout",
     "output_type": "stream",
     "text": [
      "Website1: 0.3366666666666646\n",
      "Website2: 0.006700336700336652\n",
      "Website3: 0.006700336700336652\n",
      "Website4: 0.006700336700336652\n",
      "Website5: 0.006700336700336652\n",
      "Website6: 0.006700336700336652\n",
      "Website7: 0.006700336700336652\n",
      "Website8: 0.006700336700336652\n",
      "Website9: 0.006700336700336652\n",
      "Website10: 0.006700336700336652\n",
      "Website11: 0.006700336700336652\n",
      "Website12: 0.006700336700336652\n",
      "Website13: 0.006700336700336652\n",
      "Website14: 0.006700336700336652\n",
      "Website15: 0.006700336700336652\n",
      "Website16: 0.006700336700336652\n",
      "Website17: 0.006700336700336652\n",
      "Website18: 0.006700336700336652\n",
      "Website19: 0.006700336700336652\n",
      "Website20: 0.006700336700336652\n",
      "Website21: 0.006700336700336652\n",
      "Website22: 0.006700336700336652\n",
      "Website23: 0.006700336700336652\n",
      "Website24: 0.006700336700336652\n",
      "Website25: 0.006700336700336652\n",
      "Website26: 0.006700336700336652\n",
      "Website27: 0.006700336700336652\n",
      "Website28: 0.006700336700336652\n",
      "Website29: 0.006700336700336652\n",
      "Website30: 0.006700336700336652\n",
      "Website31: 0.006700336700336652\n",
      "Website32: 0.006700336700336652\n",
      "Website33: 0.006700336700336652\n",
      "Website34: 0.006700336700336652\n",
      "Website35: 0.006700336700336652\n",
      "Website36: 0.006700336700336652\n",
      "Website37: 0.006700336700336652\n",
      "Website38: 0.006700336700336652\n",
      "Website39: 0.006700336700336652\n",
      "Website40: 0.006700336700336652\n",
      "Website41: 0.006700336700336652\n",
      "Website42: 0.006700336700336652\n",
      "Website43: 0.006700336700336652\n",
      "Website44: 0.006700336700336652\n",
      "Website45: 0.006700336700336652\n",
      "Website46: 0.006700336700336652\n",
      "Website47: 0.006700336700336652\n",
      "Website48: 0.006700336700336652\n",
      "Website49: 0.006700336700336652\n",
      "Website50: 0.006700336700336652\n",
      "Website51: 0.006700336700336652\n",
      "Website52: 0.006700336700336652\n",
      "Website53: 0.006700336700336652\n",
      "Website54: 0.006700336700336652\n",
      "Website55: 0.006700336700336652\n",
      "Website56: 0.006700336700336652\n",
      "Website57: 0.006700336700336652\n",
      "Website58: 0.006700336700336652\n",
      "Website59: 0.006700336700336652\n",
      "Website60: 0.006700336700336652\n",
      "Website61: 0.006700336700336652\n",
      "Website62: 0.006700336700336652\n",
      "Website63: 0.006700336700336652\n",
      "Website64: 0.006700336700336652\n",
      "Website65: 0.006700336700336652\n",
      "Website66: 0.006700336700336652\n",
      "Website67: 0.006700336700336652\n",
      "Website68: 0.006700336700336652\n",
      "Website69: 0.006700336700336652\n",
      "Website70: 0.006700336700336652\n",
      "Website71: 0.006700336700336652\n",
      "Website72: 0.006700336700336652\n",
      "Website73: 0.006700336700336652\n",
      "Website74: 0.006700336700336652\n",
      "Website75: 0.006700336700336652\n",
      "Website76: 0.006700336700336652\n",
      "Website77: 0.006700336700336652\n",
      "Website78: 0.006700336700336652\n",
      "Website79: 0.006700336700336652\n",
      "Website80: 0.006700336700336652\n",
      "Website81: 0.006700336700336652\n",
      "Website82: 0.006700336700336652\n",
      "Website83: 0.006700336700336652\n",
      "Website84: 0.006700336700336652\n",
      "Website85: 0.006700336700336652\n",
      "Website86: 0.006700336700336652\n",
      "Website87: 0.006700336700336652\n",
      "Website88: 0.006700336700336652\n",
      "Website89: 0.006700336700336652\n",
      "Website90: 0.006700336700336652\n",
      "Website91: 0.006700336700336652\n",
      "Website92: 0.006700336700336652\n",
      "Website93: 0.006700336700336652\n",
      "Website94: 0.006700336700336652\n",
      "Website95: 0.006700336700336652\n",
      "Website96: 0.006700336700336652\n",
      "Website97: 0.006700336700336652\n",
      "Website98: 0.006700336700336652\n",
      "Website99: 0.006700336700336652\n",
      "Website100: 0.006700336700336652\n",
      "0.9999999999999931\n"
     ]
    }
   ],
   "source": [
    "PageRanker.rankCR(networkAllToOne100, 100, 0.5)\n",
    "networkAllToOne100.showRanking()\n",
    "networkAllToOne100.debugRanking()"
   ]
  },
  {
   "cell_type": "code",
   "execution_count": 88,
   "metadata": {},
   "outputs": [
    {
     "name": "stdout",
     "output_type": "stream",
     "text": [
      "Website1: 0.33634765625000074\n",
      "Website2: 0.006703559027777785\n",
      "Website3: 0.006703559027777785\n",
      "Website4: 0.006703559027777785\n",
      "Website5: 0.006703559027777785\n",
      "Website6: 0.006703559027777785\n",
      "Website7: 0.006703559027777785\n",
      "Website8: 0.006703559027777785\n",
      "Website9: 0.006703559027777785\n",
      "Website10: 0.006703559027777785\n",
      "Website11: 0.006703559027777785\n",
      "Website12: 0.006703559027777785\n",
      "Website13: 0.006703559027777785\n",
      "Website14: 0.006703559027777785\n",
      "Website15: 0.006703559027777785\n",
      "Website16: 0.006703559027777785\n",
      "Website17: 0.006703559027777785\n",
      "Website18: 0.006703559027777785\n",
      "Website19: 0.006703559027777785\n",
      "Website20: 0.006703559027777785\n",
      "Website21: 0.006703559027777785\n",
      "Website22: 0.006703559027777785\n",
      "Website23: 0.006703559027777785\n",
      "Website24: 0.006703559027777785\n",
      "Website25: 0.006703559027777785\n",
      "Website26: 0.006703559027777785\n",
      "Website27: 0.006703559027777785\n",
      "Website28: 0.006703559027777785\n",
      "Website29: 0.006703559027777785\n",
      "Website30: 0.006703559027777785\n",
      "Website31: 0.006703559027777785\n",
      "Website32: 0.006703559027777785\n",
      "Website33: 0.006703559027777785\n",
      "Website34: 0.006703559027777785\n",
      "Website35: 0.006703559027777785\n",
      "Website36: 0.006703559027777785\n",
      "Website37: 0.006703559027777785\n",
      "Website38: 0.006703559027777785\n",
      "Website39: 0.006703559027777785\n",
      "Website40: 0.006703559027777785\n",
      "Website41: 0.006703559027777785\n",
      "Website42: 0.006703559027777785\n",
      "Website43: 0.006703559027777785\n",
      "Website44: 0.006703559027777785\n",
      "Website45: 0.006703559027777785\n",
      "Website46: 0.006703559027777785\n",
      "Website47: 0.006703559027777785\n",
      "Website48: 0.006703559027777785\n",
      "Website49: 0.006703559027777785\n",
      "Website50: 0.006703559027777785\n",
      "Website51: 0.006703559027777785\n",
      "Website52: 0.006703559027777785\n",
      "Website53: 0.006703559027777785\n",
      "Website54: 0.006703559027777785\n",
      "Website55: 0.006703559027777785\n",
      "Website56: 0.006703559027777785\n",
      "Website57: 0.006703559027777785\n",
      "Website58: 0.006703559027777785\n",
      "Website59: 0.006703559027777785\n",
      "Website60: 0.006703559027777785\n",
      "Website61: 0.006703559027777785\n",
      "Website62: 0.006703559027777785\n",
      "Website63: 0.006703559027777785\n",
      "Website64: 0.006703559027777785\n",
      "Website65: 0.006703559027777785\n",
      "Website66: 0.006703559027777785\n",
      "Website67: 0.006703559027777785\n",
      "Website68: 0.006703559027777785\n",
      "Website69: 0.006703559027777785\n",
      "Website70: 0.006703559027777785\n",
      "Website71: 0.006703559027777785\n",
      "Website72: 0.006703559027777785\n",
      "Website73: 0.006703559027777785\n",
      "Website74: 0.006703559027777785\n",
      "Website75: 0.006703559027777785\n",
      "Website76: 0.006703559027777785\n",
      "Website77: 0.006703559027777785\n",
      "Website78: 0.006703559027777785\n",
      "Website79: 0.006703559027777785\n",
      "Website80: 0.006703559027777785\n",
      "Website81: 0.006703559027777785\n",
      "Website82: 0.006703559027777785\n",
      "Website83: 0.006703559027777785\n",
      "Website84: 0.006703559027777785\n",
      "Website85: 0.006703559027777785\n",
      "Website86: 0.006703559027777785\n",
      "Website87: 0.006703559027777785\n",
      "Website88: 0.006703559027777785\n",
      "Website89: 0.006703559027777785\n",
      "Website90: 0.006703559027777785\n",
      "Website91: 0.006703559027777785\n",
      "Website92: 0.006703559027777785\n",
      "Website93: 0.006703559027777785\n",
      "Website94: 0.006703559027777785\n",
      "Website95: 0.006703559027777785\n",
      "Website96: 0.006703559027777785\n",
      "Website97: 0.006703559027777785\n",
      "Website98: 0.006703559027777785\n",
      "Website99: 0.006703559027777785\n",
      "Website100: 0.006703559027777785\n",
      "0.9999999999999993\n"
     ]
    }
   ],
   "source": [
    "PageRanker.rank(networkAllToOne100, 10, 0.5)\n",
    "networkAllToOne100.showRanking()\n",
    "networkAllToOne100.debugRanking()"
   ]
  },
  {
   "cell_type": "code",
   "execution_count": null,
   "metadata": {
    "collapsed": true
   },
   "outputs": [],
   "source": []
  },
  {
   "cell_type": "code",
   "execution_count": null,
   "metadata": {
    "collapsed": true
   },
   "outputs": [],
   "source": []
  },
  {
   "cell_type": "code",
   "execution_count": null,
   "metadata": {
    "collapsed": true
   },
   "outputs": [],
   "source": []
  },
  {
   "cell_type": "code",
   "execution_count": null,
   "metadata": {
    "collapsed": true
   },
   "outputs": [],
   "source": []
  },
  {
   "cell_type": "code",
   "execution_count": null,
   "metadata": {
    "collapsed": true
   },
   "outputs": [],
   "source": []
  },
  {
   "cell_type": "markdown",
   "metadata": {},
   "source": [
    "### All websites go to eachother except website 1"
   ]
  },
  {
   "cell_type": "code",
   "execution_count": 130,
   "metadata": {},
   "outputs": [],
   "source": [
    "Website1 = Page(\"Website1\")\n",
    "Website2 = Page(\"Website2\")\n",
    "Website3 = Page(\"Website3\")\n",
    "Website4 = Page(\"Website4\")\n",
    "Website5 = Page(\"Website5\")\n",
    "Website6 = Page(\"Website6\")\n",
    "Website7 = Page(\"Website7\")\n",
    "Website8 = Page(\"Website8\")\n",
    "Website9 = Page(\"Website9\")\n",
    "Website10 = Page(\"Website10\")\n",
    "Website11 = Page(\"Website11\")\n",
    "Website12 = Page(\"Website12\")\n",
    "Website13 = Page(\"Website13\")\n",
    "Website14 = Page(\"Website14\")\n",
    "Website15 = Page(\"Website15\")\n",
    "Website16 = Page(\"Website16\")\n",
    "Website17 = Page(\"Website17\")\n",
    "Website18 = Page(\"Website18\")\n",
    "Website19 = Page(\"Website19\")\n",
    "Website20 = Page(\"Website20\")\n",
    "Website21 = Page(\"Website21\")\n",
    "Website22 = Page(\"Website22\")\n",
    "Website23 = Page(\"Website23\")\n",
    "Website24 = Page(\"Website24\")\n",
    "Website25 = Page(\"Website25\")\n",
    "Website26 = Page(\"Website26\")\n",
    "Website27 = Page(\"Website27\")\n",
    "Website28 = Page(\"Website28\")\n",
    "Website29 = Page(\"Website29\")\n",
    "Website30 = Page(\"Website30\")\n",
    "Website31 = Page(\"Website31\")\n",
    "Website32 = Page(\"Website32\")\n",
    "Website33 = Page(\"Website33\")\n",
    "Website34 = Page(\"Website34\")\n",
    "Website35 = Page(\"Website35\")\n",
    "Website36 = Page(\"Website36\")\n",
    "Website37 = Page(\"Website37\")\n",
    "Website38 = Page(\"Website38\")\n",
    "Website39 = Page(\"Website39\")\n",
    "Website40 = Page(\"Website40\")\n",
    "Website41 = Page(\"Website41\")\n",
    "Website42 = Page(\"Website42\")\n",
    "Website43 = Page(\"Website43\")\n",
    "Website44 = Page(\"Website44\")\n",
    "Website45 = Page(\"Website45\")\n",
    "Website46 = Page(\"Website46\")\n",
    "Website47 = Page(\"Website47\")\n",
    "Website48 = Page(\"Website48\")\n",
    "Website49 = Page(\"Website49\")\n",
    "Website50 = Page(\"Website50\")\n",
    "Website51 = Page(\"Website51\")\n",
    "Website52 = Page(\"Website52\")\n",
    "Website53 = Page(\"Website53\")\n",
    "Website54 = Page(\"Website54\")\n",
    "Website55 = Page(\"Website55\")\n",
    "Website56 = Page(\"Website56\")\n",
    "Website57 = Page(\"Website57\")\n",
    "Website58 = Page(\"Website58\")\n",
    "Website59 = Page(\"Website59\")\n",
    "Website60 = Page(\"Website60\")\n",
    "Website61 = Page(\"Website61\")\n",
    "Website62 = Page(\"Website62\")\n",
    "Website63 = Page(\"Website63\")\n",
    "Website64 = Page(\"Website64\")\n",
    "Website65 = Page(\"Website65\")\n",
    "Website66 = Page(\"Website66\")\n",
    "Website67 = Page(\"Website67\")\n",
    "Website68 = Page(\"Website68\")\n",
    "Website69 = Page(\"Website69\")\n",
    "Website70 = Page(\"Website70\")\n",
    "Website71 = Page(\"Website71\")\n",
    "Website72 = Page(\"Website72\")\n",
    "Website73 = Page(\"Website73\")\n",
    "Website74 = Page(\"Website74\")\n",
    "Website75 = Page(\"Website75\")\n",
    "Website76 = Page(\"Website76\")\n",
    "Website77 = Page(\"Website77\")\n",
    "Website78 = Page(\"Website78\")\n",
    "Website79 = Page(\"Website79\")\n",
    "Website80 = Page(\"Website80\")\n",
    "Website81 = Page(\"Website81\")\n",
    "Website82 = Page(\"Website82\")\n",
    "Website83 = Page(\"Website83\")\n",
    "Website84 = Page(\"Website84\")\n",
    "Website85 = Page(\"Website85\")\n",
    "Website86 = Page(\"Website86\")\n",
    "Website87 = Page(\"Website87\")\n",
    "Website88 = Page(\"Website88\")\n",
    "Website89 = Page(\"Website89\")\n",
    "Website90 = Page(\"Website90\")\n",
    "Website91 = Page(\"Website91\")\n",
    "Website92 = Page(\"Website92\")\n",
    "Website93 = Page(\"Website93\")\n",
    "Website94 = Page(\"Website94\")\n",
    "Website95 = Page(\"Website95\")\n",
    "Website96 = Page(\"Website96\")\n",
    "Website97 = Page(\"Website97\")\n",
    "Website98 = Page(\"Website98\")\n",
    "Website99 = Page(\"Website99\")\n",
    "Website100 = Page(\"Website100\")\n",
    "\n",
    "WebsiteList = [Website1,Website2,Website3,Website4,Website5,Website6,Website7,Website8,Website9,Website10,\n",
    "               Website11,Website12,Website13,Website14,Website15,Website16,Website17,Website18,Website19,Website20,\n",
    "               Website21,Website22,Website23,Website24,Website25,Website26,Website27,Website28,Website29,Website30,\n",
    "               Website31,Website32,Website33,Website34,Website35,Website36,Website37,Website38,Website39,Website40,\n",
    "               Website41,Website42,Website43,Website44,Website45,Website46,Website47,Website48,Website49,Website50,\n",
    "               Website51,Website52,Website53,Website54,Website55,Website56,Website57,Website58,Website59,Website60,\n",
    "               Website61,Website62,Website63,Website64,Website65,Website66,Website67,Website68,Website69,Website70,\n",
    "               Website71,Website72,Website73,Website74,Website75,Website76,Website77,Website78,Website79,Website80,\n",
    "               Website81,Website82,Website83,Website84,Website85,Website86,Website87,Website88,Website89,Website90,\n",
    "               Website91,Website92,Website93,Website94,Website95,Website96,Website97,Website98,Website99,Website100]\n",
    "               \n",
    "i=1\n",
    "j=0\n",
    "while i<100:\n",
    "    while j<100:\n",
    "        if i != j:\n",
    "            WebsiteList[i].addLinkTo(WebsiteList[j])\n",
    "        j+=1\n",
    "    j=0\n",
    "    i+=1\n",
    "    \n",
    "networkAllButOneToAll100 = Network()\n",
    "networkAllButOneToAll100.addPages(Website1,Website2,Website3,Website4,Website5,Website6,Website7,Website8,Website9,Website10,\n",
    "                           Website11,Website12,Website13,Website14,Website15,Website16,Website17,Website18,Website19,Website20,\n",
    "                           Website21,Website22,Website23,Website24,Website25,Website26,Website27,Website28,Website29,Website30,\n",
    "                           Website31,Website32,Website33,Website34,Website35,Website36,Website37,Website38,Website39,Website40,\n",
    "                           Website41,Website42,Website43,Website44,Website45,Website46,Website47,Website48,Website49,Website50,\n",
    "                           Website51,Website52,Website53,Website54,Website55,Website56,Website57,Website58,Website59,Website60,\n",
    "                           Website61,Website62,Website63,Website64,Website65,Website66,Website67,Website68,Website69,Website70,\n",
    "                           Website71,Website72,Website73,Website74,Website75,Website76,Website77,Website78,Website79,Website80,\n",
    "                           Website81,Website82,Website83,Website84,Website85,Website86,Website87,Website88,Website89,Website90,\n",
    "                           Website91,Website92,Website93,Website94,Website95,Website96,Website97,Website98,Website99,Website100)"
   ]
  },
  {
   "cell_type": "code",
   "execution_count": 132,
   "metadata": {},
   "outputs": [
    {
     "data": {
      "text/plain": [
       "[]"
      ]
     },
     "execution_count": 132,
     "metadata": {},
     "output_type": "execute_result"
    }
   ],
   "source": [
    "Website1.outgoingLinks"
   ]
  },
  {
   "cell_type": "code",
   "execution_count": 133,
   "metadata": {},
   "outputs": [
    {
     "name": "stdout",
     "output_type": "stream",
     "text": [
      "Website1: 0.010049997474875037\n",
      "Website2: 0.009999494975001293\n",
      "Website3: 0.009999494975001293\n",
      "Website4: 0.009999494975001293\n",
      "Website5: 0.009999494975001293\n",
      "Website6: 0.009999494975001293\n",
      "Website7: 0.009999494975001293\n",
      "Website8: 0.009999494975001293\n",
      "Website9: 0.009999494975001293\n",
      "Website10: 0.009999494975001293\n",
      "Website11: 0.009999494975001293\n",
      "Website12: 0.009999494975001293\n",
      "Website13: 0.009999494975001293\n",
      "Website14: 0.009999494975001293\n",
      "Website15: 0.009999494975001293\n",
      "Website16: 0.009999494975001293\n",
      "Website17: 0.009999494975001293\n",
      "Website18: 0.009999494975001293\n",
      "Website19: 0.009999494975001293\n",
      "Website20: 0.009999494975001293\n",
      "Website21: 0.009999494975001293\n",
      "Website22: 0.009999494975001293\n",
      "Website23: 0.009999494975001293\n",
      "Website24: 0.009999494975001293\n",
      "Website25: 0.009999494975001293\n",
      "Website26: 0.009999494975001293\n",
      "Website27: 0.009999494975001293\n",
      "Website28: 0.009999494975001293\n",
      "Website29: 0.009999494975001293\n",
      "Website30: 0.009999494975001293\n",
      "Website31: 0.009999494975001293\n",
      "Website32: 0.009999494975001293\n",
      "Website33: 0.009999494975001293\n",
      "Website34: 0.009999494975001293\n",
      "Website35: 0.009999494975001293\n",
      "Website36: 0.009999494975001293\n",
      "Website37: 0.009999494975001293\n",
      "Website38: 0.009999494975001293\n",
      "Website39: 0.009999494975001293\n",
      "Website40: 0.009999494975001293\n",
      "Website41: 0.009999494975001293\n",
      "Website42: 0.009999494975001293\n",
      "Website43: 0.009999494975001293\n",
      "Website44: 0.009999494975001293\n",
      "Website45: 0.009999494975001293\n",
      "Website46: 0.009999494975001293\n",
      "Website47: 0.009999494975001293\n",
      "Website48: 0.009999494975001293\n",
      "Website49: 0.009999494975001293\n",
      "Website50: 0.009999494975001293\n",
      "Website51: 0.009999494975001293\n",
      "Website52: 0.009999494975001293\n",
      "Website53: 0.009999494975001293\n",
      "Website54: 0.009999494975001293\n",
      "Website55: 0.009999494975001293\n",
      "Website56: 0.009999494975001293\n",
      "Website57: 0.009999494975001293\n",
      "Website58: 0.009999494975001293\n",
      "Website59: 0.009999494975001293\n",
      "Website60: 0.009999494975001293\n",
      "Website61: 0.009999494975001293\n",
      "Website62: 0.009999494975001293\n",
      "Website63: 0.009999494975001293\n",
      "Website64: 0.009999494975001293\n",
      "Website65: 0.009999494975001293\n",
      "Website66: 0.009999494975001293\n",
      "Website67: 0.009999494975001293\n",
      "Website68: 0.009999494975001293\n",
      "Website69: 0.009999494975001293\n",
      "Website70: 0.009999494975001293\n",
      "Website71: 0.009999494975001293\n",
      "Website72: 0.009999494975001293\n",
      "Website73: 0.009999494975001293\n",
      "Website74: 0.009999494975001293\n",
      "Website75: 0.009999494975001293\n",
      "Website76: 0.009999494975001293\n",
      "Website77: 0.009999494975001293\n",
      "Website78: 0.009999494975001293\n",
      "Website79: 0.009999494975001293\n",
      "Website80: 0.009999494975001293\n",
      "Website81: 0.009999494975001293\n",
      "Website82: 0.009999494975001293\n",
      "Website83: 0.009999494975001293\n",
      "Website84: 0.009999494975001293\n",
      "Website85: 0.009999494975001293\n",
      "Website86: 0.009999494975001293\n",
      "Website87: 0.009999494975001293\n",
      "Website88: 0.009999494975001293\n",
      "Website89: 0.009999494975001293\n",
      "Website90: 0.009999494975001293\n",
      "Website91: 0.009999494975001293\n",
      "Website92: 0.009999494975001293\n",
      "Website93: 0.009999494975001293\n",
      "Website94: 0.009999494975001293\n",
      "Website95: 0.009999494975001293\n",
      "Website96: 0.009999494975001293\n",
      "Website97: 0.009999494975001293\n",
      "Website98: 0.009999494975001293\n",
      "Website99: 0.009999494975001293\n",
      "Website100: 0.009999494975001293\n",
      "1.0000000000000036\n"
     ]
    }
   ],
   "source": [
    "PageRanker.rankCR(networkAllButOneToAll100, 100, 0.5)\n",
    "networkAllButOneToAll100.showRanking()\n",
    "networkAllButOneToAll100.debugRanking()"
   ]
  },
  {
   "cell_type": "code",
   "execution_count": 134,
   "metadata": {},
   "outputs": [
    {
     "name": "stdout",
     "output_type": "stream",
     "text": [
      "Website1: 0.01004999747487499\n",
      "Website2: 0.009999494975001248\n",
      "Website3: 0.009999494975001248\n",
      "Website4: 0.009999494975001248\n",
      "Website5: 0.009999494975001248\n",
      "Website6: 0.009999494975001248\n",
      "Website7: 0.009999494975001248\n",
      "Website8: 0.009999494975001248\n",
      "Website9: 0.009999494975001248\n",
      "Website10: 0.009999494975001248\n",
      "Website11: 0.009999494975001248\n",
      "Website12: 0.009999494975001248\n",
      "Website13: 0.009999494975001248\n",
      "Website14: 0.009999494975001248\n",
      "Website15: 0.009999494975001248\n",
      "Website16: 0.009999494975001248\n",
      "Website17: 0.009999494975001248\n",
      "Website18: 0.009999494975001248\n",
      "Website19: 0.009999494975001248\n",
      "Website20: 0.009999494975001248\n",
      "Website21: 0.009999494975001248\n",
      "Website22: 0.009999494975001248\n",
      "Website23: 0.009999494975001248\n",
      "Website24: 0.009999494975001248\n",
      "Website25: 0.009999494975001248\n",
      "Website26: 0.009999494975001248\n",
      "Website27: 0.009999494975001248\n",
      "Website28: 0.009999494975001248\n",
      "Website29: 0.009999494975001248\n",
      "Website30: 0.009999494975001248\n",
      "Website31: 0.009999494975001248\n",
      "Website32: 0.009999494975001248\n",
      "Website33: 0.009999494975001248\n",
      "Website34: 0.009999494975001248\n",
      "Website35: 0.009999494975001248\n",
      "Website36: 0.009999494975001248\n",
      "Website37: 0.009999494975001248\n",
      "Website38: 0.009999494975001248\n",
      "Website39: 0.009999494975001248\n",
      "Website40: 0.009999494975001248\n",
      "Website41: 0.009999494975001248\n",
      "Website42: 0.009999494975001248\n",
      "Website43: 0.009999494975001248\n",
      "Website44: 0.009999494975001248\n",
      "Website45: 0.009999494975001248\n",
      "Website46: 0.009999494975001248\n",
      "Website47: 0.009999494975001248\n",
      "Website48: 0.009999494975001248\n",
      "Website49: 0.009999494975001248\n",
      "Website50: 0.009999494975001248\n",
      "Website51: 0.009999494975001248\n",
      "Website52: 0.009999494975001248\n",
      "Website53: 0.009999494975001248\n",
      "Website54: 0.009999494975001248\n",
      "Website55: 0.009999494975001248\n",
      "Website56: 0.009999494975001248\n",
      "Website57: 0.009999494975001248\n",
      "Website58: 0.009999494975001248\n",
      "Website59: 0.009999494975001248\n",
      "Website60: 0.009999494975001248\n",
      "Website61: 0.009999494975001248\n",
      "Website62: 0.009999494975001248\n",
      "Website63: 0.009999494975001248\n",
      "Website64: 0.009999494975001248\n",
      "Website65: 0.009999494975001248\n",
      "Website66: 0.009999494975001248\n",
      "Website67: 0.009999494975001248\n",
      "Website68: 0.009999494975001248\n",
      "Website69: 0.009999494975001248\n",
      "Website70: 0.009999494975001248\n",
      "Website71: 0.009999494975001248\n",
      "Website72: 0.009999494975001248\n",
      "Website73: 0.009999494975001248\n",
      "Website74: 0.009999494975001248\n",
      "Website75: 0.009999494975001248\n",
      "Website76: 0.009999494975001248\n",
      "Website77: 0.009999494975001248\n",
      "Website78: 0.009999494975001248\n",
      "Website79: 0.009999494975001248\n",
      "Website80: 0.009999494975001248\n",
      "Website81: 0.009999494975001248\n",
      "Website82: 0.009999494975001248\n",
      "Website83: 0.009999494975001248\n",
      "Website84: 0.009999494975001248\n",
      "Website85: 0.009999494975001248\n",
      "Website86: 0.009999494975001248\n",
      "Website87: 0.009999494975001248\n",
      "Website88: 0.009999494975001248\n",
      "Website89: 0.009999494975001248\n",
      "Website90: 0.009999494975001248\n",
      "Website91: 0.009999494975001248\n",
      "Website92: 0.009999494975001248\n",
      "Website93: 0.009999494975001248\n",
      "Website94: 0.009999494975001248\n",
      "Website95: 0.009999494975001248\n",
      "Website96: 0.009999494975001248\n",
      "Website97: 0.009999494975001248\n",
      "Website98: 0.009999494975001248\n",
      "Website99: 0.009999494975001248\n",
      "Website100: 0.009999494975001248\n",
      "1.0000000000000009\n"
     ]
    }
   ],
   "source": [
    "PageRanker.rank(networkAllButOneToAll100, 100, 0.5)\n",
    "networkAllButOneToAll100.showRanking()\n",
    "networkAllButOneToAll100.debugRanking()"
   ]
  },
  {
   "cell_type": "code",
   "execution_count": null,
   "metadata": {
    "collapsed": true
   },
   "outputs": [],
   "source": []
  },
  {
   "cell_type": "code",
   "execution_count": null,
   "metadata": {
    "collapsed": true
   },
   "outputs": [],
   "source": []
  },
  {
   "cell_type": "code",
   "execution_count": null,
   "metadata": {
    "collapsed": true
   },
   "outputs": [],
   "source": []
  },
  {
   "cell_type": "code",
   "execution_count": null,
   "metadata": {
    "collapsed": true
   },
   "outputs": [],
   "source": []
  },
  {
   "cell_type": "code",
   "execution_count": null,
   "metadata": {
    "collapsed": true
   },
   "outputs": [],
   "source": []
  },
  {
   "cell_type": "code",
   "execution_count": null,
   "metadata": {
    "collapsed": true
   },
   "outputs": [],
   "source": []
  },
  {
   "cell_type": "code",
   "execution_count": null,
   "metadata": {
    "collapsed": true
   },
   "outputs": [],
   "source": []
  },
  {
   "cell_type": "markdown",
   "metadata": {},
   "source": [
    "### Circle"
   ]
  },
  {
   "cell_type": "code",
   "execution_count": 116,
   "metadata": {},
   "outputs": [],
   "source": [
    "Website1 = Page(\"Website1\")\n",
    "Website2 = Page(\"Website2\")\n",
    "Website3 = Page(\"Website3\")\n",
    "Website4 = Page(\"Website4\")\n",
    "Website5 = Page(\"Website5\")\n",
    "Website6 = Page(\"Website6\")\n",
    "Website7 = Page(\"Website7\")\n",
    "Website8 = Page(\"Website8\")\n",
    "Website9 = Page(\"Website9\")\n",
    "Website10 = Page(\"Website10\")\n",
    "Website11 = Page(\"Website11\")\n",
    "Website12 = Page(\"Website12\")\n",
    "Website13 = Page(\"Website13\")\n",
    "Website14 = Page(\"Website14\")\n",
    "Website15 = Page(\"Website15\")\n",
    "Website16 = Page(\"Website16\")\n",
    "Website17 = Page(\"Website17\")\n",
    "Website18 = Page(\"Website18\")\n",
    "Website19 = Page(\"Website19\")\n",
    "Website20 = Page(\"Website20\")\n",
    "Website21 = Page(\"Website21\")\n",
    "Website22 = Page(\"Website22\")\n",
    "Website23 = Page(\"Website23\")\n",
    "Website24 = Page(\"Website24\")\n",
    "Website25 = Page(\"Website25\")\n",
    "Website26 = Page(\"Website26\")\n",
    "Website27 = Page(\"Website27\")\n",
    "Website28 = Page(\"Website28\")\n",
    "Website29 = Page(\"Website29\")\n",
    "Website30 = Page(\"Website30\")\n",
    "Website31 = Page(\"Website31\")\n",
    "Website32 = Page(\"Website32\")\n",
    "Website33 = Page(\"Website33\")\n",
    "Website34 = Page(\"Website34\")\n",
    "Website35 = Page(\"Website35\")\n",
    "Website36 = Page(\"Website36\")\n",
    "Website37 = Page(\"Website37\")\n",
    "Website38 = Page(\"Website38\")\n",
    "Website39 = Page(\"Website39\")\n",
    "Website40 = Page(\"Website40\")\n",
    "Website41 = Page(\"Website41\")\n",
    "Website42 = Page(\"Website42\")\n",
    "Website43 = Page(\"Website43\")\n",
    "Website44 = Page(\"Website44\")\n",
    "Website45 = Page(\"Website45\")\n",
    "Website46 = Page(\"Website46\")\n",
    "Website47 = Page(\"Website47\")\n",
    "Website48 = Page(\"Website48\")\n",
    "Website49 = Page(\"Website49\")\n",
    "Website50 = Page(\"Website50\")\n",
    "Website51 = Page(\"Website51\")\n",
    "Website52 = Page(\"Website52\")\n",
    "Website53 = Page(\"Website53\")\n",
    "Website54 = Page(\"Website54\")\n",
    "Website55 = Page(\"Website55\")\n",
    "Website56 = Page(\"Website56\")\n",
    "Website57 = Page(\"Website57\")\n",
    "Website58 = Page(\"Website58\")\n",
    "Website59 = Page(\"Website59\")\n",
    "Website60 = Page(\"Website60\")\n",
    "Website61 = Page(\"Website61\")\n",
    "Website62 = Page(\"Website62\")\n",
    "Website63 = Page(\"Website63\")\n",
    "Website64 = Page(\"Website64\")\n",
    "Website65 = Page(\"Website65\")\n",
    "Website66 = Page(\"Website66\")\n",
    "Website67 = Page(\"Website67\")\n",
    "Website68 = Page(\"Website68\")\n",
    "Website69 = Page(\"Website69\")\n",
    "Website70 = Page(\"Website70\")\n",
    "Website71 = Page(\"Website71\")\n",
    "Website72 = Page(\"Website72\")\n",
    "Website73 = Page(\"Website73\")\n",
    "Website74 = Page(\"Website74\")\n",
    "Website75 = Page(\"Website75\")\n",
    "Website76 = Page(\"Website76\")\n",
    "Website77 = Page(\"Website77\")\n",
    "Website78 = Page(\"Website78\")\n",
    "Website79 = Page(\"Website79\")\n",
    "Website80 = Page(\"Website80\")\n",
    "Website81 = Page(\"Website81\")\n",
    "Website82 = Page(\"Website82\")\n",
    "Website83 = Page(\"Website83\")\n",
    "Website84 = Page(\"Website84\")\n",
    "Website85 = Page(\"Website85\")\n",
    "Website86 = Page(\"Website86\")\n",
    "Website87 = Page(\"Website87\")\n",
    "Website88 = Page(\"Website88\")\n",
    "Website89 = Page(\"Website89\")\n",
    "Website90 = Page(\"Website90\")\n",
    "Website91 = Page(\"Website91\")\n",
    "Website92 = Page(\"Website92\")\n",
    "Website93 = Page(\"Website93\")\n",
    "Website94 = Page(\"Website94\")\n",
    "Website95 = Page(\"Website95\")\n",
    "Website96 = Page(\"Website96\")\n",
    "Website97 = Page(\"Website97\")\n",
    "Website98 = Page(\"Website98\")\n",
    "Website99 = Page(\"Website99\")\n",
    "Website100 = Page(\"Website100\")\n",
    "\n",
    "WebsiteList = [Website1,Website2,Website3,Website4,Website5,Website6,Website7,Website8,Website9,Website10,\n",
    "               Website11,Website12,Website13,Website14,Website15,Website16,Website17,Website18,Website19,Website20,\n",
    "               Website21,Website22,Website23,Website24,Website25,Website26,Website27,Website28,Website29,Website30,\n",
    "               Website31,Website32,Website33,Website34,Website35,Website36,Website37,Website38,Website39,Website40,\n",
    "               Website41,Website42,Website43,Website44,Website45,Website46,Website47,Website48,Website49,Website50,\n",
    "               Website51,Website52,Website53,Website54,Website55,Website56,Website57,Website58,Website59,Website60,\n",
    "               Website61,Website62,Website63,Website64,Website65,Website66,Website67,Website68,Website69,Website70,\n",
    "               Website71,Website72,Website73,Website74,Website75,Website76,Website77,Website78,Website79,Website80,\n",
    "               Website81,Website82,Website83,Website84,Website85,Website86,Website87,Website88,Website89,Website90,\n",
    "               Website91,Website92,Website93,Website94,Website95,Website96,Website97,Website98,Website99,Website100]\n",
    "\n",
    "\n",
    "i=0\n",
    "while i<99:\n",
    "    WebsiteList[i].addLinkTo(WebsiteList[i+1])\n",
    "    i+=1\n",
    "Website100.addLinkTo(Website1)\n",
    "\n",
    "\n",
    "networkCircle100 = Network()\n",
    "networkCircle100.addPages(Website1,Website2,Website3,Website4,Website5,Website6,Website7,Website8,Website9,Website10,\n",
    "                           Website11,Website12,Website13,Website14,Website15,Website16,Website17,Website18,Website19,Website20,\n",
    "                           Website21,Website22,Website23,Website24,Website25,Website26,Website27,Website28,Website29,Website30,\n",
    "                           Website31,Website32,Website33,Website34,Website35,Website36,Website37,Website38,Website39,Website40,\n",
    "                           Website41,Website42,Website43,Website44,Website45,Website46,Website47,Website48,Website49,Website50,\n",
    "                           Website51,Website52,Website53,Website54,Website55,Website56,Website57,Website58,Website59,Website60,\n",
    "                           Website61,Website62,Website63,Website64,Website65,Website66,Website67,Website68,Website69,Website70,\n",
    "                           Website71,Website72,Website73,Website74,Website75,Website76,Website77,Website78,Website79,Website80,\n",
    "                           Website81,Website82,Website83,Website84,Website85,Website86,Website87,Website88,Website89,Website90,\n",
    "                           Website91,Website92,Website93,Website94,Website95,Website96,Website97,Website98,Website99,Website100)"
   ]
  },
  {
   "cell_type": "code",
   "execution_count": 117,
   "metadata": {},
   "outputs": [
    {
     "name": "stdout",
     "output_type": "stream",
     "text": [
      "Website1: 0.009999999999999941\n",
      "Website2: 0.009999999999999941\n",
      "Website3: 0.009999999999999941\n",
      "Website4: 0.009999999999999941\n",
      "Website5: 0.009999999999999941\n",
      "Website6: 0.009999999999999941\n",
      "Website7: 0.009999999999999941\n",
      "Website8: 0.009999999999999941\n",
      "Website9: 0.009999999999999941\n",
      "Website10: 0.009999999999999941\n",
      "Website11: 0.009999999999999941\n",
      "Website12: 0.009999999999999941\n",
      "Website13: 0.009999999999999941\n",
      "Website14: 0.009999999999999941\n",
      "Website15: 0.009999999999999941\n",
      "Website16: 0.009999999999999941\n",
      "Website17: 0.009999999999999941\n",
      "Website18: 0.009999999999999941\n",
      "Website19: 0.009999999999999941\n",
      "Website20: 0.009999999999999941\n",
      "Website21: 0.009999999999999941\n",
      "Website22: 0.009999999999999941\n",
      "Website23: 0.009999999999999941\n",
      "Website24: 0.009999999999999941\n",
      "Website25: 0.009999999999999941\n",
      "Website26: 0.009999999999999941\n",
      "Website27: 0.009999999999999941\n",
      "Website28: 0.009999999999999941\n",
      "Website29: 0.009999999999999941\n",
      "Website30: 0.009999999999999941\n",
      "Website31: 0.009999999999999941\n",
      "Website32: 0.009999999999999941\n",
      "Website33: 0.009999999999999941\n",
      "Website34: 0.009999999999999941\n",
      "Website35: 0.009999999999999941\n",
      "Website36: 0.009999999999999941\n",
      "Website37: 0.009999999999999941\n",
      "Website38: 0.009999999999999941\n",
      "Website39: 0.009999999999999941\n",
      "Website40: 0.009999999999999941\n",
      "Website41: 0.009999999999999941\n",
      "Website42: 0.009999999999999941\n",
      "Website43: 0.009999999999999941\n",
      "Website44: 0.009999999999999941\n",
      "Website45: 0.009999999999999941\n",
      "Website46: 0.009999999999999941\n",
      "Website47: 0.009999999999999941\n",
      "Website48: 0.009999999999999941\n",
      "Website49: 0.009999999999999941\n",
      "Website50: 0.009999999999999941\n",
      "Website51: 0.009999999999999941\n",
      "Website52: 0.009999999999999941\n",
      "Website53: 0.009999999999999941\n",
      "Website54: 0.009999999999999941\n",
      "Website55: 0.009999999999999941\n",
      "Website56: 0.009999999999999941\n",
      "Website57: 0.009999999999999941\n",
      "Website58: 0.009999999999999941\n",
      "Website59: 0.009999999999999941\n",
      "Website60: 0.009999999999999941\n",
      "Website61: 0.009999999999999941\n",
      "Website62: 0.009999999999999941\n",
      "Website63: 0.009999999999999941\n",
      "Website64: 0.009999999999999941\n",
      "Website65: 0.009999999999999941\n",
      "Website66: 0.009999999999999941\n",
      "Website67: 0.009999999999999941\n",
      "Website68: 0.009999999999999941\n",
      "Website69: 0.009999999999999941\n",
      "Website70: 0.009999999999999941\n",
      "Website71: 0.009999999999999941\n",
      "Website72: 0.009999999999999941\n",
      "Website73: 0.009999999999999941\n",
      "Website74: 0.009999999999999941\n",
      "Website75: 0.009999999999999941\n",
      "Website76: 0.009999999999999941\n",
      "Website77: 0.009999999999999941\n",
      "Website78: 0.009999999999999941\n",
      "Website79: 0.009999999999999941\n",
      "Website80: 0.009999999999999941\n",
      "Website81: 0.009999999999999941\n",
      "Website82: 0.009999999999999941\n",
      "Website83: 0.009999999999999941\n",
      "Website84: 0.009999999999999941\n",
      "Website85: 0.009999999999999941\n",
      "Website86: 0.009999999999999941\n",
      "Website87: 0.009999999999999941\n",
      "Website88: 0.009999999999999941\n",
      "Website89: 0.009999999999999941\n",
      "Website90: 0.009999999999999941\n",
      "Website91: 0.009999999999999941\n",
      "Website92: 0.009999999999999941\n",
      "Website93: 0.009999999999999941\n",
      "Website94: 0.009999999999999941\n",
      "Website95: 0.009999999999999941\n",
      "Website96: 0.009999999999999941\n",
      "Website97: 0.009999999999999941\n",
      "Website98: 0.009999999999999941\n",
      "Website99: 0.009999999999999941\n",
      "Website100: 0.009999999999999941\n",
      "0.9999999999999925\n"
     ]
    }
   ],
   "source": [
    "PageRanker.rankCR(networkCircle100, 100, 0.5)\n",
    "networkCircle100.showRanking()\n",
    "networkCircle100.debugRanking()"
   ]
  },
  {
   "cell_type": "code",
   "execution_count": 118,
   "metadata": {},
   "outputs": [
    {
     "name": "stdout",
     "output_type": "stream",
     "text": [
      "Website1: 0.009999999999999993\n",
      "Website2: 0.009999999999999993\n",
      "Website3: 0.009999999999999993\n",
      "Website4: 0.009999999999999993\n",
      "Website5: 0.009999999999999993\n",
      "Website6: 0.009999999999999993\n",
      "Website7: 0.009999999999999993\n",
      "Website8: 0.009999999999999993\n",
      "Website9: 0.009999999999999993\n",
      "Website10: 0.009999999999999993\n",
      "Website11: 0.009999999999999993\n",
      "Website12: 0.009999999999999993\n",
      "Website13: 0.009999999999999993\n",
      "Website14: 0.009999999999999993\n",
      "Website15: 0.009999999999999993\n",
      "Website16: 0.009999999999999993\n",
      "Website17: 0.009999999999999993\n",
      "Website18: 0.009999999999999993\n",
      "Website19: 0.009999999999999993\n",
      "Website20: 0.009999999999999993\n",
      "Website21: 0.009999999999999993\n",
      "Website22: 0.009999999999999993\n",
      "Website23: 0.009999999999999993\n",
      "Website24: 0.009999999999999993\n",
      "Website25: 0.009999999999999993\n",
      "Website26: 0.009999999999999993\n",
      "Website27: 0.009999999999999993\n",
      "Website28: 0.009999999999999993\n",
      "Website29: 0.009999999999999993\n",
      "Website30: 0.009999999999999993\n",
      "Website31: 0.009999999999999993\n",
      "Website32: 0.009999999999999993\n",
      "Website33: 0.009999999999999993\n",
      "Website34: 0.009999999999999993\n",
      "Website35: 0.009999999999999993\n",
      "Website36: 0.009999999999999993\n",
      "Website37: 0.009999999999999993\n",
      "Website38: 0.009999999999999993\n",
      "Website39: 0.009999999999999993\n",
      "Website40: 0.009999999999999993\n",
      "Website41: 0.009999999999999993\n",
      "Website42: 0.009999999999999993\n",
      "Website43: 0.009999999999999993\n",
      "Website44: 0.009999999999999993\n",
      "Website45: 0.009999999999999993\n",
      "Website46: 0.009999999999999993\n",
      "Website47: 0.009999999999999993\n",
      "Website48: 0.009999999999999993\n",
      "Website49: 0.009999999999999993\n",
      "Website50: 0.009999999999999993\n",
      "Website51: 0.009999999999999993\n",
      "Website52: 0.009999999999999993\n",
      "Website53: 0.009999999999999993\n",
      "Website54: 0.009999999999999993\n",
      "Website55: 0.009999999999999993\n",
      "Website56: 0.009999999999999993\n",
      "Website57: 0.009999999999999993\n",
      "Website58: 0.009999999999999993\n",
      "Website59: 0.009999999999999993\n",
      "Website60: 0.009999999999999993\n",
      "Website61: 0.009999999999999993\n",
      "Website62: 0.009999999999999993\n",
      "Website63: 0.009999999999999993\n",
      "Website64: 0.009999999999999993\n",
      "Website65: 0.009999999999999993\n",
      "Website66: 0.009999999999999993\n",
      "Website67: 0.009999999999999993\n",
      "Website68: 0.009999999999999993\n",
      "Website69: 0.009999999999999993\n",
      "Website70: 0.009999999999999993\n",
      "Website71: 0.009999999999999993\n",
      "Website72: 0.009999999999999993\n",
      "Website73: 0.009999999999999993\n",
      "Website74: 0.009999999999999993\n",
      "Website75: 0.009999999999999993\n",
      "Website76: 0.009999999999999993\n",
      "Website77: 0.009999999999999993\n",
      "Website78: 0.009999999999999993\n",
      "Website79: 0.009999999999999993\n",
      "Website80: 0.009999999999999993\n",
      "Website81: 0.009999999999999993\n",
      "Website82: 0.009999999999999993\n",
      "Website83: 0.009999999999999993\n",
      "Website84: 0.009999999999999993\n",
      "Website85: 0.009999999999999993\n",
      "Website86: 0.009999999999999993\n",
      "Website87: 0.009999999999999993\n",
      "Website88: 0.009999999999999993\n",
      "Website89: 0.009999999999999993\n",
      "Website90: 0.009999999999999993\n",
      "Website91: 0.009999999999999993\n",
      "Website92: 0.009999999999999993\n",
      "Website93: 0.009999999999999993\n",
      "Website94: 0.009999999999999993\n",
      "Website95: 0.009999999999999993\n",
      "Website96: 0.009999999999999993\n",
      "Website97: 0.009999999999999993\n",
      "Website98: 0.009999999999999993\n",
      "Website99: 0.009999999999999993\n",
      "Website100: 0.009999999999999993\n",
      "1.0000000000000002\n"
     ]
    }
   ],
   "source": [
    "PageRanker.rank(networkCircle100, 100, 0.5)\n",
    "networkCircle100.showRanking()\n",
    "networkCircle100.debugRanking()"
   ]
  },
  {
   "cell_type": "code",
   "execution_count": null,
   "metadata": {
    "collapsed": true
   },
   "outputs": [],
   "source": []
  },
  {
   "cell_type": "code",
   "execution_count": null,
   "metadata": {
    "collapsed": true
   },
   "outputs": [],
   "source": []
  },
  {
   "cell_type": "code",
   "execution_count": null,
   "metadata": {
    "collapsed": true
   },
   "outputs": [],
   "source": []
  },
  {
   "cell_type": "code",
   "execution_count": null,
   "metadata": {
    "collapsed": true
   },
   "outputs": [],
   "source": []
  },
  {
   "cell_type": "code",
   "execution_count": null,
   "metadata": {
    "collapsed": true
   },
   "outputs": [],
   "source": []
  },
  {
   "cell_type": "code",
   "execution_count": null,
   "metadata": {
    "collapsed": true
   },
   "outputs": [],
   "source": []
  },
  {
   "cell_type": "code",
   "execution_count": null,
   "metadata": {
    "collapsed": true
   },
   "outputs": [],
   "source": []
  },
  {
   "cell_type": "markdown",
   "metadata": {},
   "source": [
    "### Cluster"
   ]
  },
  {
   "cell_type": "code",
   "execution_count": 141,
   "metadata": {},
   "outputs": [],
   "source": [
    "Website1 = Page(\"Website1\")\n",
    "Website2 = Page(\"Website2\")\n",
    "Website3 = Page(\"Website3\")\n",
    "Website4 = Page(\"Website4\")\n",
    "Website5 = Page(\"Website5\")\n",
    "Website6 = Page(\"Website6\")\n",
    "Website7 = Page(\"Website7\")\n",
    "Website8 = Page(\"Website8\")\n",
    "Website9 = Page(\"Website9\")\n",
    "Website10 = Page(\"Website10\")\n",
    "Website11 = Page(\"Website11\")\n",
    "Website12 = Page(\"Website12\")\n",
    "Website13 = Page(\"Website13\")\n",
    "Website14 = Page(\"Website14\")\n",
    "Website15 = Page(\"Website15\")\n",
    "Website16 = Page(\"Website16\")\n",
    "Website17 = Page(\"Website17\")\n",
    "Website18 = Page(\"Website18\")\n",
    "Website19 = Page(\"Website19\")\n",
    "Website20 = Page(\"Website20\")\n",
    "Website21 = Page(\"Website21\")\n",
    "Website22 = Page(\"Website22\")\n",
    "Website23 = Page(\"Website23\")\n",
    "Website24 = Page(\"Website24\")\n",
    "Website25 = Page(\"Website25\")\n",
    "Website26 = Page(\"Website26\")\n",
    "Website27 = Page(\"Website27\")\n",
    "Website28 = Page(\"Website28\")\n",
    "Website29 = Page(\"Website29\")\n",
    "Website30 = Page(\"Website30\")\n",
    "Website31 = Page(\"Website31\")\n",
    "Website32 = Page(\"Website32\")\n",
    "Website33 = Page(\"Website33\")\n",
    "Website34 = Page(\"Website34\")\n",
    "Website35 = Page(\"Website35\")\n",
    "Website36 = Page(\"Website36\")\n",
    "Website37 = Page(\"Website37\")\n",
    "Website38 = Page(\"Website38\")\n",
    "Website39 = Page(\"Website39\")\n",
    "Website40 = Page(\"Website40\")\n",
    "Website41 = Page(\"Website41\")\n",
    "Website42 = Page(\"Website42\")\n",
    "Website43 = Page(\"Website43\")\n",
    "Website44 = Page(\"Website44\")\n",
    "Website45 = Page(\"Website45\")\n",
    "Website46 = Page(\"Website46\")\n",
    "Website47 = Page(\"Website47\")\n",
    "Website48 = Page(\"Website48\")\n",
    "Website49 = Page(\"Website49\")\n",
    "Website50 = Page(\"Website50\")\n",
    "Website51 = Page(\"Website51\")\n",
    "Website52 = Page(\"Website52\")\n",
    "Website53 = Page(\"Website53\")\n",
    "Website54 = Page(\"Website54\")\n",
    "Website55 = Page(\"Website55\")\n",
    "Website56 = Page(\"Website56\")\n",
    "Website57 = Page(\"Website57\")\n",
    "Website58 = Page(\"Website58\")\n",
    "Website59 = Page(\"Website59\")\n",
    "Website60 = Page(\"Website60\")\n",
    "Website61 = Page(\"Website61\")\n",
    "Website62 = Page(\"Website62\")\n",
    "Website63 = Page(\"Website63\")\n",
    "Website64 = Page(\"Website64\")\n",
    "Website65 = Page(\"Website65\")\n",
    "Website66 = Page(\"Website66\")\n",
    "Website67 = Page(\"Website67\")\n",
    "Website68 = Page(\"Website68\")\n",
    "Website69 = Page(\"Website69\")\n",
    "Website70 = Page(\"Website70\")\n",
    "Website71 = Page(\"Website71\")\n",
    "Website72 = Page(\"Website72\")\n",
    "Website73 = Page(\"Website73\")\n",
    "Website74 = Page(\"Website74\")\n",
    "Website75 = Page(\"Website75\")\n",
    "Website76 = Page(\"Website76\")\n",
    "Website77 = Page(\"Website77\")\n",
    "Website78 = Page(\"Website78\")\n",
    "Website79 = Page(\"Website79\")\n",
    "Website80 = Page(\"Website80\")\n",
    "Website81 = Page(\"Website81\")\n",
    "Website82 = Page(\"Website82\")\n",
    "Website83 = Page(\"Website83\")\n",
    "Website84 = Page(\"Website84\")\n",
    "Website85 = Page(\"Website85\")\n",
    "Website86 = Page(\"Website86\")\n",
    "Website87 = Page(\"Website87\")\n",
    "Website88 = Page(\"Website88\")\n",
    "Website89 = Page(\"Website89\")\n",
    "Website90 = Page(\"Website90\")\n",
    "Website91 = Page(\"Website91\")\n",
    "Website92 = Page(\"Website92\")\n",
    "Website93 = Page(\"Website93\")\n",
    "Website94 = Page(\"Website94\")\n",
    "Website95 = Page(\"Website95\")\n",
    "Website96 = Page(\"Website96\")\n",
    "Website97 = Page(\"Website97\")\n",
    "Website98 = Page(\"Website98\")\n",
    "Website99 = Page(\"Website99\")\n",
    "Website100 = Page(\"Website100\")\n",
    "\n",
    "WebsiteList = [Website1,Website2,Website3,Website4,Website5,Website6,Website7,Website8,Website9,Website10,\n",
    "               Website11,Website12,Website13,Website14,Website15,Website16,Website17,Website18,Website19,Website20,\n",
    "               Website21,Website22,Website23,Website24,Website25,Website26,Website27,Website28,Website29,Website30,\n",
    "               Website31,Website32,Website33,Website34,Website35,Website36,Website37,Website38,Website39,Website40,\n",
    "               Website41,Website42,Website43,Website44,Website45,Website46,Website47,Website48,Website49,Website50,\n",
    "               Website51,Website52,Website53,Website54,Website55,Website56,Website57,Website58,Website59,Website60,\n",
    "               Website61,Website62,Website63,Website64,Website65,Website66,Website67,Website68,Website69,Website70,\n",
    "               Website71,Website72,Website73,Website74,Website75,Website76,Website77,Website78,Website79,Website80,\n",
    "               Website81,Website82,Website83,Website84,Website85,Website86,Website87,Website88,Website89,Website90,\n",
    "               Website91,Website92,Website93,Website94,Website95,Website96,Website97,Website98,Website99,Website100]\n",
    "\n",
    "\n",
    "i=0\n",
    "j=0\n",
    "while i<50:\n",
    "    while j<50:\n",
    "        if i != j:\n",
    "            WebsiteList[i].addLinkTo(WebsiteList[j])\n",
    "        j+=1\n",
    "    j=0\n",
    "    i+=1\n",
    "i=50\n",
    "j=50\n",
    "while i<100:\n",
    "    while j<100:\n",
    "        if i != j:\n",
    "            WebsiteList[i].addLinkTo(WebsiteList[j])\n",
    "        j+=1\n",
    "    j=50\n",
    "    i+=1\n",
    "    \n",
    "Website50.addLinkTo(Website51)\n",
    "Website51.addLinkTo(Website50)\n",
    "\n",
    "\n",
    "\n",
    "networkCluster100 = Network()\n",
    "networkCluster100.addPages(Website1,Website2,Website3,Website4,Website5,Website6,Website7,Website8,Website9,Website10,\n",
    "                           Website11,Website12,Website13,Website14,Website15,Website16,Website17,Website18,Website19,Website20,\n",
    "                           Website21,Website22,Website23,Website24,Website25,Website26,Website27,Website28,Website29,Website30,\n",
    "                           Website31,Website32,Website33,Website34,Website35,Website36,Website37,Website38,Website39,Website40,\n",
    "                           Website41,Website42,Website43,Website44,Website45,Website46,Website47,Website48,Website49,Website50,\n",
    "                           Website51,Website52,Website53,Website54,Website55,Website56,Website57,Website58,Website59,Website60,\n",
    "                           Website61,Website62,Website63,Website64,Website65,Website66,Website67,Website68,Website69,Website70,\n",
    "                           Website71,Website72,Website73,Website74,Website75,Website76,Website77,Website78,Website79,Website80,\n",
    "                           Website81,Website82,Website83,Website84,Website85,Website86,Website87,Website88,Website89,Website90,\n",
    "                           Website91,Website92,Website93,Website94,Website95,Website96,Website97,Website98,Website99,Website100)"
   ]
  },
  {
   "cell_type": "code",
   "execution_count": 142,
   "metadata": {},
   "outputs": [
    {
     "name": "stdout",
     "output_type": "stream",
     "text": [
      "Website1: 0.009997959600081475\n",
      "Website2: 0.009997959600081475\n",
      "Website3: 0.009997959600081475\n",
      "Website4: 0.009997959600081475\n",
      "Website5: 0.009997959600081475\n",
      "Website6: 0.009997959600081475\n",
      "Website7: 0.009997959600081475\n",
      "Website8: 0.009997959600081475\n",
      "Website9: 0.009997959600081475\n",
      "Website10: 0.009997959600081475\n",
      "Website11: 0.009997959600081475\n",
      "Website12: 0.009997959600081475\n",
      "Website13: 0.009997959600081475\n",
      "Website14: 0.009997959600081475\n",
      "Website15: 0.009997959600081475\n",
      "Website16: 0.009997959600081475\n",
      "Website17: 0.009997959600081475\n",
      "Website18: 0.009997959600081475\n",
      "Website19: 0.009997959600081475\n",
      "Website20: 0.009997959600081475\n",
      "Website21: 0.009997959600081475\n",
      "Website22: 0.009997959600081475\n",
      "Website23: 0.009997959600081475\n",
      "Website24: 0.009997959600081475\n",
      "Website25: 0.009997959600081475\n",
      "Website26: 0.009997959600081475\n",
      "Website27: 0.009997959600081475\n",
      "Website28: 0.009997959600081475\n",
      "Website29: 0.009997959600081475\n",
      "Website30: 0.009997959600081475\n",
      "Website31: 0.009997959600081475\n",
      "Website32: 0.009997959600081475\n",
      "Website33: 0.009997959600081475\n",
      "Website34: 0.009997959600081475\n",
      "Website35: 0.009997959600081475\n",
      "Website36: 0.009997959600081475\n",
      "Website37: 0.009997959600081475\n",
      "Website38: 0.009997959600081475\n",
      "Website39: 0.009997959600081475\n",
      "Website40: 0.009997959600081475\n",
      "Website41: 0.009997959600081475\n",
      "Website42: 0.009997959600081475\n",
      "Website43: 0.009997959600081475\n",
      "Website44: 0.009997959600081475\n",
      "Website45: 0.009997959600081475\n",
      "Website46: 0.009997959600081475\n",
      "Website47: 0.009997959600081475\n",
      "Website48: 0.009997959600081475\n",
      "Website49: 0.009997959600081475\n",
      "Website50: 0.010099979596000674\n",
      "Website51: 0.010099979596000687\n",
      "Website52: 0.009997959600081487\n",
      "Website53: 0.009997959600081487\n",
      "Website54: 0.009997959600081487\n",
      "Website55: 0.009997959600081487\n",
      "Website56: 0.009997959600081487\n",
      "Website57: 0.009997959600081487\n",
      "Website58: 0.009997959600081487\n",
      "Website59: 0.009997959600081487\n",
      "Website60: 0.009997959600081487\n",
      "Website61: 0.009997959600081487\n",
      "Website62: 0.009997959600081487\n",
      "Website63: 0.009997959600081487\n",
      "Website64: 0.009997959600081487\n",
      "Website65: 0.009997959600081487\n",
      "Website66: 0.009997959600081487\n",
      "Website67: 0.009997959600081487\n",
      "Website68: 0.009997959600081487\n",
      "Website69: 0.009997959600081487\n",
      "Website70: 0.009997959600081487\n",
      "Website71: 0.009997959600081487\n",
      "Website72: 0.009997959600081487\n",
      "Website73: 0.009997959600081487\n",
      "Website74: 0.009997959600081487\n",
      "Website75: 0.009997959600081487\n",
      "Website76: 0.009997959600081487\n",
      "Website77: 0.009997959600081487\n",
      "Website78: 0.009997959600081487\n",
      "Website79: 0.009997959600081487\n",
      "Website80: 0.009997959600081487\n",
      "Website81: 0.009997959600081487\n",
      "Website82: 0.009997959600081487\n",
      "Website83: 0.009997959600081487\n",
      "Website84: 0.009997959600081487\n",
      "Website85: 0.009997959600081487\n",
      "Website86: 0.009997959600081487\n",
      "Website87: 0.009997959600081487\n",
      "Website88: 0.009997959600081487\n",
      "Website89: 0.009997959600081487\n",
      "Website90: 0.009997959600081487\n",
      "Website91: 0.009997959600081487\n",
      "Website92: 0.009997959600081487\n",
      "Website93: 0.009997959600081487\n",
      "Website94: 0.009997959600081487\n",
      "Website95: 0.009997959600081487\n",
      "Website96: 0.009997959600081487\n",
      "Website97: 0.009997959600081487\n",
      "Website98: 0.009997959600081487\n",
      "Website99: 0.009997959600081487\n",
      "Website100: 0.009997959600081487\n",
      "0.9999999999999895\n"
     ]
    }
   ],
   "source": [
    "PageRanker.rankCR(networkCluster100, 100, 0.5)\n",
    "networkCluster100.showRanking()\n",
    "networkCluster100.debugRanking()"
   ]
  },
  {
   "cell_type": "code",
   "execution_count": 143,
   "metadata": {},
   "outputs": [
    {
     "name": "stdout",
     "output_type": "stream",
     "text": [
      "Website1: 0.009997959600081601\n",
      "Website2: 0.009997959600081601\n",
      "Website3: 0.009997959600081601\n",
      "Website4: 0.009997959600081601\n",
      "Website5: 0.009997959600081601\n",
      "Website6: 0.009997959600081601\n",
      "Website7: 0.009997959600081601\n",
      "Website8: 0.009997959600081601\n",
      "Website9: 0.009997959600081601\n",
      "Website10: 0.009997959600081601\n",
      "Website11: 0.009997959600081601\n",
      "Website12: 0.009997959600081601\n",
      "Website13: 0.009997959600081601\n",
      "Website14: 0.009997959600081601\n",
      "Website15: 0.009997959600081601\n",
      "Website16: 0.009997959600081601\n",
      "Website17: 0.009997959600081601\n",
      "Website18: 0.009997959600081601\n",
      "Website19: 0.009997959600081601\n",
      "Website20: 0.009997959600081601\n",
      "Website21: 0.009997959600081601\n",
      "Website22: 0.009997959600081601\n",
      "Website23: 0.009997959600081601\n",
      "Website24: 0.009997959600081601\n",
      "Website25: 0.009997959600081601\n",
      "Website26: 0.009997959600081601\n",
      "Website27: 0.009997959600081601\n",
      "Website28: 0.009997959600081601\n",
      "Website29: 0.009997959600081601\n",
      "Website30: 0.009997959600081601\n",
      "Website31: 0.009997959600081601\n",
      "Website32: 0.009997959600081601\n",
      "Website33: 0.009997959600081601\n",
      "Website34: 0.009997959600081601\n",
      "Website35: 0.009997959600081601\n",
      "Website36: 0.009997959600081601\n",
      "Website37: 0.009997959600081601\n",
      "Website38: 0.009997959600081601\n",
      "Website39: 0.009997959600081601\n",
      "Website40: 0.009997959600081601\n",
      "Website41: 0.009997959600081601\n",
      "Website42: 0.009997959600081601\n",
      "Website43: 0.009997959600081601\n",
      "Website44: 0.009997959600081601\n",
      "Website45: 0.009997959600081601\n",
      "Website46: 0.009997959600081601\n",
      "Website47: 0.009997959600081601\n",
      "Website48: 0.009997959600081601\n",
      "Website49: 0.009997959600081601\n",
      "Website50: 0.010099979596000803\n",
      "Website51: 0.010099979596000805\n",
      "Website52: 0.009997959600081603\n",
      "Website53: 0.009997959600081603\n",
      "Website54: 0.009997959600081603\n",
      "Website55: 0.009997959600081603\n",
      "Website56: 0.009997959600081603\n",
      "Website57: 0.009997959600081603\n",
      "Website58: 0.009997959600081603\n",
      "Website59: 0.009997959600081603\n",
      "Website60: 0.009997959600081603\n",
      "Website61: 0.009997959600081603\n",
      "Website62: 0.009997959600081603\n",
      "Website63: 0.009997959600081603\n",
      "Website64: 0.009997959600081603\n",
      "Website65: 0.009997959600081603\n",
      "Website66: 0.009997959600081603\n",
      "Website67: 0.009997959600081603\n",
      "Website68: 0.009997959600081603\n",
      "Website69: 0.009997959600081603\n",
      "Website70: 0.009997959600081603\n",
      "Website71: 0.009997959600081603\n",
      "Website72: 0.009997959600081603\n",
      "Website73: 0.009997959600081603\n",
      "Website74: 0.009997959600081603\n",
      "Website75: 0.009997959600081603\n",
      "Website76: 0.009997959600081603\n",
      "Website77: 0.009997959600081603\n",
      "Website78: 0.009997959600081603\n",
      "Website79: 0.009997959600081603\n",
      "Website80: 0.009997959600081603\n",
      "Website81: 0.009997959600081603\n",
      "Website82: 0.009997959600081603\n",
      "Website83: 0.009997959600081603\n",
      "Website84: 0.009997959600081603\n",
      "Website85: 0.009997959600081603\n",
      "Website86: 0.009997959600081603\n",
      "Website87: 0.009997959600081603\n",
      "Website88: 0.009997959600081603\n",
      "Website89: 0.009997959600081603\n",
      "Website90: 0.009997959600081603\n",
      "Website91: 0.009997959600081603\n",
      "Website92: 0.009997959600081603\n",
      "Website93: 0.009997959600081603\n",
      "Website94: 0.009997959600081603\n",
      "Website95: 0.009997959600081603\n",
      "Website96: 0.009997959600081603\n",
      "Website97: 0.009997959600081603\n",
      "Website98: 0.009997959600081603\n",
      "Website99: 0.009997959600081603\n",
      "Website100: 0.009997959600081603\n",
      "1.0000000000000007\n"
     ]
    }
   ],
   "source": [
    "PageRanker.rank(networkCluster100, 100, 0.5)\n",
    "networkCluster100.showRanking()\n",
    "networkCluster100.debugRanking()"
   ]
  },
  {
   "cell_type": "code",
   "execution_count": null,
   "metadata": {
    "collapsed": true
   },
   "outputs": [],
   "source": []
  }
 ],
 "metadata": {
  "kernelspec": {
   "display_name": "Python 3",
   "language": "python",
   "name": "python3"
  },
  "language_info": {
   "codemirror_mode": {
    "name": "ipython",
    "version": 3
   },
   "file_extension": ".py",
   "mimetype": "text/x-python",
   "name": "python",
   "nbconvert_exporter": "python",
   "pygments_lexer": "ipython3",
   "version": "3.6.2"
  }
 },
 "nbformat": 4,
 "nbformat_minor": 2
}
